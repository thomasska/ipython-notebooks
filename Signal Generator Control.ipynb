{
 "metadata": {
  "name": "Signal Generator Control"
 },
 "nbformat": 3,
 "nbformat_minor": 0,
 "worksheets": [
  {
   "cells": [
    {
     "cell_type": "markdown",
     "metadata": {},
     "source": [
      "Signal Generator Test\n",
      "------------\n",
      "\n",
      "Links to the [Lantronix](http://192.168.1.249/). Username  *admin*  blank password  "
     ]
    },
    {
     "cell_type": "code",
     "collapsed": false,
     "input": [
      "# Connect and set up.\n",
      "import socket, time, datetime, array, numpy\n",
      "sg = socket.socket(socket.AF_INET, socket.SOCK_STREAM);  sg.setblocking(0); sg.settimeout(1.0)\n",
      "sg.connect(('192.168.4.33', 10001));  # Lantronix TCP-RS232 converter     In the lab: 192.168.4.33"
     ],
     "language": "python",
     "metadata": {},
     "outputs": [],
     "prompt_number": 69
    },
    {
     "cell_type": "code",
     "collapsed": false,
     "input": [
      "# Disconnect\n",
      "sg.close();"
     ],
     "language": "python",
     "metadata": {},
     "outputs": [],
     "prompt_number": 73
    },
    {
     "cell_type": "code",
     "collapsed": false,
     "input": [
      "print('Resetting signal generator');   # reset\n",
      "sg.send('*RST\\n');"
     ],
     "language": "python",
     "metadata": {},
     "outputs": [
      {
       "output_type": "stream",
       "stream": "stdout",
       "text": [
        "Resetting signal generator\n",
        "Identification : ROHDE&SCHWARZ,SML03,103502/0013,2.51.12"
       ]
      },
      {
       "output_type": "stream",
       "stream": "stdout",
       "text": [
        "\n",
        "Error report   : 0"
       ]
      },
      {
       "output_type": "stream",
       "stream": "stdout",
       "text": [
        "\n"
       ]
      }
     ],
     "prompt_number": 129
    },
    {
     "cell_type": "code",
     "collapsed": false,
     "input": [
      "# retrieve current frequency, power and output status\n",
      "sg.send('*IDN?\\n');  time.sleep(1);  reply=sg.recv(100); reply=reply[:-2];  print('Identification : %s' % reply)\n",
      "sg.send('*TST?\\n');  time.sleep(1);  reply=sg.recv(100); reply=reply[:-2];  print('Error report   : %s' % reply)\n",
      "sg.send('FREQuency?\\n');  time.sleep(1);  reply=sg.recv(100); reply=reply[:-2]; reply=float(reply)/1.0e6; print('Frequency : %7.3f MHz' % reply)\n",
      "sg.send('POW?\\n');  time.sleep(1);  reply=sg.recv(100); reply=reply[:-2];  reply=float(reply); print('Power     : %7.1f dBm' % reply)\n",
      "sg.send('OUTPut?\\n');  time.sleep(1);  reply=sg.recv(100); reply=reply[:-2];\n",
      "if reply[0]=='1':\n",
      "    print('Output    :  ON');\n",
      "else:\n",
      "    print('Output    :  OFF');"
     ],
     "language": "python",
     "metadata": {},
     "outputs": [
      {
       "output_type": "stream",
       "stream": "stdout",
       "text": [
        "Identification : ROHDE&SCHWARZ,SML03,103502/0013,2.51.12\n",
        "Error report   : 0"
       ]
      },
      {
       "output_type": "stream",
       "stream": "stdout",
       "text": [
        "\n",
        "Frequency : 751.508 MHz"
       ]
      },
      {
       "output_type": "stream",
       "stream": "stdout",
       "text": [
        "\n",
        "Power     :   -10.0 dBm"
       ]
      },
      {
       "output_type": "stream",
       "stream": "stdout",
       "text": [
        "\n",
        "Output    :  ON"
       ]
      },
      {
       "output_type": "stream",
       "stream": "stdout",
       "text": [
        "\n"
       ]
      }
     ],
     "prompt_number": 72
    },
    {
     "cell_type": "code",
     "collapsed": false,
     "input": [
      "sg.send('OUTP ON\\n');"
     ],
     "language": "python",
     "metadata": {},
     "outputs": [],
     "prompt_number": 71
    },
    {
     "cell_type": "code",
     "collapsed": false,
     "input": [
      "sg.send('POWER -10\\n');"
     ],
     "language": "python",
     "metadata": {},
     "outputs": [],
     "prompt_number": 57
    },
    {
     "cell_type": "code",
     "collapsed": false,
     "input": [
      "targetchannel=500.0;                          # set frequency to a particular channel in the 4k mode\n",
      "f=856.0*(1.0-targetchannel/4096.0);\n",
      "print('Setting frequency to %g MHz' % f);\n",
      "sg.send('FREQ %g\\n' % (f*1.0e6));"
     ],
     "language": "python",
     "metadata": {},
     "outputs": [
      {
       "output_type": "stream",
       "stream": "stdout",
       "text": [
        "Setting frequency to 751.508 MHz\n"
       ]
      }
     ],
     "prompt_number": 56
    },
    {
     "cell_type": "code",
     "collapsed": false,
     "input": [
      "# send some commands to change frequency\n",
      "freq = np.arange(1000.0,2000.0,50.0);         # MHz\n",
      "\n",
      "# start up\n",
      "sg.send('OUTP ON\\n');\n",
      "\n",
      "# loop\n",
      "for a,f in enumerate(freq):\n",
      "    print('Test %2i, Freq %7.3f MHz' % (a,f*1.0e6))\n",
      "    sg.send('FREQ %g\\n' % (f*1.0e6));\n",
      "    time.sleep(0.25)\n",
      "    \n",
      "# clean up\n",
      "sg.send('OUTP OFF\\n');\n",
      "sg.send('FREQ 1e8\\n');\n"
     ],
     "language": "python",
     "metadata": {},
     "outputs": [
      {
       "output_type": "stream",
       "stream": "stdout",
       "text": [
        "Test  0, Freq 1000000000.000 MHz\n",
        "Test  1, Freq 1050000000.000 MHz"
       ]
      },
      {
       "output_type": "stream",
       "stream": "stdout",
       "text": [
        "\n",
        "Test  2, Freq 1100000000.000 MHz"
       ]
      },
      {
       "output_type": "stream",
       "stream": "stdout",
       "text": [
        "\n",
        "Test  3, Freq 1150000000.000 MHz"
       ]
      },
      {
       "output_type": "stream",
       "stream": "stdout",
       "text": [
        "\n",
        "Test  4, Freq 1200000000.000 MHz"
       ]
      },
      {
       "output_type": "stream",
       "stream": "stdout",
       "text": [
        "\n",
        "Test  5, Freq 1250000000.000 MHz"
       ]
      },
      {
       "output_type": "stream",
       "stream": "stdout",
       "text": [
        "\n",
        "Test  6, Freq 1300000000.000 MHz"
       ]
      },
      {
       "output_type": "stream",
       "stream": "stdout",
       "text": [
        "\n",
        "Test  7, Freq 1350000000.000 MHz"
       ]
      },
      {
       "output_type": "stream",
       "stream": "stdout",
       "text": [
        "\n",
        "Test  8, Freq 1400000000.000 MHz"
       ]
      },
      {
       "output_type": "stream",
       "stream": "stdout",
       "text": [
        "\n",
        "Test  9, Freq 1450000000.000 MHz"
       ]
      },
      {
       "output_type": "stream",
       "stream": "stdout",
       "text": [
        "\n",
        "Test 10, Freq 1500000000.000 MHz"
       ]
      },
      {
       "output_type": "stream",
       "stream": "stdout",
       "text": [
        "\n",
        "Test 11, Freq 1550000000.000 MHz"
       ]
      },
      {
       "output_type": "stream",
       "stream": "stdout",
       "text": [
        "\n",
        "Test 12, Freq 1600000000.000 MHz"
       ]
      },
      {
       "output_type": "stream",
       "stream": "stdout",
       "text": [
        "\n",
        "Test 13, Freq 1650000000.000 MHz"
       ]
      },
      {
       "output_type": "stream",
       "stream": "stdout",
       "text": [
        "\n",
        "Test 14, Freq 1700000000.000 MHz"
       ]
      },
      {
       "output_type": "stream",
       "stream": "stdout",
       "text": [
        "\n",
        "Test 15, Freq 1750000000.000 MHz"
       ]
      },
      {
       "output_type": "stream",
       "stream": "stdout",
       "text": [
        "\n",
        "Test 16, Freq 1800000000.000 MHz"
       ]
      },
      {
       "output_type": "stream",
       "stream": "stdout",
       "text": [
        "\n",
        "Test 17, Freq 1850000000.000 MHz"
       ]
      },
      {
       "output_type": "stream",
       "stream": "stdout",
       "text": [
        "\n",
        "Test 18, Freq 1900000000.000 MHz"
       ]
      },
      {
       "output_type": "stream",
       "stream": "stdout",
       "text": [
        "\n",
        "Test 19, Freq 1950000000.000 MHz"
       ]
      },
      {
       "output_type": "stream",
       "stream": "stdout",
       "text": [
        "\n"
       ]
      }
     ],
     "prompt_number": 78
    },
    {
     "cell_type": "code",
     "collapsed": false,
     "input": [
      "# Long continuous test - to see if the connection is reliable for a large number of messages\n",
      "import random\n",
      "n=0;\n",
      "random.seed(0)\n",
      "while True:\n",
      "    sg.send('FREQ %14.11f\\n' % (1.0e9+random.random()*2.0e9));\n",
      "    n=n+1;\n",
      "    time.sleep(0.1);\n",
      "    if (n % 500) == 0:\n",
      "        print('Tested %3ik OK at time %s' % (n/1000,datetime.datetime.now().time()))"
     ],
     "language": "python",
     "metadata": {},
     "outputs": [
      {
       "output_type": "stream",
       "stream": "stdout",
       "text": [
        "Tested   0k OK at time 13:31:25.444918\n",
        "Tested   1k OK at time 13:32:15.551042"
       ]
      },
      {
       "output_type": "stream",
       "stream": "stdout",
       "text": [
        "\n",
        "Tested   1k OK at time 13:33:05.657977"
       ]
      },
      {
       "output_type": "stream",
       "stream": "stdout",
       "text": [
        "\n",
        "Tested   2k OK at time 13:33:55.766489"
       ]
      },
      {
       "output_type": "stream",
       "stream": "stdout",
       "text": [
        "\n",
        "Tested   2k OK at time 13:34:45.874925"
       ]
      },
      {
       "output_type": "stream",
       "stream": "stdout",
       "text": [
        "\n",
        "Tested   3k OK at time 13:35:35.983694"
       ]
      },
      {
       "output_type": "stream",
       "stream": "stdout",
       "text": [
        "\n",
        "Tested   3k OK at time 13:36:26.092451"
       ]
      },
      {
       "output_type": "stream",
       "stream": "stdout",
       "text": [
        "\n",
        "Tested   4k OK at time 13:37:16.201472"
       ]
      },
      {
       "output_type": "stream",
       "stream": "stdout",
       "text": [
        "\n",
        "Tested   4k OK at time 13:38:06.310711"
       ]
      },
      {
       "output_type": "stream",
       "stream": "stdout",
       "text": [
        "\n",
        "Tested   5k OK at time 13:38:56.419556"
       ]
      },
      {
       "output_type": "stream",
       "stream": "stdout",
       "text": [
        "\n",
        "Tested   5k OK at time 13:39:46.526716"
       ]
      },
      {
       "output_type": "stream",
       "stream": "stdout",
       "text": [
        "\n",
        "Tested   6k OK at time 13:40:36.631462"
       ]
      },
      {
       "output_type": "stream",
       "stream": "stdout",
       "text": [
        "\n",
        "Tested   6k OK at time 13:41:26.736217"
       ]
      },
      {
       "output_type": "stream",
       "stream": "stdout",
       "text": [
        "\n",
        "Tested   7k OK at time 13:42:16.842490"
       ]
      },
      {
       "output_type": "stream",
       "stream": "stdout",
       "text": [
        "\n",
        "Tested   7k OK at time 13:43:06.948607"
       ]
      },
      {
       "output_type": "stream",
       "stream": "stdout",
       "text": [
        "\n",
        "Tested   8k OK at time 13:43:57.054485"
       ]
      },
      {
       "output_type": "stream",
       "stream": "stdout",
       "text": [
        "\n",
        "Tested   8k OK at time 13:44:47.161423"
       ]
      },
      {
       "output_type": "stream",
       "stream": "stdout",
       "text": [
        "\n",
        "Tested   9k OK at time 13:45:37.261016"
       ]
      },
      {
       "output_type": "stream",
       "stream": "stdout",
       "text": [
        "\n",
        "Tested   9k OK at time 13:46:27.362167"
       ]
      },
      {
       "output_type": "stream",
       "stream": "stdout",
       "text": [
        "\n",
        "Tested  10k OK at time 13:47:17.472040"
       ]
      },
      {
       "output_type": "stream",
       "stream": "stdout",
       "text": [
        "\n",
        "Tested  10k OK at time 13:48:07.581340"
       ]
      },
      {
       "output_type": "stream",
       "stream": "stdout",
       "text": [
        "\n",
        "Tested  11k OK at time 13:48:57.686636"
       ]
      },
      {
       "output_type": "stream",
       "stream": "stdout",
       "text": [
        "\n",
        "Tested  11k OK at time 13:49:47.794978"
       ]
      },
      {
       "output_type": "stream",
       "stream": "stdout",
       "text": [
        "\n",
        "Tested  12k OK at time 13:50:37.893883"
       ]
      },
      {
       "output_type": "stream",
       "stream": "stdout",
       "text": [
        "\n",
        "Tested  12k OK at time 13:51:27.992175"
       ]
      },
      {
       "output_type": "stream",
       "stream": "stdout",
       "text": [
        "\n",
        "Tested  13k OK at time 13:52:18.092485"
       ]
      },
      {
       "ename": "KeyboardInterrupt",
       "evalue": "",
       "output_type": "pyerr",
       "traceback": [
        "\u001b[1;31m---------------------------------------------------------------------------\u001b[0m\n\u001b[1;31mKeyboardInterrupt\u001b[0m                         Traceback (most recent call last)",
        "\u001b[1;32m<ipython-input-112-42d48e74b593>\u001b[0m in \u001b[0;36m<module>\u001b[1;34m()\u001b[0m\n\u001b[0;32m      6\u001b[0m     \u001b[0msg\u001b[0m\u001b[1;33m.\u001b[0m\u001b[0msend\u001b[0m\u001b[1;33m(\u001b[0m\u001b[1;34m'FREQ %14.11f\\n'\u001b[0m \u001b[1;33m%\u001b[0m \u001b[1;33m(\u001b[0m\u001b[1;36m1.0e9\u001b[0m\u001b[1;33m+\u001b[0m\u001b[0mrandom\u001b[0m\u001b[1;33m.\u001b[0m\u001b[0mrandom\u001b[0m\u001b[1;33m(\u001b[0m\u001b[1;33m)\u001b[0m\u001b[1;33m*\u001b[0m\u001b[1;36m2.0e9\u001b[0m\u001b[1;33m)\u001b[0m\u001b[1;33m)\u001b[0m\u001b[1;33m;\u001b[0m\u001b[1;33m\u001b[0m\u001b[0m\n\u001b[0;32m      7\u001b[0m     \u001b[0mn\u001b[0m\u001b[1;33m=\u001b[0m\u001b[0mn\u001b[0m\u001b[1;33m+\u001b[0m\u001b[1;36m1\u001b[0m\u001b[1;33m;\u001b[0m\u001b[1;33m\u001b[0m\u001b[0m\n\u001b[1;32m----> 8\u001b[1;33m     \u001b[0mtime\u001b[0m\u001b[1;33m.\u001b[0m\u001b[0msleep\u001b[0m\u001b[1;33m(\u001b[0m\u001b[1;36m0.1\u001b[0m\u001b[1;33m)\u001b[0m\u001b[1;33m;\u001b[0m\u001b[1;33m\u001b[0m\u001b[0m\n\u001b[0m\u001b[0;32m      9\u001b[0m     \u001b[1;32mif\u001b[0m \u001b[1;33m(\u001b[0m\u001b[0mn\u001b[0m \u001b[1;33m%\u001b[0m \u001b[1;36m500\u001b[0m\u001b[1;33m)\u001b[0m \u001b[1;33m==\u001b[0m \u001b[1;36m0\u001b[0m\u001b[1;33m:\u001b[0m\u001b[1;33m\u001b[0m\u001b[0m\n\u001b[0;32m     10\u001b[0m         \u001b[1;32mprint\u001b[0m\u001b[1;33m(\u001b[0m\u001b[1;34m'Tested %3ik OK at time %s'\u001b[0m \u001b[1;33m%\u001b[0m \u001b[1;33m(\u001b[0m\u001b[0mn\u001b[0m\u001b[1;33m/\u001b[0m\u001b[1;36m1000\u001b[0m\u001b[1;33m,\u001b[0m\u001b[0mdatetime\u001b[0m\u001b[1;33m.\u001b[0m\u001b[0mdatetime\u001b[0m\u001b[1;33m.\u001b[0m\u001b[0mnow\u001b[0m\u001b[1;33m(\u001b[0m\u001b[1;33m)\u001b[0m\u001b[1;33m.\u001b[0m\u001b[0mtime\u001b[0m\u001b[1;33m(\u001b[0m\u001b[1;33m)\u001b[0m\u001b[1;33m)\u001b[0m\u001b[1;33m)\u001b[0m\u001b[1;33m\u001b[0m\u001b[0m\n",
        "\u001b[1;31mKeyboardInterrupt\u001b[0m: "
       ]
      },
      {
       "output_type": "stream",
       "stream": "stdout",
       "text": [
        "\n"
       ]
      }
     ],
     "prompt_number": 112
    },
    {
     "cell_type": "code",
     "collapsed": false,
     "input": [
      "# time delay test - to see if the connection is dropped by a long wait for a reply\n",
      "d=3.0;\n",
      "sg.send('FREQ 1234567890\\n');\n",
      "while True:\n",
      "    time.sleep(d-2.0);\n",
      "    sg.send('FREQ?\\n');\n",
      "    time.sleep(2);\n",
      "    reply=sg.recv(100); reply=reply[:-2];\n",
      "    print('Reply %s received after delay of %7.1f seconds, at time %s' % (reply,d-2.0,datetime.datetime.now().time()))\n",
      "    d = d * 2.0**(1.0/3.0);\n",
      "    reply='ERROR';\n",
      "\n"
     ],
     "language": "python",
     "metadata": {},
     "outputs": [
      {
       "output_type": "stream",
       "stream": "stdout",
       "text": [
        "Reply 1.234567890000E+09 received after delay of     1.0 seconds, at time 14:06:56.788137\n",
        "Reply 1.234567890000E+09 received after delay of     1.8 seconds, at time 14:07:00.572002"
       ]
      },
      {
       "output_type": "stream",
       "stream": "stdout",
       "text": [
        "\n",
        "Reply 1.234567890000E+09 received after delay of     2.8 seconds, at time 14:07:05.339649"
       ]
      },
      {
       "output_type": "stream",
       "stream": "stdout",
       "text": [
        "\n",
        "Reply 1.234567890000E+09 received after delay of     4.0 seconds, at time 14:07:11.346316"
       ]
      },
      {
       "output_type": "stream",
       "stream": "stdout",
       "text": [
        "\n",
        "Reply 1.234567890000E+09 received after delay of     5.6 seconds, at time 14:07:18.914072"
       ]
      },
      {
       "output_type": "stream",
       "stream": "stdout",
       "text": [
        "\n",
        "Reply 1.234567890000E+09 received after delay of     7.5 seconds, at time 14:07:28.448651"
       ]
      },
      {
       "output_type": "stream",
       "stream": "stdout",
       "text": [
        "\n",
        "Reply 1.234567890000E+09 received after delay of    10.0 seconds, at time 14:07:40.458789"
       ]
      },
      {
       "output_type": "stream",
       "stream": "stdout",
       "text": [
        "\n",
        "Reply 1.234567890000E+09 received after delay of    13.1 seconds, at time 14:07:55.588993"
       ]
      },
      {
       "output_type": "stream",
       "stream": "stdout",
       "text": [
        "\n",
        "Reply 1.234567890000E+09 received after delay of    17.0 seconds, at time 14:08:14.657619"
       ]
      },
      {
       "output_type": "stream",
       "stream": "stdout",
       "text": [
        "\n",
        "Reply 1.234567890000E+09 received after delay of    22.0 seconds, at time 14:08:38.682402"
       ]
      },
      {
       "output_type": "stream",
       "stream": "stdout",
       "text": [
        "\n",
        "Reply 1.234567890000E+09 received after delay of    28.2 seconds, at time 14:09:08.951451"
       ]
      },
      {
       "output_type": "stream",
       "stream": "stdout",
       "text": [
        "\n",
        "Reply 1.234567890000E+09 received after delay of    36.1 seconds, at time 14:09:47.078795"
       ]
      },
      {
       "output_type": "stream",
       "stream": "stdout",
       "text": [
        "\n",
        "Reply 1.234567890000E+09 received after delay of    46.0 seconds, at time 14:10:35.127606"
       ]
      },
      {
       "output_type": "stream",
       "stream": "stdout",
       "text": [
        "\n",
        "Reply 1.234567890000E+09 received after delay of    58.5 seconds, at time 14:11:35.658992"
       ]
      },
      {
       "output_type": "stream",
       "stream": "stdout",
       "text": [
        "\n",
        "Reply 1.234567890000E+09 received after delay of    74.2 seconds, at time 14:12:51.931264"
       ]
      },
      {
       "output_type": "stream",
       "stream": "stdout",
       "text": [
        "\n",
        "Reply 1.234567890000E+09 received after delay of    94.0 seconds, at time 14:14:28.028085"
       ]
      },
      {
       "output_type": "stream",
       "stream": "stdout",
       "text": [
        "\n",
        "Reply 1.234567890000E+09 received after delay of   119.0 seconds, at time 14:16:29.078779"
       ]
      },
      {
       "output_type": "stream",
       "stream": "stdout",
       "text": [
        "\n",
        "Reply 1.234567890000E+09 received after delay of   150.4 seconds, at time 14:19:01.572122"
       ]
      },
      {
       "output_type": "stream",
       "stream": "stdout",
       "text": [
        "\n",
        "Reply 1.234567890000E+09 received after delay of   190.0 seconds, at time 14:22:13.668798"
       ]
      },
      {
       "output_type": "stream",
       "stream": "stdout",
       "text": [
        "\n",
        "Reply 1.234567890000E+09 received after delay of   239.9 seconds, at time 14:26:15.676474"
       ]
      },
      {
       "output_type": "stream",
       "stream": "stdout",
       "text": [
        "\n",
        "Reply 1.234567890000E+09 received after delay of   302.8 seconds, at time 14:31:20.560298"
       ]
      },
      {
       "output_type": "stream",
       "stream": "stdout",
       "text": [
        "\n",
        "Reply 1.234567890000E+09 received after delay of   382.0 seconds, at time 14:37:44.658971"
       ]
      },
      {
       "output_type": "stream",
       "stream": "stdout",
       "text": [
        "\n",
        "Reply 1.234567890000E+09 received after delay of   481.8 seconds, at time 14:45:48.569030"
       ]
      },
      {
       "output_type": "stream",
       "stream": "stdout",
       "text": [
        "\n",
        "Reply 1.234567890000E+09 received after delay of   607.6 seconds, at time 14:55:58.229008"
       ]
      },
      {
       "output_type": "stream",
       "stream": "stdout",
       "text": [
        "\n",
        "Reply 1.234567890000E+09 received after delay of   766.0 seconds, at time 15:08:46.306217"
       ]
      },
      {
       "output_type": "stream",
       "stream": "stdout",
       "text": [
        "\n",
        "Reply 1.234567890000E+09 received after delay of   965.6 seconds, at time 15:24:54.019014"
       ]
      },
      {
       "output_type": "stream",
       "stream": "stdout",
       "text": [
        "\n",
        "Reply 1.234567890000E+09 received after delay of  1217.1 seconds, at time 15:45:13.245842"
       ]
      },
      {
       "output_type": "stream",
       "stream": "stdout",
       "text": [
        "\n",
        "Reply 1.234567890000E+09 received after delay of  1534.0 seconds, at time 16:10:49.343322"
       ]
      },
      {
       "ename": "KeyboardInterrupt",
       "evalue": "",
       "output_type": "pyerr",
       "traceback": [
        "\u001b[1;31m---------------------------------------------------------------------------\u001b[0m\n\u001b[1;31mKeyboardInterrupt\u001b[0m                         Traceback (most recent call last)",
        "\u001b[1;32m<ipython-input-119-0f1bef58762d>\u001b[0m in \u001b[0;36m<module>\u001b[1;34m()\u001b[0m\n\u001b[0;32m      3\u001b[0m \u001b[0msg\u001b[0m\u001b[1;33m.\u001b[0m\u001b[0msend\u001b[0m\u001b[1;33m(\u001b[0m\u001b[1;34m'FREQ 1234567890\\n'\u001b[0m\u001b[1;33m)\u001b[0m\u001b[1;33m;\u001b[0m\u001b[1;33m\u001b[0m\u001b[0m\n\u001b[0;32m      4\u001b[0m \u001b[1;32mwhile\u001b[0m \u001b[0mTrue\u001b[0m\u001b[1;33m:\u001b[0m\u001b[1;33m\u001b[0m\u001b[0m\n\u001b[1;32m----> 5\u001b[1;33m     \u001b[0mtime\u001b[0m\u001b[1;33m.\u001b[0m\u001b[0msleep\u001b[0m\u001b[1;33m(\u001b[0m\u001b[0md\u001b[0m\u001b[1;33m-\u001b[0m\u001b[1;36m2.0\u001b[0m\u001b[1;33m)\u001b[0m\u001b[1;33m;\u001b[0m\u001b[1;33m\u001b[0m\u001b[0m\n\u001b[0m\u001b[0;32m      6\u001b[0m     \u001b[0msg\u001b[0m\u001b[1;33m.\u001b[0m\u001b[0msend\u001b[0m\u001b[1;33m(\u001b[0m\u001b[1;34m'FREQ?\\n'\u001b[0m\u001b[1;33m)\u001b[0m\u001b[1;33m;\u001b[0m\u001b[1;33m\u001b[0m\u001b[0m\n\u001b[0;32m      7\u001b[0m     \u001b[0mtime\u001b[0m\u001b[1;33m.\u001b[0m\u001b[0msleep\u001b[0m\u001b[1;33m(\u001b[0m\u001b[1;36m2\u001b[0m\u001b[1;33m)\u001b[0m\u001b[1;33m;\u001b[0m\u001b[1;33m\u001b[0m\u001b[0m\n",
        "\u001b[1;31mKeyboardInterrupt\u001b[0m: "
       ]
      },
      {
       "output_type": "stream",
       "stream": "stdout",
       "text": [
        "\n"
       ]
      }
     ],
     "prompt_number": 119
    }
   ],
   "metadata": {}
  }
 ]
}