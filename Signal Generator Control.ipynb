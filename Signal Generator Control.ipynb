{
 "metadata": {
  "name": "Signal Generator Control"
 },
 "nbformat": 3,
 "nbformat_minor": 0,
 "worksheets": [
  {
   "cells": [
    {
     "cell_type": "markdown",
     "metadata": {},
     "source": [
      "Signal Generator Test\n",
      "------------\n",
      "\n",
      "Links to the [Lantronix](http://192.168.1.249/). Username  *admin*  blank password  "
     ]
    },
    {
     "cell_type": "code",
     "collapsed": false,
     "input": [
      "# Connect and set up.\n",
      "import socket, time, datetime, array, numpy\n",
      "sg = socket.socket(socket.AF_INET, socket.SOCK_STREAM);  sg.setblocking(0); sg.settimeout(1.0)\n",
      "sg.connect(('192.168.4.33', 10001));  # Lantronix TCP-RS232 converter     In the lab: 192.168.4.33"
     ],
     "language": "python",
     "metadata": {},
     "outputs": [],
     "prompt_number": 43
    },
    {
     "cell_type": "code",
     "collapsed": false,
     "input": [
      "# Disconnect\n",
      "sg.close();"
     ],
     "language": "python",
     "metadata": {},
     "outputs": [],
     "prompt_number": 47
    },
    {
     "cell_type": "code",
     "collapsed": false,
     "input": [
      "print('Resetting signal generator');   # reset\n",
      "sg.send('*RST\\n');"
     ],
     "language": "python",
     "metadata": {},
     "outputs": [
      {
       "output_type": "stream",
       "stream": "stdout",
       "text": [
        "Resetting signal generator\n",
        "Identification : ROHDE&SCHWARZ,SML03,103502/0013,2.51.12"
       ]
      },
      {
       "output_type": "stream",
       "stream": "stdout",
       "text": [
        "\n",
        "Error report   : 0"
       ]
      },
      {
       "output_type": "stream",
       "stream": "stdout",
       "text": [
        "\n"
       ]
      }
     ],
     "prompt_number": 129
    },
    {
     "cell_type": "code",
     "collapsed": false,
     "input": [
      "# retrieve current frequency, power and output status\n",
      "sg.send('*IDN?\\n');  time.sleep(1);  reply=sg.recv(100); reply=reply[:-2];  print('Ident     : %s' % reply)\n",
      "sg.send('*TST?\\n');  time.sleep(1);  reply=sg.recv(100); reply=reply[:-2];  print('Error     : %s' % reply)\n",
      "sg.send('FREQuency?\\n');  time.sleep(1);  reply=sg.recv(100); reply=reply[:-2]; reply=float(reply)/1.0e6; print('Frequency : %7.3f MHz' % reply)\n",
      "sg.send('POW?\\n');  time.sleep(1);  reply=sg.recv(100); reply=reply[:-2];  reply=float(reply); print('Power     : %7.1f dBm' % reply)\n",
      "sg.send('OUTPut?\\n');  time.sleep(1);  reply=sg.recv(100); reply=reply[:-2];\n",
      "if reply[0]=='1':\n",
      "    print('Output    :  ON');\n",
      "else:\n",
      "    print('Output    :  OFF');"
     ],
     "language": "python",
     "metadata": {},
     "outputs": [
      {
       "output_type": "stream",
       "stream": "stdout",
       "text": [
        "Ident     : ROHDE&SCHWARZ,SML03,103502/0013,2.51.12\n",
        "Error     : 0"
       ]
      },
      {
       "output_type": "stream",
       "stream": "stdout",
       "text": [
        "\n",
        "Frequency : 836.000 MHz"
       ]
      },
      {
       "output_type": "stream",
       "stream": "stdout",
       "text": [
        "\n",
        "Power     :   -25.0 dBm"
       ]
      },
      {
       "output_type": "stream",
       "stream": "stdout",
       "text": [
        "\n",
        "Output    :  ON"
       ]
      },
      {
       "output_type": "stream",
       "stream": "stdout",
       "text": [
        "\n"
       ]
      }
     ],
     "prompt_number": 2
    },
    {
     "cell_type": "code",
     "collapsed": false,
     "input": [
      "sg.send('OUTP OFF\\n');"
     ],
     "language": "python",
     "metadata": {},
     "outputs": [],
     "prompt_number": 38
    },
    {
     "cell_type": "code",
     "collapsed": false,
     "input": [
      "sg.send('POWER -10\\n');"
     ],
     "language": "python",
     "metadata": {},
     "outputs": [],
     "prompt_number": 36
    },
    {
     "cell_type": "code",
     "collapsed": false,
     "input": [
      "sg.send('FREQ %g\\n' % (  858  *1.0e6));"
     ],
     "language": "python",
     "metadata": {},
     "outputs": [],
     "prompt_number": 46
    },
    {
     "cell_type": "code",
     "collapsed": false,
     "input": [
      "targetchannel=1500.0;                          # set frequency to a particular channel in the 4k mode\n",
      "f=856.0-856.0*(targetchannel/4096.0);\n",
      "print('Setting frequency to %g MHz' % f);\n",
      "sg.send('FREQ %g\\n' % (f*1.0e6));"
     ],
     "language": "python",
     "metadata": {},
     "outputs": [
      {
       "output_type": "stream",
       "stream": "stdout",
       "text": [
        "Setting frequency to 542.523 MHz\n"
       ]
      }
     ],
     "prompt_number": 69
    },
    {
     "cell_type": "code",
     "collapsed": false,
     "input": [
      "# Random channel and power adjuster.  Power is a (complex) function of Channel Number.  For Integration 10 Sept 2015\n",
      "chRange=(500,2200)    # channel ranges from 500 to 2200. Integer, half-open. NB, this affects the (random) ordering of the list.\n",
      "pwrRange=(-53,-5)     # power ranges from   -5 to -53 dBm. 0.1 dB rounding.\n",
      "dwell=4;              # time to wait on each channel. This is enough to guarantee two good dumps at 0.5 Hz\n",
      "\n",
      "import random, time\n",
      "\n",
      "# map  [0,N) to [start,end] in a nice non-repeating way.\n",
      "def pickchannel(testnumber,channelstart,channelend):\n",
      "    numchannels = channelend-channelstart;\n",
      "    testnumber = testnumber%numchannels          # crop the test numbe so it works with an indefinite list of tests\n",
      "\n",
      "    random.seed(42);\n",
      "    channellist = random.sample(range(channelstart,channelend),numchannels);\n",
      "\n",
      "    return channellist[testnumber]             #   return the indexed item\n",
      "\n",
      "# map the channel number to the signal generator power.  Using seed to ensure this is always repeatable.\n",
      "def findpower(channel,powerstart,powerend):\n",
      "    random.seed(channel)\n",
      "    return random.randrange(powerstart*10,powerend*10)/10.0\n",
      "\n",
      "timestep=0;\n",
      "\n",
      "\n",
      "try:\n",
      "    print('Starting random channel signal generator')\n",
      "    while True:\n",
      "        while ((time.time() % dwell) > 0.05):                          # wait for the appearance of the next second\n",
      "            time.sleep(0.04)\n",
      "        time.sleep(0.05)\n",
      "        \n",
      "        # ch=random.random()*(chRange[1]-chRange[0])+chRange[0];       # pick a random channel from the range chosen\n",
      "        ch=pickchannel(timestep,chRange[0],chRange[1]);                # deterministically choose a channel from the range chosen\n",
      "        pwr=findpower(ch,pwrRange[0],pwrRange[1]);                    # calculate the power from the channel number\n",
      "        f=(856.0-856.0*(ch/4096.0))*1.0e6;                             # channel to frequency\n",
      "        \n",
      "        sg.send('FREQ %g\\nPOWER %.1f\\n' % (f,pwr));\n",
      "        \n",
      "        # print('Step %i, Channel %4i, Freq %7.2f MHz, Power %.1f' % (timestep,ch,f/1.0e6,pwr))\n",
      "        print '\\rStep %i, Channel= %i,  Freq=%7.2f MHz (%7.2f MHz),  Power= %4.1f dBm      ' % (timestep,ch,f/1.0e6,1712.0-f/1.0e6,pwr),   # note the comma at the end, suppresses the newline\n",
      "        timestep = timestep + 1;\n",
      "        \n",
      "except KeyboardInterrupt:\n",
      "    print('\\rStopped with keyboard interrupt')\n",
      "except IOError:\n",
      "    print('\\rStopped with IO error')\n",
      "finally:\n",
      "    print('\\nFinally')\n"
     ],
     "language": "python",
     "metadata": {},
     "outputs": [
      {
       "output_type": "stream",
       "stream": "stdout",
       "text": [
        "Starting random channel signal generator\n",
        "\r",
        "Step 0, Channel= 1587,  Freq= 524.34 MHz (1187.66 MHz),  Power= -49.2 dBm      "
       ]
      },
      {
       "output_type": "stream",
       "stream": "stdout",
       "text": [
        " \r",
        "Step 1, Channel= 542,  Freq= 742.73 MHz ( 969.27 MHz),  Power= -30.0 dBm       "
       ]
      },
      {
       "output_type": "stream",
       "stream": "stdout",
       "text": [
        "\r",
        "Stopped with keyboard interrupt\n",
        "\n",
        "Finally\n"
       ]
      }
     ],
     "prompt_number": 28
    },
    {
     "cell_type": "code",
     "collapsed": false,
     "input": [
      "# Stepped power sweep channel and power adjuster.  Power is swept over a range.   For Integration 15 Sept 2015\n",
      "chRange=(500,3000)     # channel ranges from 500 to 2200. Integer, half-open. NB, this affects the (random) ordering of the list.\n",
      "pwrRange=(-70,-10)     # power ranges from -70 to -10 dBm.  (0.1 dB rounding)\n",
      "pwrStep=2.0;\n",
      "dwell=4;               # time to wait on each channel. This is enough to guarantee two good dumps at 0.5 Hz\n",
      "\n",
      "import random, time\n",
      "\n",
      "# map  [0,N) to [start,end] in a nice non-repeating way.\n",
      "def pickchannel(testnumber,channelstart,channelend):\n",
      "    numchannels = channelend-channelstart;\n",
      "    testnumber = testnumber%numchannels          # crop the test numbe so it works with an indefinite list of tests\n",
      "\n",
      "    random.seed(42);\n",
      "    channellist = random.sample(range(channelstart,channelend),numchannels);\n",
      "\n",
      "    return channellist[testnumber]             #   return the indexed item\n",
      "\n",
      "timestep=0;\n",
      "pwr=pwrRange[0];\n",
      "\n",
      "try:\n",
      "    print('Starting stepped single channel power adjuster')\n",
      "    while True:\n",
      "        while ((time.time() % dwell) > 0.05):                          # wait for the appearance of the next second\n",
      "            time.sleep(0.04)\n",
      "        time.sleep(dwell/3.0)                                          # wait 1/3 of the dwell time, to guarantee offset if correlator is somehow locked to realtime\n",
      "        \n",
      "        # ch=random.random()*(chRange[1]-chRange[0])+chRange[0];       # pick a random channel from the range chosen\n",
      "        ch=pickchannel(timestep,chRange[0],chRange[1]);                # deterministically choose a channel from the range chosen\n",
      "        f=(856.0-856.0*(ch/4096.0))*1.0e6;                             # channel to frequency\n",
      "        \n",
      "        sg.send('FREQ %g\\nPOWER %.1f\\n' % (f,pwr));\n",
      "        print '\\rStep %i, Channel= %i,  Freq=%7.2f MHz (%7.2f MHz),  Power= %4.1f dBm      ' % (timestep,ch,f/1.0e6,1712.0-f/1.0e6,pwr),   # note the comma at the end, suppresses the newline\n",
      "        # print('Step %i, Channel %4i, Freq %7.2f MHz, Power %.1f' % (timestep,ch,f/1.0e6,pwr))\n",
      "\n",
      "        if pwr<pwrRange[1]:\n",
      "            pwr=pwr+pwrStep;\n",
      "        else:\n",
      "            pwr=pwrRange[0];\n",
      "            timestep = timestep + 1;\n",
      "        \n",
      "except KeyboardInterrupt:\n",
      "    print('\\rStopped with keyboard interrupt')\n",
      "except IOError:\n",
      "    print('\\rStopped with IO error')\n",
      "finally:\n",
      "    print('\\nFinally')\n",
      "\n",
      "    "
     ],
     "language": "python",
     "metadata": {},
     "outputs": [
      {
       "output_type": "stream",
       "stream": "stdout",
       "text": [
        "Starting stepped single channel power adjuster\n",
        "\r",
        "Step 0, Channel= 2098,  Freq= 417.55 MHz (1294.45 MHz),  Power= -70.0 dBm      "
       ]
      },
      {
       "output_type": "stream",
       "stream": "stdout",
       "text": [
        " \r",
        "Step 0, Channel= 2098,  Freq= 417.55 MHz (1294.45 MHz),  Power= -68.0 dBm       "
       ]
      },
      {
       "output_type": "stream",
       "stream": "stdout",
       "text": [
        "\r",
        "Step 0, Channel= 2098,  Freq= 417.55 MHz (1294.45 MHz),  Power= -66.0 dBm       "
       ]
      },
      {
       "output_type": "stream",
       "stream": "stdout",
       "text": [
        "\r",
        "Step 0, Channel= 2098,  Freq= 417.55 MHz (1294.45 MHz),  Power= -64.0 dBm       "
       ]
      },
      {
       "output_type": "stream",
       "stream": "stdout",
       "text": [
        "\r",
        "Step 0, Channel= 2098,  Freq= 417.55 MHz (1294.45 MHz),  Power= -62.0 dBm       "
       ]
      },
      {
       "output_type": "stream",
       "stream": "stdout",
       "text": [
        "\r",
        "Step 0, Channel= 2098,  Freq= 417.55 MHz (1294.45 MHz),  Power= -60.0 dBm       "
       ]
      },
      {
       "output_type": "stream",
       "stream": "stdout",
       "text": [
        "\r",
        "Step 0, Channel= 2098,  Freq= 417.55 MHz (1294.45 MHz),  Power= -58.0 dBm       "
       ]
      },
      {
       "output_type": "stream",
       "stream": "stdout",
       "text": [
        "\r",
        "Step 0, Channel= 2098,  Freq= 417.55 MHz (1294.45 MHz),  Power= -56.0 dBm       "
       ]
      },
      {
       "output_type": "stream",
       "stream": "stdout",
       "text": [
        "\r",
        "Step 0, Channel= 2098,  Freq= 417.55 MHz (1294.45 MHz),  Power= -54.0 dBm       "
       ]
      },
      {
       "output_type": "stream",
       "stream": "stdout",
       "text": [
        "\r",
        "Step 0, Channel= 2098,  Freq= 417.55 MHz (1294.45 MHz),  Power= -52.0 dBm       "
       ]
      },
      {
       "output_type": "stream",
       "stream": "stdout",
       "text": [
        "\r",
        "Step 0, Channel= 2098,  Freq= 417.55 MHz (1294.45 MHz),  Power= -50.0 dBm       "
       ]
      },
      {
       "output_type": "stream",
       "stream": "stdout",
       "text": [
        "\r",
        "Step 0, Channel= 2098,  Freq= 417.55 MHz (1294.45 MHz),  Power= -48.0 dBm       "
       ]
      },
      {
       "output_type": "stream",
       "stream": "stdout",
       "text": [
        "\r",
        "Step 0, Channel= 2098,  Freq= 417.55 MHz (1294.45 MHz),  Power= -46.0 dBm       "
       ]
      },
      {
       "output_type": "stream",
       "stream": "stdout",
       "text": [
        "\r",
        "Step 0, Channel= 2098,  Freq= 417.55 MHz (1294.45 MHz),  Power= -44.0 dBm       "
       ]
      },
      {
       "output_type": "stream",
       "stream": "stdout",
       "text": [
        "\r",
        "Step 0, Channel= 2098,  Freq= 417.55 MHz (1294.45 MHz),  Power= -42.0 dBm       "
       ]
      },
      {
       "output_type": "stream",
       "stream": "stdout",
       "text": [
        "\r",
        "Step 0, Channel= 2098,  Freq= 417.55 MHz (1294.45 MHz),  Power= -40.0 dBm       "
       ]
      },
      {
       "output_type": "stream",
       "stream": "stdout",
       "text": [
        "\r",
        "Step 0, Channel= 2098,  Freq= 417.55 MHz (1294.45 MHz),  Power= -38.0 dBm       "
       ]
      },
      {
       "output_type": "stream",
       "stream": "stdout",
       "text": [
        "\r",
        "Step 0, Channel= 2098,  Freq= 417.55 MHz (1294.45 MHz),  Power= -36.0 dBm       "
       ]
      },
      {
       "output_type": "stream",
       "stream": "stdout",
       "text": [
        "\r",
        "Step 0, Channel= 2098,  Freq= 417.55 MHz (1294.45 MHz),  Power= -34.0 dBm       "
       ]
      },
      {
       "output_type": "stream",
       "stream": "stdout",
       "text": [
        "\r",
        "Step 0, Channel= 2098,  Freq= 417.55 MHz (1294.45 MHz),  Power= -32.0 dBm       "
       ]
      },
      {
       "output_type": "stream",
       "stream": "stdout",
       "text": [
        "\r",
        "Step 0, Channel= 2098,  Freq= 417.55 MHz (1294.45 MHz),  Power= -30.0 dBm       "
       ]
      },
      {
       "output_type": "stream",
       "stream": "stdout",
       "text": [
        "\r",
        "Step 0, Channel= 2098,  Freq= 417.55 MHz (1294.45 MHz),  Power= -28.0 dBm       "
       ]
      },
      {
       "output_type": "stream",
       "stream": "stdout",
       "text": [
        "\r",
        "Step 0, Channel= 2098,  Freq= 417.55 MHz (1294.45 MHz),  Power= -26.0 dBm       "
       ]
      },
      {
       "output_type": "stream",
       "stream": "stdout",
       "text": [
        "\r",
        "Step 0, Channel= 2098,  Freq= 417.55 MHz (1294.45 MHz),  Power= -24.0 dBm       "
       ]
      },
      {
       "output_type": "stream",
       "stream": "stdout",
       "text": [
        "\r",
        "Step 0, Channel= 2098,  Freq= 417.55 MHz (1294.45 MHz),  Power= -22.0 dBm       "
       ]
      },
      {
       "output_type": "stream",
       "stream": "stdout",
       "text": [
        "\r",
        "Step 0, Channel= 2098,  Freq= 417.55 MHz (1294.45 MHz),  Power= -20.0 dBm       "
       ]
      },
      {
       "output_type": "stream",
       "stream": "stdout",
       "text": [
        "\r",
        "Step 0, Channel= 2098,  Freq= 417.55 MHz (1294.45 MHz),  Power= -18.0 dBm       "
       ]
      },
      {
       "output_type": "stream",
       "stream": "stdout",
       "text": [
        "\r",
        "Step 0, Channel= 2098,  Freq= 417.55 MHz (1294.45 MHz),  Power= -16.0 dBm       "
       ]
      },
      {
       "output_type": "stream",
       "stream": "stdout",
       "text": [
        "\r",
        "Step 0, Channel= 2098,  Freq= 417.55 MHz (1294.45 MHz),  Power= -14.0 dBm       "
       ]
      },
      {
       "output_type": "stream",
       "stream": "stdout",
       "text": [
        "\r",
        "Step 0, Channel= 2098,  Freq= 417.55 MHz (1294.45 MHz),  Power= -12.0 dBm       "
       ]
      },
      {
       "output_type": "stream",
       "stream": "stdout",
       "text": [
        "\r",
        "Step 0, Channel= 2098,  Freq= 417.55 MHz (1294.45 MHz),  Power= -10.0 dBm       "
       ]
      },
      {
       "output_type": "stream",
       "stream": "stdout",
       "text": [
        "\r",
        "Step 1, Channel= 562,  Freq= 738.55 MHz ( 973.45 MHz),  Power= -70.0 dBm       "
       ]
      },
      {
       "output_type": "stream",
       "stream": "stdout",
       "text": [
        "\r",
        "Step 1, Channel= 562,  Freq= 738.55 MHz ( 973.45 MHz),  Power= -68.0 dBm       "
       ]
      },
      {
       "output_type": "stream",
       "stream": "stdout",
       "text": [
        "\r",
        "Step 1, Channel= 562,  Freq= 738.55 MHz ( 973.45 MHz),  Power= -66.0 dBm       "
       ]
      },
      {
       "output_type": "stream",
       "stream": "stdout",
       "text": [
        "\r",
        "Step 1, Channel= 562,  Freq= 738.55 MHz ( 973.45 MHz),  Power= -64.0 dBm       "
       ]
      },
      {
       "output_type": "stream",
       "stream": "stdout",
       "text": [
        "\r",
        "Step 1, Channel= 562,  Freq= 738.55 MHz ( 973.45 MHz),  Power= -62.0 dBm       "
       ]
      },
      {
       "output_type": "stream",
       "stream": "stdout",
       "text": [
        "\r",
        "Step 1, Channel= 562,  Freq= 738.55 MHz ( 973.45 MHz),  Power= -60.0 dBm       "
       ]
      },
      {
       "output_type": "stream",
       "stream": "stdout",
       "text": [
        "\r",
        "Step 1, Channel= 562,  Freq= 738.55 MHz ( 973.45 MHz),  Power= -58.0 dBm       "
       ]
      },
      {
       "output_type": "stream",
       "stream": "stdout",
       "text": [
        "\r",
        "Step 1, Channel= 562,  Freq= 738.55 MHz ( 973.45 MHz),  Power= -56.0 dBm       "
       ]
      },
      {
       "output_type": "stream",
       "stream": "stdout",
       "text": [
        "\r",
        "Step 1, Channel= 562,  Freq= 738.55 MHz ( 973.45 MHz),  Power= -54.0 dBm       "
       ]
      },
      {
       "output_type": "stream",
       "stream": "stdout",
       "text": [
        "\r",
        "Step 1, Channel= 562,  Freq= 738.55 MHz ( 973.45 MHz),  Power= -52.0 dBm       "
       ]
      },
      {
       "output_type": "stream",
       "stream": "stdout",
       "text": [
        "\r",
        "Step 1, Channel= 562,  Freq= 738.55 MHz ( 973.45 MHz),  Power= -50.0 dBm       "
       ]
      },
      {
       "output_type": "stream",
       "stream": "stdout",
       "text": [
        "\r",
        "Step 1, Channel= 562,  Freq= 738.55 MHz ( 973.45 MHz),  Power= -48.0 dBm       "
       ]
      },
      {
       "output_type": "stream",
       "stream": "stdout",
       "text": [
        "\r",
        "Step 1, Channel= 562,  Freq= 738.55 MHz ( 973.45 MHz),  Power= -46.0 dBm       "
       ]
      },
      {
       "output_type": "stream",
       "stream": "stdout",
       "text": [
        "\r",
        "Step 1, Channel= 562,  Freq= 738.55 MHz ( 973.45 MHz),  Power= -44.0 dBm       "
       ]
      },
      {
       "output_type": "stream",
       "stream": "stdout",
       "text": [
        "\r",
        "Step 1, Channel= 562,  Freq= 738.55 MHz ( 973.45 MHz),  Power= -42.0 dBm       "
       ]
      },
      {
       "output_type": "stream",
       "stream": "stdout",
       "text": [
        "\r",
        "Step 1, Channel= 562,  Freq= 738.55 MHz ( 973.45 MHz),  Power= -40.0 dBm       "
       ]
      },
      {
       "output_type": "stream",
       "stream": "stdout",
       "text": [
        "\r",
        "Step 1, Channel= 562,  Freq= 738.55 MHz ( 973.45 MHz),  Power= -38.0 dBm       "
       ]
      },
      {
       "output_type": "stream",
       "stream": "stdout",
       "text": [
        "\r",
        "Step 1, Channel= 562,  Freq= 738.55 MHz ( 973.45 MHz),  Power= -36.0 dBm       "
       ]
      },
      {
       "output_type": "stream",
       "stream": "stdout",
       "text": [
        "\r",
        "Step 1, Channel= 562,  Freq= 738.55 MHz ( 973.45 MHz),  Power= -34.0 dBm       "
       ]
      },
      {
       "output_type": "stream",
       "stream": "stdout",
       "text": [
        "\r",
        "Step 1, Channel= 562,  Freq= 738.55 MHz ( 973.45 MHz),  Power= -32.0 dBm       "
       ]
      },
      {
       "output_type": "stream",
       "stream": "stdout",
       "text": [
        "\r",
        "Step 1, Channel= 562,  Freq= 738.55 MHz ( 973.45 MHz),  Power= -30.0 dBm       "
       ]
      },
      {
       "output_type": "stream",
       "stream": "stdout",
       "text": [
        "\r",
        "Step 1, Channel= 562,  Freq= 738.55 MHz ( 973.45 MHz),  Power= -28.0 dBm       "
       ]
      },
      {
       "output_type": "stream",
       "stream": "stdout",
       "text": [
        "\r",
        "Step 1, Channel= 562,  Freq= 738.55 MHz ( 973.45 MHz),  Power= -26.0 dBm       "
       ]
      },
      {
       "output_type": "stream",
       "stream": "stdout",
       "text": [
        "\r",
        "Step 1, Channel= 562,  Freq= 738.55 MHz ( 973.45 MHz),  Power= -24.0 dBm       "
       ]
      },
      {
       "output_type": "stream",
       "stream": "stdout",
       "text": [
        "\r",
        "Step 1, Channel= 562,  Freq= 738.55 MHz ( 973.45 MHz),  Power= -22.0 dBm       "
       ]
      },
      {
       "output_type": "stream",
       "stream": "stdout",
       "text": [
        "\r",
        "Step 1, Channel= 562,  Freq= 738.55 MHz ( 973.45 MHz),  Power= -20.0 dBm       "
       ]
      },
      {
       "output_type": "stream",
       "stream": "stdout",
       "text": [
        "\r",
        "Step 1, Channel= 562,  Freq= 738.55 MHz ( 973.45 MHz),  Power= -18.0 dBm       "
       ]
      },
      {
       "output_type": "stream",
       "stream": "stdout",
       "text": [
        "\r",
        "Step 1, Channel= 562,  Freq= 738.55 MHz ( 973.45 MHz),  Power= -16.0 dBm       "
       ]
      },
      {
       "output_type": "stream",
       "stream": "stdout",
       "text": [
        "\r",
        "Step 1, Channel= 562,  Freq= 738.55 MHz ( 973.45 MHz),  Power= -14.0 dBm       "
       ]
      },
      {
       "output_type": "stream",
       "stream": "stdout",
       "text": [
        "\r",
        "Step 1, Channel= 562,  Freq= 738.55 MHz ( 973.45 MHz),  Power= -12.0 dBm       "
       ]
      },
      {
       "output_type": "stream",
       "stream": "stdout",
       "text": [
        "\r",
        "Step 1, Channel= 562,  Freq= 738.55 MHz ( 973.45 MHz),  Power= -10.0 dBm       "
       ]
      },
      {
       "output_type": "stream",
       "stream": "stdout",
       "text": [
        "\r",
        "Step 2, Channel= 1187,  Freq= 607.94 MHz (1104.06 MHz),  Power= -70.0 dBm       "
       ]
      },
      {
       "output_type": "stream",
       "stream": "stdout",
       "text": [
        "\r",
        "Step 2, Channel= 1187,  Freq= 607.94 MHz (1104.06 MHz),  Power= -68.0 dBm       "
       ]
      },
      {
       "output_type": "stream",
       "stream": "stdout",
       "text": [
        "\r",
        "Step 2, Channel= 1187,  Freq= 607.94 MHz (1104.06 MHz),  Power= -66.0 dBm       "
       ]
      },
      {
       "output_type": "stream",
       "stream": "stdout",
       "text": [
        "\r",
        "Step 2, Channel= 1187,  Freq= 607.94 MHz (1104.06 MHz),  Power= -64.0 dBm       "
       ]
      },
      {
       "output_type": "stream",
       "stream": "stdout",
       "text": [
        "\r",
        "Step 2, Channel= 1187,  Freq= 607.94 MHz (1104.06 MHz),  Power= -62.0 dBm       "
       ]
      },
      {
       "output_type": "stream",
       "stream": "stdout",
       "text": [
        "\r",
        "Step 2, Channel= 1187,  Freq= 607.94 MHz (1104.06 MHz),  Power= -60.0 dBm       "
       ]
      },
      {
       "output_type": "stream",
       "stream": "stdout",
       "text": [
        "\r",
        "Step 2, Channel= 1187,  Freq= 607.94 MHz (1104.06 MHz),  Power= -58.0 dBm       "
       ]
      },
      {
       "output_type": "stream",
       "stream": "stdout",
       "text": [
        "\r",
        "Step 2, Channel= 1187,  Freq= 607.94 MHz (1104.06 MHz),  Power= -56.0 dBm       "
       ]
      },
      {
       "output_type": "stream",
       "stream": "stdout",
       "text": [
        "\r",
        "Step 2, Channel= 1187,  Freq= 607.94 MHz (1104.06 MHz),  Power= -54.0 dBm       "
       ]
      },
      {
       "output_type": "stream",
       "stream": "stdout",
       "text": [
        "\r",
        "Step 2, Channel= 1187,  Freq= 607.94 MHz (1104.06 MHz),  Power= -52.0 dBm       "
       ]
      },
      {
       "output_type": "stream",
       "stream": "stdout",
       "text": [
        "\r",
        "Step 2, Channel= 1187,  Freq= 607.94 MHz (1104.06 MHz),  Power= -50.0 dBm       "
       ]
      },
      {
       "output_type": "stream",
       "stream": "stdout",
       "text": [
        "\r",
        "Step 2, Channel= 1187,  Freq= 607.94 MHz (1104.06 MHz),  Power= -48.0 dBm       "
       ]
      },
      {
       "output_type": "stream",
       "stream": "stdout",
       "text": [
        "\r",
        "Step 2, Channel= 1187,  Freq= 607.94 MHz (1104.06 MHz),  Power= -46.0 dBm       "
       ]
      },
      {
       "output_type": "stream",
       "stream": "stdout",
       "text": [
        "\r",
        "Step 2, Channel= 1187,  Freq= 607.94 MHz (1104.06 MHz),  Power= -44.0 dBm       "
       ]
      },
      {
       "output_type": "stream",
       "stream": "stdout",
       "text": [
        "\r",
        "Step 2, Channel= 1187,  Freq= 607.94 MHz (1104.06 MHz),  Power= -42.0 dBm       "
       ]
      },
      {
       "output_type": "stream",
       "stream": "stdout",
       "text": [
        "\r",
        "Step 2, Channel= 1187,  Freq= 607.94 MHz (1104.06 MHz),  Power= -40.0 dBm       "
       ]
      },
      {
       "output_type": "stream",
       "stream": "stdout",
       "text": [
        "\r",
        "Step 2, Channel= 1187,  Freq= 607.94 MHz (1104.06 MHz),  Power= -38.0 dBm       "
       ]
      },
      {
       "output_type": "stream",
       "stream": "stdout",
       "text": [
        "\r",
        "Step 2, Channel= 1187,  Freq= 607.94 MHz (1104.06 MHz),  Power= -36.0 dBm       "
       ]
      },
      {
       "output_type": "stream",
       "stream": "stdout",
       "text": [
        "\r",
        "Step 2, Channel= 1187,  Freq= 607.94 MHz (1104.06 MHz),  Power= -34.0 dBm       "
       ]
      },
      {
       "output_type": "stream",
       "stream": "stdout",
       "text": [
        "\r",
        "Step 2, Channel= 1187,  Freq= 607.94 MHz (1104.06 MHz),  Power= -32.0 dBm       "
       ]
      },
      {
       "output_type": "stream",
       "stream": "stdout",
       "text": [
        "\r",
        "Step 2, Channel= 1187,  Freq= 607.94 MHz (1104.06 MHz),  Power= -30.0 dBm       "
       ]
      },
      {
       "output_type": "stream",
       "stream": "stdout",
       "text": [
        "\r",
        "Step 2, Channel= 1187,  Freq= 607.94 MHz (1104.06 MHz),  Power= -28.0 dBm       "
       ]
      },
      {
       "output_type": "stream",
       "stream": "stdout",
       "text": [
        "\r",
        "Step 2, Channel= 1187,  Freq= 607.94 MHz (1104.06 MHz),  Power= -26.0 dBm       "
       ]
      },
      {
       "output_type": "stream",
       "stream": "stdout",
       "text": [
        "\r",
        "Step 2, Channel= 1187,  Freq= 607.94 MHz (1104.06 MHz),  Power= -24.0 dBm       "
       ]
      },
      {
       "output_type": "stream",
       "stream": "stdout",
       "text": [
        "\r",
        "Step 2, Channel= 1187,  Freq= 607.94 MHz (1104.06 MHz),  Power= -22.0 dBm       "
       ]
      },
      {
       "output_type": "stream",
       "stream": "stdout",
       "text": [
        "\r",
        "Step 2, Channel= 1187,  Freq= 607.94 MHz (1104.06 MHz),  Power= -20.0 dBm       "
       ]
      },
      {
       "output_type": "stream",
       "stream": "stdout",
       "text": [
        "\r",
        "Step 2, Channel= 1187,  Freq= 607.94 MHz (1104.06 MHz),  Power= -18.0 dBm       "
       ]
      },
      {
       "output_type": "stream",
       "stream": "stdout",
       "text": [
        "\r",
        "Step 2, Channel= 1187,  Freq= 607.94 MHz (1104.06 MHz),  Power= -16.0 dBm       "
       ]
      },
      {
       "output_type": "stream",
       "stream": "stdout",
       "text": [
        "\r",
        "Step 2, Channel= 1187,  Freq= 607.94 MHz (1104.06 MHz),  Power= -14.0 dBm       "
       ]
      },
      {
       "output_type": "stream",
       "stream": "stdout",
       "text": [
        "\r",
        "Step 2, Channel= 1187,  Freq= 607.94 MHz (1104.06 MHz),  Power= -12.0 dBm       "
       ]
      },
      {
       "output_type": "stream",
       "stream": "stdout",
       "text": [
        "\r",
        "Step 2, Channel= 1187,  Freq= 607.94 MHz (1104.06 MHz),  Power= -10.0 dBm       "
       ]
      },
      {
       "output_type": "stream",
       "stream": "stdout",
       "text": [
        "\r",
        "Step 3, Channel= 1057,  Freq= 635.10 MHz (1076.90 MHz),  Power= -70.0 dBm       "
       ]
      },
      {
       "output_type": "stream",
       "stream": "stdout",
       "text": [
        "\r",
        "Step 3, Channel= 1057,  Freq= 635.10 MHz (1076.90 MHz),  Power= -68.0 dBm       "
       ]
      },
      {
       "output_type": "stream",
       "stream": "stdout",
       "text": [
        "\r",
        "Step 3, Channel= 1057,  Freq= 635.10 MHz (1076.90 MHz),  Power= -66.0 dBm       "
       ]
      },
      {
       "output_type": "stream",
       "stream": "stdout",
       "text": [
        "\r",
        "Step 3, Channel= 1057,  Freq= 635.10 MHz (1076.90 MHz),  Power= -64.0 dBm       "
       ]
      },
      {
       "output_type": "stream",
       "stream": "stdout",
       "text": [
        "\r",
        "Step 3, Channel= 1057,  Freq= 635.10 MHz (1076.90 MHz),  Power= -62.0 dBm       "
       ]
      },
      {
       "output_type": "stream",
       "stream": "stdout",
       "text": [
        "\r",
        "Step 3, Channel= 1057,  Freq= 635.10 MHz (1076.90 MHz),  Power= -60.0 dBm       "
       ]
      },
      {
       "output_type": "stream",
       "stream": "stdout",
       "text": [
        "\r",
        "Step 3, Channel= 1057,  Freq= 635.10 MHz (1076.90 MHz),  Power= -58.0 dBm       "
       ]
      },
      {
       "output_type": "stream",
       "stream": "stdout",
       "text": [
        "\r",
        "Step 3, Channel= 1057,  Freq= 635.10 MHz (1076.90 MHz),  Power= -56.0 dBm       "
       ]
      },
      {
       "output_type": "stream",
       "stream": "stdout",
       "text": [
        "\r",
        "Step 3, Channel= 1057,  Freq= 635.10 MHz (1076.90 MHz),  Power= -54.0 dBm       "
       ]
      },
      {
       "output_type": "stream",
       "stream": "stdout",
       "text": [
        "\r",
        "Step 3, Channel= 1057,  Freq= 635.10 MHz (1076.90 MHz),  Power= -52.0 dBm       "
       ]
      },
      {
       "output_type": "stream",
       "stream": "stdout",
       "text": [
        "\r",
        "Step 3, Channel= 1057,  Freq= 635.10 MHz (1076.90 MHz),  Power= -50.0 dBm       "
       ]
      },
      {
       "output_type": "stream",
       "stream": "stdout",
       "text": [
        "\r",
        "Step 3, Channel= 1057,  Freq= 635.10 MHz (1076.90 MHz),  Power= -48.0 dBm       "
       ]
      },
      {
       "output_type": "stream",
       "stream": "stdout",
       "text": [
        "\r",
        "Step 3, Channel= 1057,  Freq= 635.10 MHz (1076.90 MHz),  Power= -46.0 dBm       "
       ]
      },
      {
       "output_type": "stream",
       "stream": "stdout",
       "text": [
        "\r",
        "Step 3, Channel= 1057,  Freq= 635.10 MHz (1076.90 MHz),  Power= -44.0 dBm       "
       ]
      },
      {
       "output_type": "stream",
       "stream": "stdout",
       "text": [
        "\r",
        "Step 3, Channel= 1057,  Freq= 635.10 MHz (1076.90 MHz),  Power= -42.0 dBm       "
       ]
      },
      {
       "output_type": "stream",
       "stream": "stdout",
       "text": [
        "\r",
        "Step 3, Channel= 1057,  Freq= 635.10 MHz (1076.90 MHz),  Power= -40.0 dBm       "
       ]
      },
      {
       "output_type": "stream",
       "stream": "stdout",
       "text": [
        "\r",
        "Step 3, Channel= 1057,  Freq= 635.10 MHz (1076.90 MHz),  Power= -38.0 dBm       "
       ]
      },
      {
       "output_type": "stream",
       "stream": "stdout",
       "text": [
        "\r",
        "Step 3, Channel= 1057,  Freq= 635.10 MHz (1076.90 MHz),  Power= -36.0 dBm       "
       ]
      },
      {
       "output_type": "stream",
       "stream": "stdout",
       "text": [
        "\r",
        "Step 3, Channel= 1057,  Freq= 635.10 MHz (1076.90 MHz),  Power= -34.0 dBm       "
       ]
      },
      {
       "output_type": "stream",
       "stream": "stdout",
       "text": [
        "\r",
        "Step 3, Channel= 1057,  Freq= 635.10 MHz (1076.90 MHz),  Power= -32.0 dBm       "
       ]
      },
      {
       "output_type": "stream",
       "stream": "stdout",
       "text": [
        "\r",
        "Step 3, Channel= 1057,  Freq= 635.10 MHz (1076.90 MHz),  Power= -30.0 dBm       "
       ]
      },
      {
       "output_type": "stream",
       "stream": "stdout",
       "text": [
        "\r",
        "Step 3, Channel= 1057,  Freq= 635.10 MHz (1076.90 MHz),  Power= -28.0 dBm       "
       ]
      },
      {
       "output_type": "stream",
       "stream": "stdout",
       "text": [
        "\r",
        "Step 3, Channel= 1057,  Freq= 635.10 MHz (1076.90 MHz),  Power= -26.0 dBm       "
       ]
      },
      {
       "output_type": "stream",
       "stream": "stdout",
       "text": [
        "\r",
        "Step 3, Channel= 1057,  Freq= 635.10 MHz (1076.90 MHz),  Power= -24.0 dBm       "
       ]
      },
      {
       "output_type": "stream",
       "stream": "stdout",
       "text": [
        "\r",
        "Step 3, Channel= 1057,  Freq= 635.10 MHz (1076.90 MHz),  Power= -22.0 dBm       "
       ]
      },
      {
       "output_type": "stream",
       "stream": "stdout",
       "text": [
        "\r",
        "Step 3, Channel= 1057,  Freq= 635.10 MHz (1076.90 MHz),  Power= -20.0 dBm       "
       ]
      },
      {
       "output_type": "stream",
       "stream": "stdout",
       "text": [
        "\r",
        "Step 3, Channel= 1057,  Freq= 635.10 MHz (1076.90 MHz),  Power= -18.0 dBm       "
       ]
      },
      {
       "output_type": "stream",
       "stream": "stdout",
       "text": [
        "\r",
        "Step 3, Channel= 1057,  Freq= 635.10 MHz (1076.90 MHz),  Power= -16.0 dBm       "
       ]
      },
      {
       "output_type": "stream",
       "stream": "stdout",
       "text": [
        "\r",
        "Step 3, Channel= 1057,  Freq= 635.10 MHz (1076.90 MHz),  Power= -14.0 dBm       "
       ]
      },
      {
       "output_type": "stream",
       "stream": "stdout",
       "text": [
        "\r",
        "Step 3, Channel= 1057,  Freq= 635.10 MHz (1076.90 MHz),  Power= -12.0 dBm       "
       ]
      },
      {
       "output_type": "stream",
       "stream": "stdout",
       "text": [
        "\r",
        "Step 3, Channel= 1057,  Freq= 635.10 MHz (1076.90 MHz),  Power= -10.0 dBm       "
       ]
      },
      {
       "output_type": "stream",
       "stream": "stdout",
       "text": [
        "\r",
        "Step 4, Channel= 2338,  Freq= 367.39 MHz (1344.61 MHz),  Power= -70.0 dBm       "
       ]
      },
      {
       "output_type": "stream",
       "stream": "stdout",
       "text": [
        "\r",
        "Step 4, Channel= 2338,  Freq= 367.39 MHz (1344.61 MHz),  Power= -68.0 dBm       "
       ]
      },
      {
       "output_type": "stream",
       "stream": "stdout",
       "text": [
        "\r",
        "Step 4, Channel= 2338,  Freq= 367.39 MHz (1344.61 MHz),  Power= -66.0 dBm       "
       ]
      },
      {
       "output_type": "stream",
       "stream": "stdout",
       "text": [
        "\r",
        "Step 4, Channel= 2338,  Freq= 367.39 MHz (1344.61 MHz),  Power= -64.0 dBm       "
       ]
      },
      {
       "output_type": "stream",
       "stream": "stdout",
       "text": [
        "\r",
        "Step 4, Channel= 2338,  Freq= 367.39 MHz (1344.61 MHz),  Power= -62.0 dBm       "
       ]
      },
      {
       "output_type": "stream",
       "stream": "stdout",
       "text": [
        "\r",
        "Step 4, Channel= 2338,  Freq= 367.39 MHz (1344.61 MHz),  Power= -60.0 dBm       "
       ]
      },
      {
       "output_type": "stream",
       "stream": "stdout",
       "text": [
        "\r",
        "Step 4, Channel= 2338,  Freq= 367.39 MHz (1344.61 MHz),  Power= -58.0 dBm       "
       ]
      },
      {
       "output_type": "stream",
       "stream": "stdout",
       "text": [
        "\r",
        "Step 4, Channel= 2338,  Freq= 367.39 MHz (1344.61 MHz),  Power= -56.0 dBm       "
       ]
      },
      {
       "output_type": "stream",
       "stream": "stdout",
       "text": [
        "\r",
        "Step 4, Channel= 2338,  Freq= 367.39 MHz (1344.61 MHz),  Power= -54.0 dBm       "
       ]
      },
      {
       "output_type": "stream",
       "stream": "stdout",
       "text": [
        "\r",
        "Step 4, Channel= 2338,  Freq= 367.39 MHz (1344.61 MHz),  Power= -52.0 dBm       "
       ]
      },
      {
       "output_type": "stream",
       "stream": "stdout",
       "text": [
        "\r",
        "Step 4, Channel= 2338,  Freq= 367.39 MHz (1344.61 MHz),  Power= -50.0 dBm       "
       ]
      },
      {
       "output_type": "stream",
       "stream": "stdout",
       "text": [
        "\r",
        "Step 4, Channel= 2338,  Freq= 367.39 MHz (1344.61 MHz),  Power= -48.0 dBm       "
       ]
      },
      {
       "output_type": "stream",
       "stream": "stdout",
       "text": [
        "\r",
        "Step 4, Channel= 2338,  Freq= 367.39 MHz (1344.61 MHz),  Power= -46.0 dBm       "
       ]
      },
      {
       "output_type": "stream",
       "stream": "stdout",
       "text": [
        "\r",
        "Step 4, Channel= 2338,  Freq= 367.39 MHz (1344.61 MHz),  Power= -44.0 dBm       "
       ]
      },
      {
       "output_type": "stream",
       "stream": "stdout",
       "text": [
        "\r",
        "Step 4, Channel= 2338,  Freq= 367.39 MHz (1344.61 MHz),  Power= -42.0 dBm       "
       ]
      },
      {
       "output_type": "stream",
       "stream": "stdout",
       "text": [
        "\r",
        "Step 4, Channel= 2338,  Freq= 367.39 MHz (1344.61 MHz),  Power= -40.0 dBm       "
       ]
      },
      {
       "output_type": "stream",
       "stream": "stdout",
       "text": [
        "\r",
        "Step 4, Channel= 2338,  Freq= 367.39 MHz (1344.61 MHz),  Power= -38.0 dBm       "
       ]
      },
      {
       "output_type": "stream",
       "stream": "stdout",
       "text": [
        "\r",
        "Step 4, Channel= 2338,  Freq= 367.39 MHz (1344.61 MHz),  Power= -36.0 dBm       "
       ]
      },
      {
       "output_type": "stream",
       "stream": "stdout",
       "text": [
        "\r",
        "Step 4, Channel= 2338,  Freq= 367.39 MHz (1344.61 MHz),  Power= -34.0 dBm       "
       ]
      },
      {
       "output_type": "stream",
       "stream": "stdout",
       "text": [
        "\r",
        "Step 4, Channel= 2338,  Freq= 367.39 MHz (1344.61 MHz),  Power= -32.0 dBm       "
       ]
      },
      {
       "output_type": "stream",
       "stream": "stdout",
       "text": [
        "\r",
        "Step 4, Channel= 2338,  Freq= 367.39 MHz (1344.61 MHz),  Power= -30.0 dBm       "
       ]
      },
      {
       "output_type": "stream",
       "stream": "stdout",
       "text": [
        "\r",
        "Step 4, Channel= 2338,  Freq= 367.39 MHz (1344.61 MHz),  Power= -28.0 dBm       "
       ]
      },
      {
       "output_type": "stream",
       "stream": "stdout",
       "text": [
        "\r",
        "Step 4, Channel= 2338,  Freq= 367.39 MHz (1344.61 MHz),  Power= -26.0 dBm       "
       ]
      },
      {
       "output_type": "stream",
       "stream": "stdout",
       "text": [
        "\r",
        "Step 4, Channel= 2338,  Freq= 367.39 MHz (1344.61 MHz),  Power= -24.0 dBm       "
       ]
      },
      {
       "output_type": "stream",
       "stream": "stdout",
       "text": [
        "\r",
        "Step 4, Channel= 2338,  Freq= 367.39 MHz (1344.61 MHz),  Power= -22.0 dBm       "
       ]
      },
      {
       "output_type": "stream",
       "stream": "stdout",
       "text": [
        "\r",
        "Step 4, Channel= 2338,  Freq= 367.39 MHz (1344.61 MHz),  Power= -20.0 dBm       "
       ]
      },
      {
       "output_type": "stream",
       "stream": "stdout",
       "text": [
        "\r",
        "Step 4, Channel= 2338,  Freq= 367.39 MHz (1344.61 MHz),  Power= -18.0 dBm       "
       ]
      },
      {
       "output_type": "stream",
       "stream": "stdout",
       "text": [
        "\r",
        "Step 4, Channel= 2338,  Freq= 367.39 MHz (1344.61 MHz),  Power= -16.0 dBm       "
       ]
      },
      {
       "output_type": "stream",
       "stream": "stdout",
       "text": [
        "\r",
        "Step 4, Channel= 2338,  Freq= 367.39 MHz (1344.61 MHz),  Power= -14.0 dBm       "
       ]
      },
      {
       "output_type": "stream",
       "stream": "stdout",
       "text": [
        "\r",
        "Step 4, Channel= 2338,  Freq= 367.39 MHz (1344.61 MHz),  Power= -12.0 dBm       "
       ]
      },
      {
       "output_type": "stream",
       "stream": "stdout",
       "text": [
        "\r",
        "Step 4, Channel= 2338,  Freq= 367.39 MHz (1344.61 MHz),  Power= -10.0 dBm       "
       ]
      },
      {
       "output_type": "stream",
       "stream": "stdout",
       "text": [
        "\r",
        "Step 5, Channel= 2188,  Freq= 398.74 MHz (1313.26 MHz),  Power= -70.0 dBm       "
       ]
      },
      {
       "output_type": "stream",
       "stream": "stdout",
       "text": [
        "\r",
        "Step 5, Channel= 2188,  Freq= 398.74 MHz (1313.26 MHz),  Power= -68.0 dBm       "
       ]
      },
      {
       "output_type": "stream",
       "stream": "stdout",
       "text": [
        "\r",
        "Step 5, Channel= 2188,  Freq= 398.74 MHz (1313.26 MHz),  Power= -66.0 dBm       "
       ]
      },
      {
       "output_type": "stream",
       "stream": "stdout",
       "text": [
        "\r",
        "Step 5, Channel= 2188,  Freq= 398.74 MHz (1313.26 MHz),  Power= -64.0 dBm       "
       ]
      },
      {
       "output_type": "stream",
       "stream": "stdout",
       "text": [
        "\r",
        "Step 5, Channel= 2188,  Freq= 398.74 MHz (1313.26 MHz),  Power= -62.0 dBm       "
       ]
      },
      {
       "output_type": "stream",
       "stream": "stdout",
       "text": [
        "\r",
        "Step 5, Channel= 2188,  Freq= 398.74 MHz (1313.26 MHz),  Power= -60.0 dBm       "
       ]
      },
      {
       "output_type": "stream",
       "stream": "stdout",
       "text": [
        "\r",
        "Step 5, Channel= 2188,  Freq= 398.74 MHz (1313.26 MHz),  Power= -58.0 dBm       "
       ]
      },
      {
       "output_type": "stream",
       "stream": "stdout",
       "text": [
        "\r",
        "Step 5, Channel= 2188,  Freq= 398.74 MHz (1313.26 MHz),  Power= -56.0 dBm       "
       ]
      },
      {
       "output_type": "stream",
       "stream": "stdout",
       "text": [
        "\r",
        "Step 5, Channel= 2188,  Freq= 398.74 MHz (1313.26 MHz),  Power= -54.0 dBm       "
       ]
      },
      {
       "output_type": "stream",
       "stream": "stdout",
       "text": [
        "\r",
        "Step 5, Channel= 2188,  Freq= 398.74 MHz (1313.26 MHz),  Power= -52.0 dBm       "
       ]
      },
      {
       "output_type": "stream",
       "stream": "stdout",
       "text": [
        "\r",
        "Step 5, Channel= 2188,  Freq= 398.74 MHz (1313.26 MHz),  Power= -50.0 dBm       "
       ]
      },
      {
       "output_type": "stream",
       "stream": "stdout",
       "text": [
        "\r",
        "Step 5, Channel= 2188,  Freq= 398.74 MHz (1313.26 MHz),  Power= -48.0 dBm       "
       ]
      },
      {
       "output_type": "stream",
       "stream": "stdout",
       "text": [
        "\r",
        "Step 5, Channel= 2188,  Freq= 398.74 MHz (1313.26 MHz),  Power= -46.0 dBm       "
       ]
      },
      {
       "output_type": "stream",
       "stream": "stdout",
       "text": [
        "\r",
        "Step 5, Channel= 2188,  Freq= 398.74 MHz (1313.26 MHz),  Power= -44.0 dBm       "
       ]
      },
      {
       "output_type": "stream",
       "stream": "stdout",
       "text": [
        "\r",
        "Step 5, Channel= 2188,  Freq= 398.74 MHz (1313.26 MHz),  Power= -42.0 dBm       "
       ]
      },
      {
       "output_type": "stream",
       "stream": "stdout",
       "text": [
        "\r",
        "Step 5, Channel= 2188,  Freq= 398.74 MHz (1313.26 MHz),  Power= -40.0 dBm       "
       ]
      },
      {
       "output_type": "stream",
       "stream": "stdout",
       "text": [
        "\r",
        "Step 5, Channel= 2188,  Freq= 398.74 MHz (1313.26 MHz),  Power= -38.0 dBm       "
       ]
      },
      {
       "output_type": "stream",
       "stream": "stdout",
       "text": [
        "\r",
        "Step 5, Channel= 2188,  Freq= 398.74 MHz (1313.26 MHz),  Power= -36.0 dBm       "
       ]
      },
      {
       "output_type": "stream",
       "stream": "stdout",
       "text": [
        "\r",
        "Step 5, Channel= 2188,  Freq= 398.74 MHz (1313.26 MHz),  Power= -34.0 dBm       "
       ]
      },
      {
       "output_type": "stream",
       "stream": "stdout",
       "text": [
        "\r",
        "Step 5, Channel= 2188,  Freq= 398.74 MHz (1313.26 MHz),  Power= -32.0 dBm       "
       ]
      },
      {
       "output_type": "stream",
       "stream": "stdout",
       "text": [
        "\r",
        "Step 5, Channel= 2188,  Freq= 398.74 MHz (1313.26 MHz),  Power= -30.0 dBm       "
       ]
      },
      {
       "output_type": "stream",
       "stream": "stdout",
       "text": [
        "\r",
        "Step 5, Channel= 2188,  Freq= 398.74 MHz (1313.26 MHz),  Power= -28.0 dBm       "
       ]
      },
      {
       "output_type": "stream",
       "stream": "stdout",
       "text": [
        "\r",
        "Step 5, Channel= 2188,  Freq= 398.74 MHz (1313.26 MHz),  Power= -26.0 dBm       "
       ]
      },
      {
       "output_type": "stream",
       "stream": "stdout",
       "text": [
        "\r",
        "Step 5, Channel= 2188,  Freq= 398.74 MHz (1313.26 MHz),  Power= -24.0 dBm       "
       ]
      },
      {
       "output_type": "stream",
       "stream": "stdout",
       "text": [
        "\r",
        "Step 5, Channel= 2188,  Freq= 398.74 MHz (1313.26 MHz),  Power= -22.0 dBm       "
       ]
      },
      {
       "output_type": "stream",
       "stream": "stdout",
       "text": [
        "\r",
        "Step 5, Channel= 2188,  Freq= 398.74 MHz (1313.26 MHz),  Power= -20.0 dBm       "
       ]
      },
      {
       "output_type": "stream",
       "stream": "stdout",
       "text": [
        "\r",
        "Step 5, Channel= 2188,  Freq= 398.74 MHz (1313.26 MHz),  Power= -18.0 dBm       "
       ]
      },
      {
       "output_type": "stream",
       "stream": "stdout",
       "text": [
        "\r",
        "Step 5, Channel= 2188,  Freq= 398.74 MHz (1313.26 MHz),  Power= -16.0 dBm       "
       ]
      },
      {
       "output_type": "stream",
       "stream": "stdout",
       "text": [
        "\r",
        "Step 5, Channel= 2188,  Freq= 398.74 MHz (1313.26 MHz),  Power= -14.0 dBm       "
       ]
      },
      {
       "output_type": "stream",
       "stream": "stdout",
       "text": [
        "\r",
        "Step 5, Channel= 2188,  Freq= 398.74 MHz (1313.26 MHz),  Power= -12.0 dBm       "
       ]
      },
      {
       "output_type": "stream",
       "stream": "stdout",
       "text": [
        "\r",
        "Step 5, Channel= 2188,  Freq= 398.74 MHz (1313.26 MHz),  Power= -10.0 dBm       "
       ]
      },
      {
       "output_type": "stream",
       "stream": "stdout",
       "text": [
        "\r",
        "Step 6, Channel= 2725,  Freq= 286.52 MHz (1425.48 MHz),  Power= -70.0 dBm       "
       ]
      },
      {
       "output_type": "stream",
       "stream": "stdout",
       "text": [
        "\r",
        "Step 6, Channel= 2725,  Freq= 286.52 MHz (1425.48 MHz),  Power= -68.0 dBm       "
       ]
      },
      {
       "output_type": "stream",
       "stream": "stdout",
       "text": [
        "\r",
        "Step 6, Channel= 2725,  Freq= 286.52 MHz (1425.48 MHz),  Power= -66.0 dBm       "
       ]
      },
      {
       "output_type": "stream",
       "stream": "stdout",
       "text": [
        "\r",
        "Step 6, Channel= 2725,  Freq= 286.52 MHz (1425.48 MHz),  Power= -64.0 dBm       "
       ]
      },
      {
       "output_type": "stream",
       "stream": "stdout",
       "text": [
        "\r",
        "Step 6, Channel= 2725,  Freq= 286.52 MHz (1425.48 MHz),  Power= -62.0 dBm       "
       ]
      },
      {
       "output_type": "stream",
       "stream": "stdout",
       "text": [
        "\r",
        "Step 6, Channel= 2725,  Freq= 286.52 MHz (1425.48 MHz),  Power= -60.0 dBm       "
       ]
      },
      {
       "output_type": "stream",
       "stream": "stdout",
       "text": [
        "\r",
        "Step 6, Channel= 2725,  Freq= 286.52 MHz (1425.48 MHz),  Power= -58.0 dBm       "
       ]
      },
      {
       "output_type": "stream",
       "stream": "stdout",
       "text": [
        "\r",
        "Step 6, Channel= 2725,  Freq= 286.52 MHz (1425.48 MHz),  Power= -56.0 dBm       "
       ]
      },
      {
       "output_type": "stream",
       "stream": "stdout",
       "text": [
        "\r",
        "Step 6, Channel= 2725,  Freq= 286.52 MHz (1425.48 MHz),  Power= -54.0 dBm       "
       ]
      },
      {
       "output_type": "stream",
       "stream": "stdout",
       "text": [
        "\r",
        "Step 6, Channel= 2725,  Freq= 286.52 MHz (1425.48 MHz),  Power= -52.0 dBm       "
       ]
      },
      {
       "output_type": "stream",
       "stream": "stdout",
       "text": [
        "\r",
        "Step 6, Channel= 2725,  Freq= 286.52 MHz (1425.48 MHz),  Power= -50.0 dBm       "
       ]
      },
      {
       "output_type": "stream",
       "stream": "stdout",
       "text": [
        "\r",
        "Step 6, Channel= 2725,  Freq= 286.52 MHz (1425.48 MHz),  Power= -48.0 dBm       "
       ]
      },
      {
       "output_type": "stream",
       "stream": "stdout",
       "text": [
        "\r",
        "Step 6, Channel= 2725,  Freq= 286.52 MHz (1425.48 MHz),  Power= -46.0 dBm       "
       ]
      },
      {
       "output_type": "stream",
       "stream": "stdout",
       "text": [
        "\r",
        "Step 6, Channel= 2725,  Freq= 286.52 MHz (1425.48 MHz),  Power= -44.0 dBm       "
       ]
      },
      {
       "output_type": "stream",
       "stream": "stdout",
       "text": [
        "\r",
        "Step 6, Channel= 2725,  Freq= 286.52 MHz (1425.48 MHz),  Power= -42.0 dBm       "
       ]
      },
      {
       "output_type": "stream",
       "stream": "stdout",
       "text": [
        "\r",
        "Step 6, Channel= 2725,  Freq= 286.52 MHz (1425.48 MHz),  Power= -40.0 dBm       "
       ]
      },
      {
       "output_type": "stream",
       "stream": "stdout",
       "text": [
        "\r",
        "Step 6, Channel= 2725,  Freq= 286.52 MHz (1425.48 MHz),  Power= -38.0 dBm       "
       ]
      },
      {
       "output_type": "stream",
       "stream": "stdout",
       "text": [
        "\r",
        "Step 6, Channel= 2725,  Freq= 286.52 MHz (1425.48 MHz),  Power= -36.0 dBm       "
       ]
      },
      {
       "output_type": "stream",
       "stream": "stdout",
       "text": [
        "\r",
        "Step 6, Channel= 2725,  Freq= 286.52 MHz (1425.48 MHz),  Power= -34.0 dBm       "
       ]
      },
      {
       "output_type": "stream",
       "stream": "stdout",
       "text": [
        "\r",
        "Step 6, Channel= 2725,  Freq= 286.52 MHz (1425.48 MHz),  Power= -32.0 dBm       "
       ]
      },
      {
       "output_type": "stream",
       "stream": "stdout",
       "text": [
        "\r",
        "Step 6, Channel= 2725,  Freq= 286.52 MHz (1425.48 MHz),  Power= -30.0 dBm       "
       ]
      },
      {
       "output_type": "stream",
       "stream": "stdout",
       "text": [
        "\r",
        "Step 6, Channel= 2725,  Freq= 286.52 MHz (1425.48 MHz),  Power= -28.0 dBm       "
       ]
      },
      {
       "output_type": "stream",
       "stream": "stdout",
       "text": [
        "\r",
        "Step 6, Channel= 2725,  Freq= 286.52 MHz (1425.48 MHz),  Power= -26.0 dBm       "
       ]
      },
      {
       "output_type": "stream",
       "stream": "stdout",
       "text": [
        "\r",
        "Step 6, Channel= 2725,  Freq= 286.52 MHz (1425.48 MHz),  Power= -24.0 dBm       "
       ]
      },
      {
       "output_type": "stream",
       "stream": "stdout",
       "text": [
        "\r",
        "Step 6, Channel= 2725,  Freq= 286.52 MHz (1425.48 MHz),  Power= -22.0 dBm       "
       ]
      },
      {
       "output_type": "stream",
       "stream": "stdout",
       "text": [
        "\r",
        "Step 6, Channel= 2725,  Freq= 286.52 MHz (1425.48 MHz),  Power= -20.0 dBm       "
       ]
      },
      {
       "output_type": "stream",
       "stream": "stdout",
       "text": [
        "\r",
        "Step 6, Channel= 2725,  Freq= 286.52 MHz (1425.48 MHz),  Power= -18.0 dBm       "
       ]
      },
      {
       "output_type": "stream",
       "stream": "stdout",
       "text": [
        "\r",
        "Step 6, Channel= 2725,  Freq= 286.52 MHz (1425.48 MHz),  Power= -16.0 dBm       "
       ]
      },
      {
       "output_type": "stream",
       "stream": "stdout",
       "text": [
        "\r",
        "Step 6, Channel= 2725,  Freq= 286.52 MHz (1425.48 MHz),  Power= -14.0 dBm       "
       ]
      },
      {
       "output_type": "stream",
       "stream": "stdout",
       "text": [
        "\r",
        "Step 6, Channel= 2725,  Freq= 286.52 MHz (1425.48 MHz),  Power= -12.0 dBm       "
       ]
      },
      {
       "output_type": "stream",
       "stream": "stdout",
       "text": [
        "\r",
        "Step 6, Channel= 2725,  Freq= 286.52 MHz (1425.48 MHz),  Power= -10.0 dBm       "
       ]
      },
      {
       "output_type": "stream",
       "stream": "stdout",
       "text": [
        "\r",
        "Step 7, Channel= 716,  Freq= 706.37 MHz (1005.63 MHz),  Power= -70.0 dBm       "
       ]
      },
      {
       "output_type": "stream",
       "stream": "stdout",
       "text": [
        "\r",
        "Step 7, Channel= 716,  Freq= 706.37 MHz (1005.63 MHz),  Power= -68.0 dBm       "
       ]
      },
      {
       "output_type": "stream",
       "stream": "stdout",
       "text": [
        "\r",
        "Step 7, Channel= 716,  Freq= 706.37 MHz (1005.63 MHz),  Power= -66.0 dBm       "
       ]
      },
      {
       "output_type": "stream",
       "stream": "stdout",
       "text": [
        "\r",
        "Step 7, Channel= 716,  Freq= 706.37 MHz (1005.63 MHz),  Power= -64.0 dBm       "
       ]
      },
      {
       "output_type": "stream",
       "stream": "stdout",
       "text": [
        "\r",
        "Step 7, Channel= 716,  Freq= 706.37 MHz (1005.63 MHz),  Power= -62.0 dBm       "
       ]
      },
      {
       "output_type": "stream",
       "stream": "stdout",
       "text": [
        "\r",
        "Step 7, Channel= 716,  Freq= 706.37 MHz (1005.63 MHz),  Power= -60.0 dBm       "
       ]
      },
      {
       "output_type": "stream",
       "stream": "stdout",
       "text": [
        "\r",
        "Step 7, Channel= 716,  Freq= 706.37 MHz (1005.63 MHz),  Power= -58.0 dBm       "
       ]
      },
      {
       "output_type": "stream",
       "stream": "stdout",
       "text": [
        "\r",
        "Step 7, Channel= 716,  Freq= 706.37 MHz (1005.63 MHz),  Power= -56.0 dBm       "
       ]
      },
      {
       "output_type": "stream",
       "stream": "stdout",
       "text": [
        "\r",
        "Step 7, Channel= 716,  Freq= 706.37 MHz (1005.63 MHz),  Power= -54.0 dBm       "
       ]
      },
      {
       "output_type": "stream",
       "stream": "stdout",
       "text": [
        "\r",
        "Step 7, Channel= 716,  Freq= 706.37 MHz (1005.63 MHz),  Power= -52.0 dBm       "
       ]
      },
      {
       "output_type": "stream",
       "stream": "stdout",
       "text": [
        "\r",
        "Step 7, Channel= 716,  Freq= 706.37 MHz (1005.63 MHz),  Power= -50.0 dBm       "
       ]
      },
      {
       "output_type": "stream",
       "stream": "stdout",
       "text": [
        "\r",
        "Step 7, Channel= 716,  Freq= 706.37 MHz (1005.63 MHz),  Power= -48.0 dBm       "
       ]
      },
      {
       "output_type": "stream",
       "stream": "stdout",
       "text": [
        "\r",
        "Step 7, Channel= 716,  Freq= 706.37 MHz (1005.63 MHz),  Power= -46.0 dBm       "
       ]
      },
      {
       "output_type": "stream",
       "stream": "stdout",
       "text": [
        "\r",
        "Step 7, Channel= 716,  Freq= 706.37 MHz (1005.63 MHz),  Power= -44.0 dBm       "
       ]
      },
      {
       "output_type": "stream",
       "stream": "stdout",
       "text": [
        "\r",
        "Step 7, Channel= 716,  Freq= 706.37 MHz (1005.63 MHz),  Power= -42.0 dBm       "
       ]
      },
      {
       "output_type": "stream",
       "stream": "stdout",
       "text": [
        "\r",
        "Step 7, Channel= 716,  Freq= 706.37 MHz (1005.63 MHz),  Power= -40.0 dBm       "
       ]
      },
      {
       "output_type": "stream",
       "stream": "stdout",
       "text": [
        "\r",
        "Step 7, Channel= 716,  Freq= 706.37 MHz (1005.63 MHz),  Power= -38.0 dBm       "
       ]
      },
      {
       "output_type": "stream",
       "stream": "stdout",
       "text": [
        "\r",
        "Step 7, Channel= 716,  Freq= 706.37 MHz (1005.63 MHz),  Power= -36.0 dBm       "
       ]
      },
      {
       "output_type": "stream",
       "stream": "stdout",
       "text": [
        "\r",
        "Step 7, Channel= 716,  Freq= 706.37 MHz (1005.63 MHz),  Power= -34.0 dBm       "
       ]
      },
      {
       "output_type": "stream",
       "stream": "stdout",
       "text": [
        "\r",
        "Step 7, Channel= 716,  Freq= 706.37 MHz (1005.63 MHz),  Power= -32.0 dBm       "
       ]
      },
      {
       "output_type": "stream",
       "stream": "stdout",
       "text": [
        "\r",
        "Step 7, Channel= 716,  Freq= 706.37 MHz (1005.63 MHz),  Power= -30.0 dBm       "
       ]
      },
      {
       "output_type": "stream",
       "stream": "stdout",
       "text": [
        "\r",
        "Step 7, Channel= 716,  Freq= 706.37 MHz (1005.63 MHz),  Power= -28.0 dBm       "
       ]
      },
      {
       "output_type": "stream",
       "stream": "stdout",
       "text": [
        "\r",
        "Step 7, Channel= 716,  Freq= 706.37 MHz (1005.63 MHz),  Power= -26.0 dBm       "
       ]
      },
      {
       "output_type": "stream",
       "stream": "stdout",
       "text": [
        "\r",
        "Step 7, Channel= 716,  Freq= 706.37 MHz (1005.63 MHz),  Power= -24.0 dBm       "
       ]
      },
      {
       "output_type": "stream",
       "stream": "stdout",
       "text": [
        "\r",
        "Step 7, Channel= 716,  Freq= 706.37 MHz (1005.63 MHz),  Power= -22.0 dBm       "
       ]
      },
      {
       "output_type": "stream",
       "stream": "stdout",
       "text": [
        "\r",
        "Step 7, Channel= 716,  Freq= 706.37 MHz (1005.63 MHz),  Power= -20.0 dBm       "
       ]
      },
      {
       "output_type": "stream",
       "stream": "stdout",
       "text": [
        "\r",
        "Step 7, Channel= 716,  Freq= 706.37 MHz (1005.63 MHz),  Power= -18.0 dBm       "
       ]
      },
      {
       "output_type": "stream",
       "stream": "stdout",
       "text": [
        "\r",
        "Step 7, Channel= 716,  Freq= 706.37 MHz (1005.63 MHz),  Power= -16.0 dBm       "
       ]
      },
      {
       "output_type": "stream",
       "stream": "stdout",
       "text": [
        "\r",
        "Step 7, Channel= 716,  Freq= 706.37 MHz (1005.63 MHz),  Power= -14.0 dBm       "
       ]
      },
      {
       "output_type": "stream",
       "stream": "stdout",
       "text": [
        "\r",
        "Step 7, Channel= 716,  Freq= 706.37 MHz (1005.63 MHz),  Power= -12.0 dBm       "
       ]
      },
      {
       "output_type": "stream",
       "stream": "stdout",
       "text": [
        "\r",
        "Step 7, Channel= 716,  Freq= 706.37 MHz (1005.63 MHz),  Power= -10.0 dBm       "
       ]
      },
      {
       "output_type": "stream",
       "stream": "stdout",
       "text": [
        "\r",
        "Step 8, Channel= 1551,  Freq= 531.87 MHz (1180.13 MHz),  Power= -70.0 dBm       "
       ]
      },
      {
       "output_type": "stream",
       "stream": "stdout",
       "text": [
        "\r",
        "Step 8, Channel= 1551,  Freq= 531.87 MHz (1180.13 MHz),  Power= -68.0 dBm       "
       ]
      },
      {
       "output_type": "stream",
       "stream": "stdout",
       "text": [
        "\r",
        "Step 8, Channel= 1551,  Freq= 531.87 MHz (1180.13 MHz),  Power= -66.0 dBm       "
       ]
      },
      {
       "output_type": "stream",
       "stream": "stdout",
       "text": [
        "\r",
        "Step 8, Channel= 1551,  Freq= 531.87 MHz (1180.13 MHz),  Power= -64.0 dBm       "
       ]
      },
      {
       "output_type": "stream",
       "stream": "stdout",
       "text": [
        "\r",
        "Step 8, Channel= 1551,  Freq= 531.87 MHz (1180.13 MHz),  Power= -62.0 dBm       "
       ]
      },
      {
       "output_type": "stream",
       "stream": "stdout",
       "text": [
        "\r",
        "Step 8, Channel= 1551,  Freq= 531.87 MHz (1180.13 MHz),  Power= -60.0 dBm       "
       ]
      },
      {
       "output_type": "stream",
       "stream": "stdout",
       "text": [
        "\r",
        "Step 8, Channel= 1551,  Freq= 531.87 MHz (1180.13 MHz),  Power= -58.0 dBm       "
       ]
      },
      {
       "output_type": "stream",
       "stream": "stdout",
       "text": [
        "\r",
        "Step 8, Channel= 1551,  Freq= 531.87 MHz (1180.13 MHz),  Power= -56.0 dBm       "
       ]
      },
      {
       "output_type": "stream",
       "stream": "stdout",
       "text": [
        "\r",
        "Step 8, Channel= 1551,  Freq= 531.87 MHz (1180.13 MHz),  Power= -54.0 dBm       "
       ]
      },
      {
       "output_type": "stream",
       "stream": "stdout",
       "text": [
        "\r",
        "Step 8, Channel= 1551,  Freq= 531.87 MHz (1180.13 MHz),  Power= -52.0 dBm       "
       ]
      },
      {
       "output_type": "stream",
       "stream": "stdout",
       "text": [
        "\r",
        "Step 8, Channel= 1551,  Freq= 531.87 MHz (1180.13 MHz),  Power= -50.0 dBm       "
       ]
      },
      {
       "output_type": "stream",
       "stream": "stdout",
       "text": [
        "\r",
        "Step 8, Channel= 1551,  Freq= 531.87 MHz (1180.13 MHz),  Power= -48.0 dBm       "
       ]
      },
      {
       "output_type": "stream",
       "stream": "stdout",
       "text": [
        "\r",
        "Step 8, Channel= 1551,  Freq= 531.87 MHz (1180.13 MHz),  Power= -46.0 dBm       "
       ]
      },
      {
       "output_type": "stream",
       "stream": "stdout",
       "text": [
        "\r",
        "Step 8, Channel= 1551,  Freq= 531.87 MHz (1180.13 MHz),  Power= -44.0 dBm       "
       ]
      },
      {
       "output_type": "stream",
       "stream": "stdout",
       "text": [
        "\r",
        "Step 8, Channel= 1551,  Freq= 531.87 MHz (1180.13 MHz),  Power= -42.0 dBm       "
       ]
      },
      {
       "output_type": "stream",
       "stream": "stdout",
       "text": [
        "\r",
        "Step 8, Channel= 1551,  Freq= 531.87 MHz (1180.13 MHz),  Power= -40.0 dBm       "
       ]
      },
      {
       "output_type": "stream",
       "stream": "stdout",
       "text": [
        "\r",
        "Step 8, Channel= 1551,  Freq= 531.87 MHz (1180.13 MHz),  Power= -38.0 dBm       "
       ]
      },
      {
       "output_type": "stream",
       "stream": "stdout",
       "text": [
        "\r",
        "Step 8, Channel= 1551,  Freq= 531.87 MHz (1180.13 MHz),  Power= -36.0 dBm       "
       ]
      },
      {
       "output_type": "stream",
       "stream": "stdout",
       "text": [
        "\r",
        "Step 8, Channel= 1551,  Freq= 531.87 MHz (1180.13 MHz),  Power= -34.0 dBm       "
       ]
      },
      {
       "output_type": "stream",
       "stream": "stdout",
       "text": [
        "\r",
        "Step 8, Channel= 1551,  Freq= 531.87 MHz (1180.13 MHz),  Power= -32.0 dBm       "
       ]
      },
      {
       "output_type": "stream",
       "stream": "stdout",
       "text": [
        "\r",
        "Step 8, Channel= 1551,  Freq= 531.87 MHz (1180.13 MHz),  Power= -30.0 dBm       "
       ]
      },
      {
       "output_type": "stream",
       "stream": "stdout",
       "text": [
        "\r",
        "Step 8, Channel= 1551,  Freq= 531.87 MHz (1180.13 MHz),  Power= -28.0 dBm       "
       ]
      },
      {
       "output_type": "stream",
       "stream": "stdout",
       "text": [
        "\r",
        "Step 8, Channel= 1551,  Freq= 531.87 MHz (1180.13 MHz),  Power= -26.0 dBm       "
       ]
      },
      {
       "output_type": "stream",
       "stream": "stdout",
       "text": [
        "\r",
        "Step 8, Channel= 1551,  Freq= 531.87 MHz (1180.13 MHz),  Power= -24.0 dBm       "
       ]
      },
      {
       "output_type": "stream",
       "stream": "stdout",
       "text": [
        "\r",
        "Step 8, Channel= 1551,  Freq= 531.87 MHz (1180.13 MHz),  Power= -22.0 dBm       "
       ]
      },
      {
       "output_type": "stream",
       "stream": "stdout",
       "text": [
        "\r",
        "Step 8, Channel= 1551,  Freq= 531.87 MHz (1180.13 MHz),  Power= -20.0 dBm       "
       ]
      },
      {
       "output_type": "stream",
       "stream": "stdout",
       "text": [
        "\r",
        "Step 8, Channel= 1551,  Freq= 531.87 MHz (1180.13 MHz),  Power= -18.0 dBm       "
       ]
      },
      {
       "output_type": "stream",
       "stream": "stdout",
       "text": [
        "\r",
        "Step 8, Channel= 1551,  Freq= 531.87 MHz (1180.13 MHz),  Power= -16.0 dBm       "
       ]
      },
      {
       "output_type": "stream",
       "stream": "stdout",
       "text": [
        "\r",
        "Step 8, Channel= 1551,  Freq= 531.87 MHz (1180.13 MHz),  Power= -14.0 dBm       "
       ]
      },
      {
       "output_type": "stream",
       "stream": "stdout",
       "text": [
        "\r",
        "Step 8, Channel= 1551,  Freq= 531.87 MHz (1180.13 MHz),  Power= -12.0 dBm       "
       ]
      },
      {
       "output_type": "stream",
       "stream": "stdout",
       "text": [
        "\r",
        "Step 8, Channel= 1551,  Freq= 531.87 MHz (1180.13 MHz),  Power= -10.0 dBm       "
       ]
      },
      {
       "output_type": "stream",
       "stream": "stdout",
       "text": [
        "\r",
        "Step 9, Channel= 574,  Freq= 736.04 MHz ( 975.96 MHz),  Power= -70.0 dBm       "
       ]
      },
      {
       "output_type": "stream",
       "stream": "stdout",
       "text": [
        "\r",
        "Step 9, Channel= 574,  Freq= 736.04 MHz ( 975.96 MHz),  Power= -68.0 dBm       "
       ]
      },
      {
       "output_type": "stream",
       "stream": "stdout",
       "text": [
        "\r",
        "Step 9, Channel= 574,  Freq= 736.04 MHz ( 975.96 MHz),  Power= -66.0 dBm       "
       ]
      },
      {
       "output_type": "stream",
       "stream": "stdout",
       "text": [
        "\r",
        "Step 9, Channel= 574,  Freq= 736.04 MHz ( 975.96 MHz),  Power= -64.0 dBm       "
       ]
      },
      {
       "output_type": "stream",
       "stream": "stdout",
       "text": [
        "\r",
        "Step 9, Channel= 574,  Freq= 736.04 MHz ( 975.96 MHz),  Power= -62.0 dBm       "
       ]
      },
      {
       "output_type": "stream",
       "stream": "stdout",
       "text": [
        "\r",
        "Step 9, Channel= 574,  Freq= 736.04 MHz ( 975.96 MHz),  Power= -60.0 dBm       "
       ]
      },
      {
       "output_type": "stream",
       "stream": "stdout",
       "text": [
        "\r",
        "Step 9, Channel= 574,  Freq= 736.04 MHz ( 975.96 MHz),  Power= -58.0 dBm       "
       ]
      },
      {
       "output_type": "stream",
       "stream": "stdout",
       "text": [
        "\r",
        "Step 9, Channel= 574,  Freq= 736.04 MHz ( 975.96 MHz),  Power= -56.0 dBm       "
       ]
      },
      {
       "output_type": "stream",
       "stream": "stdout",
       "text": [
        "\r",
        "Step 9, Channel= 574,  Freq= 736.04 MHz ( 975.96 MHz),  Power= -54.0 dBm       "
       ]
      },
      {
       "output_type": "stream",
       "stream": "stdout",
       "text": [
        "\r",
        "Step 9, Channel= 574,  Freq= 736.04 MHz ( 975.96 MHz),  Power= -52.0 dBm       "
       ]
      },
      {
       "output_type": "stream",
       "stream": "stdout",
       "text": [
        "\r",
        "Step 9, Channel= 574,  Freq= 736.04 MHz ( 975.96 MHz),  Power= -50.0 dBm       "
       ]
      },
      {
       "output_type": "stream",
       "stream": "stdout",
       "text": [
        "\r",
        "Step 9, Channel= 574,  Freq= 736.04 MHz ( 975.96 MHz),  Power= -48.0 dBm       "
       ]
      },
      {
       "output_type": "stream",
       "stream": "stdout",
       "text": [
        "\r",
        "Step 9, Channel= 574,  Freq= 736.04 MHz ( 975.96 MHz),  Power= -46.0 dBm       "
       ]
      },
      {
       "output_type": "stream",
       "stream": "stdout",
       "text": [
        "\r",
        "Step 9, Channel= 574,  Freq= 736.04 MHz ( 975.96 MHz),  Power= -44.0 dBm       "
       ]
      },
      {
       "output_type": "stream",
       "stream": "stdout",
       "text": [
        "\r",
        "Step 9, Channel= 574,  Freq= 736.04 MHz ( 975.96 MHz),  Power= -42.0 dBm       "
       ]
      },
      {
       "output_type": "stream",
       "stream": "stdout",
       "text": [
        "\r",
        "Step 9, Channel= 574,  Freq= 736.04 MHz ( 975.96 MHz),  Power= -40.0 dBm       "
       ]
      },
      {
       "output_type": "stream",
       "stream": "stdout",
       "text": [
        "\r",
        "Step 9, Channel= 574,  Freq= 736.04 MHz ( 975.96 MHz),  Power= -38.0 dBm       "
       ]
      },
      {
       "output_type": "stream",
       "stream": "stdout",
       "text": [
        "\r",
        "Step 9, Channel= 574,  Freq= 736.04 MHz ( 975.96 MHz),  Power= -36.0 dBm       "
       ]
      },
      {
       "output_type": "stream",
       "stream": "stdout",
       "text": [
        "\r",
        "Step 9, Channel= 574,  Freq= 736.04 MHz ( 975.96 MHz),  Power= -34.0 dBm       "
       ]
      },
      {
       "output_type": "stream",
       "stream": "stdout",
       "text": [
        "\r",
        "Step 9, Channel= 574,  Freq= 736.04 MHz ( 975.96 MHz),  Power= -32.0 dBm       "
       ]
      },
      {
       "output_type": "stream",
       "stream": "stdout",
       "text": [
        "\r",
        "Step 9, Channel= 574,  Freq= 736.04 MHz ( 975.96 MHz),  Power= -30.0 dBm       "
       ]
      },
      {
       "output_type": "stream",
       "stream": "stdout",
       "text": [
        "\r",
        "Step 9, Channel= 574,  Freq= 736.04 MHz ( 975.96 MHz),  Power= -28.0 dBm       "
       ]
      },
      {
       "output_type": "stream",
       "stream": "stdout",
       "text": [
        "\r",
        "Step 9, Channel= 574,  Freq= 736.04 MHz ( 975.96 MHz),  Power= -26.0 dBm       "
       ]
      },
      {
       "output_type": "stream",
       "stream": "stdout",
       "text": [
        "\r",
        "Step 9, Channel= 574,  Freq= 736.04 MHz ( 975.96 MHz),  Power= -24.0 dBm       "
       ]
      },
      {
       "output_type": "stream",
       "stream": "stdout",
       "text": [
        "\r",
        "Step 9, Channel= 574,  Freq= 736.04 MHz ( 975.96 MHz),  Power= -22.0 dBm       "
       ]
      },
      {
       "output_type": "stream",
       "stream": "stdout",
       "text": [
        "\r",
        "Step 9, Channel= 574,  Freq= 736.04 MHz ( 975.96 MHz),  Power= -20.0 dBm       "
       ]
      },
      {
       "output_type": "stream",
       "stream": "stdout",
       "text": [
        "\r",
        "Step 9, Channel= 574,  Freq= 736.04 MHz ( 975.96 MHz),  Power= -18.0 dBm       "
       ]
      },
      {
       "output_type": "stream",
       "stream": "stdout",
       "text": [
        "\r",
        "Step 9, Channel= 574,  Freq= 736.04 MHz ( 975.96 MHz),  Power= -16.0 dBm       "
       ]
      },
      {
       "output_type": "stream",
       "stream": "stdout",
       "text": [
        "\r",
        "Step 9, Channel= 574,  Freq= 736.04 MHz ( 975.96 MHz),  Power= -14.0 dBm       "
       ]
      },
      {
       "output_type": "stream",
       "stream": "stdout",
       "text": [
        "\r",
        "Step 9, Channel= 574,  Freq= 736.04 MHz ( 975.96 MHz),  Power= -12.0 dBm       "
       ]
      },
      {
       "output_type": "stream",
       "stream": "stdout",
       "text": [
        "\r",
        "Step 9, Channel= 574,  Freq= 736.04 MHz ( 975.96 MHz),  Power= -10.0 dBm       "
       ]
      },
      {
       "output_type": "stream",
       "stream": "stdout",
       "text": [
        "\r",
        "Step 10, Channel= 1044,  Freq= 637.82 MHz (1074.18 MHz),  Power= -70.0 dBm       "
       ]
      },
      {
       "output_type": "stream",
       "stream": "stdout",
       "text": [
        "\r",
        "Step 10, Channel= 1044,  Freq= 637.82 MHz (1074.18 MHz),  Power= -68.0 dBm       "
       ]
      },
      {
       "output_type": "stream",
       "stream": "stdout",
       "text": [
        "\r",
        "Step 10, Channel= 1044,  Freq= 637.82 MHz (1074.18 MHz),  Power= -66.0 dBm       "
       ]
      },
      {
       "output_type": "stream",
       "stream": "stdout",
       "text": [
        "\r",
        "Step 10, Channel= 1044,  Freq= 637.82 MHz (1074.18 MHz),  Power= -64.0 dBm       "
       ]
      },
      {
       "output_type": "stream",
       "stream": "stdout",
       "text": [
        "\r",
        "Step 10, Channel= 1044,  Freq= 637.82 MHz (1074.18 MHz),  Power= -62.0 dBm       "
       ]
      },
      {
       "output_type": "stream",
       "stream": "stdout",
       "text": [
        "\r",
        "Step 10, Channel= 1044,  Freq= 637.82 MHz (1074.18 MHz),  Power= -60.0 dBm       "
       ]
      },
      {
       "output_type": "stream",
       "stream": "stdout",
       "text": [
        "\r",
        "Step 10, Channel= 1044,  Freq= 637.82 MHz (1074.18 MHz),  Power= -58.0 dBm       "
       ]
      },
      {
       "output_type": "stream",
       "stream": "stdout",
       "text": [
        "\r",
        "Step 10, Channel= 1044,  Freq= 637.82 MHz (1074.18 MHz),  Power= -56.0 dBm       "
       ]
      },
      {
       "output_type": "stream",
       "stream": "stdout",
       "text": [
        "\r",
        "Step 10, Channel= 1044,  Freq= 637.82 MHz (1074.18 MHz),  Power= -54.0 dBm       "
       ]
      },
      {
       "output_type": "stream",
       "stream": "stdout",
       "text": [
        "\r",
        "Step 10, Channel= 1044,  Freq= 637.82 MHz (1074.18 MHz),  Power= -52.0 dBm       "
       ]
      },
      {
       "output_type": "stream",
       "stream": "stdout",
       "text": [
        "\r",
        "Step 10, Channel= 1044,  Freq= 637.82 MHz (1074.18 MHz),  Power= -50.0 dBm       "
       ]
      },
      {
       "output_type": "stream",
       "stream": "stdout",
       "text": [
        "\r",
        "Step 10, Channel= 1044,  Freq= 637.82 MHz (1074.18 MHz),  Power= -48.0 dBm       "
       ]
      },
      {
       "output_type": "stream",
       "stream": "stdout",
       "text": [
        "\r",
        "Step 10, Channel= 1044,  Freq= 637.82 MHz (1074.18 MHz),  Power= -46.0 dBm       "
       ]
      },
      {
       "output_type": "stream",
       "stream": "stdout",
       "text": [
        "\r",
        "Step 10, Channel= 1044,  Freq= 637.82 MHz (1074.18 MHz),  Power= -44.0 dBm       "
       ]
      },
      {
       "output_type": "stream",
       "stream": "stdout",
       "text": [
        "\r",
        "Step 10, Channel= 1044,  Freq= 637.82 MHz (1074.18 MHz),  Power= -42.0 dBm       "
       ]
      },
      {
       "output_type": "stream",
       "stream": "stdout",
       "text": [
        "\r",
        "Step 10, Channel= 1044,  Freq= 637.82 MHz (1074.18 MHz),  Power= -40.0 dBm       "
       ]
      },
      {
       "output_type": "stream",
       "stream": "stdout",
       "text": [
        "\r",
        "Step 10, Channel= 1044,  Freq= 637.82 MHz (1074.18 MHz),  Power= -38.0 dBm       "
       ]
      },
      {
       "output_type": "stream",
       "stream": "stdout",
       "text": [
        "\r",
        "Step 10, Channel= 1044,  Freq= 637.82 MHz (1074.18 MHz),  Power= -36.0 dBm       "
       ]
      },
      {
       "output_type": "stream",
       "stream": "stdout",
       "text": [
        "\r",
        "Step 10, Channel= 1044,  Freq= 637.82 MHz (1074.18 MHz),  Power= -34.0 dBm       "
       ]
      },
      {
       "output_type": "stream",
       "stream": "stdout",
       "text": [
        "\r",
        "Step 10, Channel= 1044,  Freq= 637.82 MHz (1074.18 MHz),  Power= -32.0 dBm       "
       ]
      },
      {
       "output_type": "stream",
       "stream": "stdout",
       "text": [
        "\r",
        "Step 10, Channel= 1044,  Freq= 637.82 MHz (1074.18 MHz),  Power= -30.0 dBm       "
       ]
      },
      {
       "output_type": "stream",
       "stream": "stdout",
       "text": [
        "\r",
        "Step 10, Channel= 1044,  Freq= 637.82 MHz (1074.18 MHz),  Power= -28.0 dBm       "
       ]
      },
      {
       "output_type": "stream",
       "stream": "stdout",
       "text": [
        "\r",
        "Step 10, Channel= 1044,  Freq= 637.82 MHz (1074.18 MHz),  Power= -26.0 dBm       "
       ]
      },
      {
       "output_type": "stream",
       "stream": "stdout",
       "text": [
        "\r",
        "Step 10, Channel= 1044,  Freq= 637.82 MHz (1074.18 MHz),  Power= -24.0 dBm       "
       ]
      },
      {
       "output_type": "stream",
       "stream": "stdout",
       "text": [
        "\r",
        "Step 10, Channel= 1044,  Freq= 637.82 MHz (1074.18 MHz),  Power= -22.0 dBm       "
       ]
      },
      {
       "output_type": "stream",
       "stream": "stdout",
       "text": [
        "\r",
        "Step 10, Channel= 1044,  Freq= 637.82 MHz (1074.18 MHz),  Power= -20.0 dBm       "
       ]
      },
      {
       "output_type": "stream",
       "stream": "stdout",
       "text": [
        "\r",
        "Step 10, Channel= 1044,  Freq= 637.82 MHz (1074.18 MHz),  Power= -18.0 dBm       "
       ]
      },
      {
       "output_type": "stream",
       "stream": "stdout",
       "text": [
        "\r",
        "Step 10, Channel= 1044,  Freq= 637.82 MHz (1074.18 MHz),  Power= -16.0 dBm       "
       ]
      },
      {
       "output_type": "stream",
       "stream": "stdout",
       "text": [
        "\r",
        "Step 10, Channel= 1044,  Freq= 637.82 MHz (1074.18 MHz),  Power= -14.0 dBm       "
       ]
      },
      {
       "output_type": "stream",
       "stream": "stdout",
       "text": [
        "\r",
        "Step 10, Channel= 1044,  Freq= 637.82 MHz (1074.18 MHz),  Power= -12.0 dBm       "
       ]
      },
      {
       "output_type": "stream",
       "stream": "stdout",
       "text": [
        "\r",
        "Step 10, Channel= 1044,  Freq= 637.82 MHz (1074.18 MHz),  Power= -10.0 dBm       "
       ]
      },
      {
       "output_type": "stream",
       "stream": "stdout",
       "text": [
        "\r",
        "Step 11, Channel= 1757,  Freq= 488.81 MHz (1223.19 MHz),  Power= -70.0 dBm       "
       ]
      },
      {
       "output_type": "stream",
       "stream": "stdout",
       "text": [
        "\r",
        "Step 11, Channel= 1757,  Freq= 488.81 MHz (1223.19 MHz),  Power= -68.0 dBm       "
       ]
      },
      {
       "output_type": "stream",
       "stream": "stdout",
       "text": [
        "\r",
        "Step 11, Channel= 1757,  Freq= 488.81 MHz (1223.19 MHz),  Power= -66.0 dBm       "
       ]
      },
      {
       "output_type": "stream",
       "stream": "stdout",
       "text": [
        "\r",
        "Step 11, Channel= 1757,  Freq= 488.81 MHz (1223.19 MHz),  Power= -64.0 dBm       "
       ]
      },
      {
       "output_type": "stream",
       "stream": "stdout",
       "text": [
        "\r",
        "Step 11, Channel= 1757,  Freq= 488.81 MHz (1223.19 MHz),  Power= -62.0 dBm       "
       ]
      },
      {
       "output_type": "stream",
       "stream": "stdout",
       "text": [
        "\r",
        "Step 11, Channel= 1757,  Freq= 488.81 MHz (1223.19 MHz),  Power= -60.0 dBm       "
       ]
      },
      {
       "output_type": "stream",
       "stream": "stdout",
       "text": [
        "\r",
        "Step 11, Channel= 1757,  Freq= 488.81 MHz (1223.19 MHz),  Power= -58.0 dBm       "
       ]
      },
      {
       "output_type": "stream",
       "stream": "stdout",
       "text": [
        "\r",
        "Step 11, Channel= 1757,  Freq= 488.81 MHz (1223.19 MHz),  Power= -56.0 dBm       "
       ]
      },
      {
       "output_type": "stream",
       "stream": "stdout",
       "text": [
        "\r",
        "Step 11, Channel= 1757,  Freq= 488.81 MHz (1223.19 MHz),  Power= -54.0 dBm       "
       ]
      },
      {
       "output_type": "stream",
       "stream": "stdout",
       "text": [
        "\r",
        "Step 11, Channel= 1757,  Freq= 488.81 MHz (1223.19 MHz),  Power= -52.0 dBm       "
       ]
      },
      {
       "output_type": "stream",
       "stream": "stdout",
       "text": [
        "\r",
        "Step 11, Channel= 1757,  Freq= 488.81 MHz (1223.19 MHz),  Power= -50.0 dBm       "
       ]
      },
      {
       "output_type": "stream",
       "stream": "stdout",
       "text": [
        "\r",
        "Step 11, Channel= 1757,  Freq= 488.81 MHz (1223.19 MHz),  Power= -48.0 dBm       "
       ]
      },
      {
       "output_type": "stream",
       "stream": "stdout",
       "text": [
        "\r",
        "Step 11, Channel= 1757,  Freq= 488.81 MHz (1223.19 MHz),  Power= -46.0 dBm       "
       ]
      },
      {
       "output_type": "stream",
       "stream": "stdout",
       "text": [
        "\r",
        "Step 11, Channel= 1757,  Freq= 488.81 MHz (1223.19 MHz),  Power= -44.0 dBm       "
       ]
      },
      {
       "output_type": "stream",
       "stream": "stdout",
       "text": [
        "\r",
        "Step 11, Channel= 1757,  Freq= 488.81 MHz (1223.19 MHz),  Power= -42.0 dBm       "
       ]
      },
      {
       "output_type": "stream",
       "stream": "stdout",
       "text": [
        "\r",
        "Step 11, Channel= 1757,  Freq= 488.81 MHz (1223.19 MHz),  Power= -40.0 dBm       "
       ]
      },
      {
       "output_type": "stream",
       "stream": "stdout",
       "text": [
        "\r",
        "Step 11, Channel= 1757,  Freq= 488.81 MHz (1223.19 MHz),  Power= -38.0 dBm       "
       ]
      },
      {
       "output_type": "stream",
       "stream": "stdout",
       "text": [
        "\r",
        "Step 11, Channel= 1757,  Freq= 488.81 MHz (1223.19 MHz),  Power= -36.0 dBm       "
       ]
      },
      {
       "output_type": "stream",
       "stream": "stdout",
       "text": [
        "\r",
        "Step 11, Channel= 1757,  Freq= 488.81 MHz (1223.19 MHz),  Power= -34.0 dBm       "
       ]
      },
      {
       "output_type": "stream",
       "stream": "stdout",
       "text": [
        "\r",
        "Step 11, Channel= 1757,  Freq= 488.81 MHz (1223.19 MHz),  Power= -32.0 dBm       "
       ]
      },
      {
       "output_type": "stream",
       "stream": "stdout",
       "text": [
        "\r",
        "Step 11, Channel= 1757,  Freq= 488.81 MHz (1223.19 MHz),  Power= -30.0 dBm       "
       ]
      },
      {
       "output_type": "stream",
       "stream": "stdout",
       "text": [
        "\r",
        "Step 11, Channel= 1757,  Freq= 488.81 MHz (1223.19 MHz),  Power= -28.0 dBm       "
       ]
      },
      {
       "output_type": "stream",
       "stream": "stdout",
       "text": [
        "\r",
        "Step 11, Channel= 1757,  Freq= 488.81 MHz (1223.19 MHz),  Power= -26.0 dBm       "
       ]
      },
      {
       "output_type": "stream",
       "stream": "stdout",
       "text": [
        "\r",
        "Step 11, Channel= 1757,  Freq= 488.81 MHz (1223.19 MHz),  Power= -24.0 dBm       "
       ]
      },
      {
       "output_type": "stream",
       "stream": "stdout",
       "text": [
        "\r",
        "Step 11, Channel= 1757,  Freq= 488.81 MHz (1223.19 MHz),  Power= -22.0 dBm       "
       ]
      },
      {
       "output_type": "stream",
       "stream": "stdout",
       "text": [
        "\r",
        "Step 11, Channel= 1757,  Freq= 488.81 MHz (1223.19 MHz),  Power= -20.0 dBm       "
       ]
      },
      {
       "output_type": "stream",
       "stream": "stdout",
       "text": [
        "\r",
        "Step 11, Channel= 1757,  Freq= 488.81 MHz (1223.19 MHz),  Power= -18.0 dBm       "
       ]
      },
      {
       "output_type": "stream",
       "stream": "stdout",
       "text": [
        "\r",
        "Step 11, Channel= 1757,  Freq= 488.81 MHz (1223.19 MHz),  Power= -16.0 dBm       "
       ]
      },
      {
       "output_type": "stream",
       "stream": "stdout",
       "text": [
        "\r",
        "Step 11, Channel= 1757,  Freq= 488.81 MHz (1223.19 MHz),  Power= -14.0 dBm       "
       ]
      },
      {
       "output_type": "stream",
       "stream": "stdout",
       "text": [
        "\r",
        "Step 11, Channel= 1757,  Freq= 488.81 MHz (1223.19 MHz),  Power= -12.0 dBm       "
       ]
      },
      {
       "output_type": "stream",
       "stream": "stdout",
       "text": [
        "\r",
        "Step 11, Channel= 1757,  Freq= 488.81 MHz (1223.19 MHz),  Power= -10.0 dBm       "
       ]
      },
      {
       "output_type": "stream",
       "stream": "stdout",
       "text": [
        "\r",
        "Step 12, Channel= 566,  Freq= 737.71 MHz ( 974.29 MHz),  Power= -70.0 dBm       "
       ]
      },
      {
       "output_type": "stream",
       "stream": "stdout",
       "text": [
        "\r",
        "Step 12, Channel= 566,  Freq= 737.71 MHz ( 974.29 MHz),  Power= -68.0 dBm       "
       ]
      },
      {
       "output_type": "stream",
       "stream": "stdout",
       "text": [
        "\r",
        "Step 12, Channel= 566,  Freq= 737.71 MHz ( 974.29 MHz),  Power= -66.0 dBm       "
       ]
      },
      {
       "output_type": "stream",
       "stream": "stdout",
       "text": [
        "\r",
        "Step 12, Channel= 566,  Freq= 737.71 MHz ( 974.29 MHz),  Power= -64.0 dBm       "
       ]
      },
      {
       "output_type": "stream",
       "stream": "stdout",
       "text": [
        "\r",
        "Step 12, Channel= 566,  Freq= 737.71 MHz ( 974.29 MHz),  Power= -62.0 dBm       "
       ]
      },
      {
       "output_type": "stream",
       "stream": "stdout",
       "text": [
        "\r",
        "Step 12, Channel= 566,  Freq= 737.71 MHz ( 974.29 MHz),  Power= -60.0 dBm       "
       ]
      },
      {
       "output_type": "stream",
       "stream": "stdout",
       "text": [
        "\r",
        "Step 12, Channel= 566,  Freq= 737.71 MHz ( 974.29 MHz),  Power= -58.0 dBm       "
       ]
      },
      {
       "output_type": "stream",
       "stream": "stdout",
       "text": [
        "\r",
        "Step 12, Channel= 566,  Freq= 737.71 MHz ( 974.29 MHz),  Power= -56.0 dBm       "
       ]
      },
      {
       "output_type": "stream",
       "stream": "stdout",
       "text": [
        "\r",
        "Step 12, Channel= 566,  Freq= 737.71 MHz ( 974.29 MHz),  Power= -54.0 dBm       "
       ]
      },
      {
       "output_type": "stream",
       "stream": "stdout",
       "text": [
        "\r",
        "Step 12, Channel= 566,  Freq= 737.71 MHz ( 974.29 MHz),  Power= -52.0 dBm       "
       ]
      },
      {
       "output_type": "stream",
       "stream": "stdout",
       "text": [
        "\r",
        "Step 12, Channel= 566,  Freq= 737.71 MHz ( 974.29 MHz),  Power= -50.0 dBm       "
       ]
      },
      {
       "output_type": "stream",
       "stream": "stdout",
       "text": [
        "\r",
        "Step 12, Channel= 566,  Freq= 737.71 MHz ( 974.29 MHz),  Power= -48.0 dBm       "
       ]
      },
      {
       "output_type": "stream",
       "stream": "stdout",
       "text": [
        "\r",
        "Step 12, Channel= 566,  Freq= 737.71 MHz ( 974.29 MHz),  Power= -46.0 dBm       "
       ]
      },
      {
       "output_type": "stream",
       "stream": "stdout",
       "text": [
        "\r",
        "Step 12, Channel= 566,  Freq= 737.71 MHz ( 974.29 MHz),  Power= -44.0 dBm       "
       ]
      },
      {
       "output_type": "stream",
       "stream": "stdout",
       "text": [
        "\r",
        "Step 12, Channel= 566,  Freq= 737.71 MHz ( 974.29 MHz),  Power= -42.0 dBm       "
       ]
      },
      {
       "output_type": "stream",
       "stream": "stdout",
       "text": [
        "\r",
        "Step 12, Channel= 566,  Freq= 737.71 MHz ( 974.29 MHz),  Power= -40.0 dBm       "
       ]
      },
      {
       "output_type": "stream",
       "stream": "stdout",
       "text": [
        "\r",
        "Step 12, Channel= 566,  Freq= 737.71 MHz ( 974.29 MHz),  Power= -38.0 dBm       "
       ]
      },
      {
       "output_type": "stream",
       "stream": "stdout",
       "text": [
        "\r",
        "Step 12, Channel= 566,  Freq= 737.71 MHz ( 974.29 MHz),  Power= -36.0 dBm       "
       ]
      },
      {
       "output_type": "stream",
       "stream": "stdout",
       "text": [
        "\r",
        "Step 12, Channel= 566,  Freq= 737.71 MHz ( 974.29 MHz),  Power= -34.0 dBm       "
       ]
      },
      {
       "output_type": "stream",
       "stream": "stdout",
       "text": [
        "\r",
        "Step 12, Channel= 566,  Freq= 737.71 MHz ( 974.29 MHz),  Power= -32.0 dBm       "
       ]
      },
      {
       "output_type": "stream",
       "stream": "stdout",
       "text": [
        "\r",
        "Step 12, Channel= 566,  Freq= 737.71 MHz ( 974.29 MHz),  Power= -30.0 dBm       "
       ]
      },
      {
       "output_type": "stream",
       "stream": "stdout",
       "text": [
        "\r",
        "Step 12, Channel= 566,  Freq= 737.71 MHz ( 974.29 MHz),  Power= -28.0 dBm       "
       ]
      },
      {
       "output_type": "stream",
       "stream": "stdout",
       "text": [
        "\r",
        "Step 12, Channel= 566,  Freq= 737.71 MHz ( 974.29 MHz),  Power= -26.0 dBm       "
       ]
      },
      {
       "output_type": "stream",
       "stream": "stdout",
       "text": [
        "\r",
        "Step 12, Channel= 566,  Freq= 737.71 MHz ( 974.29 MHz),  Power= -24.0 dBm       "
       ]
      },
      {
       "output_type": "stream",
       "stream": "stdout",
       "text": [
        "\r",
        "Step 12, Channel= 566,  Freq= 737.71 MHz ( 974.29 MHz),  Power= -22.0 dBm       "
       ]
      },
      {
       "output_type": "stream",
       "stream": "stdout",
       "text": [
        "\r",
        "Step 12, Channel= 566,  Freq= 737.71 MHz ( 974.29 MHz),  Power= -20.0 dBm       "
       ]
      },
      {
       "output_type": "stream",
       "stream": "stdout",
       "text": [
        "\r",
        "Step 12, Channel= 566,  Freq= 737.71 MHz ( 974.29 MHz),  Power= -18.0 dBm       "
       ]
      },
      {
       "output_type": "stream",
       "stream": "stdout",
       "text": [
        "\r",
        "Step 12, Channel= 566,  Freq= 737.71 MHz ( 974.29 MHz),  Power= -16.0 dBm       "
       ]
      },
      {
       "output_type": "stream",
       "stream": "stdout",
       "text": [
        "\r",
        "Step 12, Channel= 566,  Freq= 737.71 MHz ( 974.29 MHz),  Power= -14.0 dBm       "
       ]
      },
      {
       "output_type": "stream",
       "stream": "stdout",
       "text": [
        "\r",
        "Step 12, Channel= 566,  Freq= 737.71 MHz ( 974.29 MHz),  Power= -12.0 dBm       "
       ]
      },
      {
       "output_type": "stream",
       "stream": "stdout",
       "text": [
        "\r",
        "Step 12, Channel= 566,  Freq= 737.71 MHz ( 974.29 MHz),  Power= -10.0 dBm       "
       ]
      },
      {
       "output_type": "stream",
       "stream": "stdout",
       "text": [
        "\r",
        "Step 13, Channel= 994,  Freq= 648.27 MHz (1063.73 MHz),  Power= -70.0 dBm       "
       ]
      },
      {
       "output_type": "stream",
       "stream": "stdout",
       "text": [
        "\r",
        "Step 13, Channel= 994,  Freq= 648.27 MHz (1063.73 MHz),  Power= -68.0 dBm       "
       ]
      },
      {
       "output_type": "stream",
       "stream": "stdout",
       "text": [
        "\r",
        "Step 13, Channel= 994,  Freq= 648.27 MHz (1063.73 MHz),  Power= -66.0 dBm       "
       ]
      },
      {
       "output_type": "stream",
       "stream": "stdout",
       "text": [
        "\r",
        "Step 13, Channel= 994,  Freq= 648.27 MHz (1063.73 MHz),  Power= -64.0 dBm       "
       ]
      },
      {
       "output_type": "stream",
       "stream": "stdout",
       "text": [
        "\r",
        "Step 13, Channel= 994,  Freq= 648.27 MHz (1063.73 MHz),  Power= -62.0 dBm       "
       ]
      },
      {
       "output_type": "stream",
       "stream": "stdout",
       "text": [
        "\r",
        "Step 13, Channel= 994,  Freq= 648.27 MHz (1063.73 MHz),  Power= -60.0 dBm       "
       ]
      },
      {
       "output_type": "stream",
       "stream": "stdout",
       "text": [
        "\r",
        "Step 13, Channel= 994,  Freq= 648.27 MHz (1063.73 MHz),  Power= -58.0 dBm       "
       ]
      },
      {
       "output_type": "stream",
       "stream": "stdout",
       "text": [
        "\r",
        "Step 13, Channel= 994,  Freq= 648.27 MHz (1063.73 MHz),  Power= -56.0 dBm       "
       ]
      },
      {
       "output_type": "stream",
       "stream": "stdout",
       "text": [
        "\r",
        "Step 13, Channel= 994,  Freq= 648.27 MHz (1063.73 MHz),  Power= -54.0 dBm       "
       ]
      },
      {
       "output_type": "stream",
       "stream": "stdout",
       "text": [
        "\r",
        "Step 13, Channel= 994,  Freq= 648.27 MHz (1063.73 MHz),  Power= -52.0 dBm       "
       ]
      },
      {
       "output_type": "stream",
       "stream": "stdout",
       "text": [
        "\r",
        "Step 13, Channel= 994,  Freq= 648.27 MHz (1063.73 MHz),  Power= -50.0 dBm       "
       ]
      },
      {
       "output_type": "stream",
       "stream": "stdout",
       "text": [
        "\r",
        "Step 13, Channel= 994,  Freq= 648.27 MHz (1063.73 MHz),  Power= -48.0 dBm       "
       ]
      },
      {
       "output_type": "stream",
       "stream": "stdout",
       "text": [
        "\r",
        "Step 13, Channel= 994,  Freq= 648.27 MHz (1063.73 MHz),  Power= -46.0 dBm       "
       ]
      },
      {
       "output_type": "stream",
       "stream": "stdout",
       "text": [
        "\r",
        "Step 13, Channel= 994,  Freq= 648.27 MHz (1063.73 MHz),  Power= -44.0 dBm       "
       ]
      },
      {
       "output_type": "stream",
       "stream": "stdout",
       "text": [
        "\r",
        "Step 13, Channel= 994,  Freq= 648.27 MHz (1063.73 MHz),  Power= -42.0 dBm       "
       ]
      },
      {
       "output_type": "stream",
       "stream": "stdout",
       "text": [
        "\r",
        "Step 13, Channel= 994,  Freq= 648.27 MHz (1063.73 MHz),  Power= -40.0 dBm       "
       ]
      },
      {
       "output_type": "stream",
       "stream": "stdout",
       "text": [
        "\r",
        "Step 13, Channel= 994,  Freq= 648.27 MHz (1063.73 MHz),  Power= -38.0 dBm       "
       ]
      },
      {
       "output_type": "stream",
       "stream": "stdout",
       "text": [
        "\r",
        "Step 13, Channel= 994,  Freq= 648.27 MHz (1063.73 MHz),  Power= -36.0 dBm       "
       ]
      },
      {
       "output_type": "stream",
       "stream": "stdout",
       "text": [
        "\r",
        "Step 13, Channel= 994,  Freq= 648.27 MHz (1063.73 MHz),  Power= -34.0 dBm       "
       ]
      },
      {
       "output_type": "stream",
       "stream": "stdout",
       "text": [
        "\r",
        "Step 13, Channel= 994,  Freq= 648.27 MHz (1063.73 MHz),  Power= -32.0 dBm       "
       ]
      },
      {
       "output_type": "stream",
       "stream": "stdout",
       "text": [
        "\r",
        "Step 13, Channel= 994,  Freq= 648.27 MHz (1063.73 MHz),  Power= -30.0 dBm       "
       ]
      },
      {
       "output_type": "stream",
       "stream": "stdout",
       "text": [
        "\r",
        "Step 13, Channel= 994,  Freq= 648.27 MHz (1063.73 MHz),  Power= -28.0 dBm       "
       ]
      },
      {
       "output_type": "stream",
       "stream": "stdout",
       "text": [
        "\r",
        "Step 13, Channel= 994,  Freq= 648.27 MHz (1063.73 MHz),  Power= -26.0 dBm       "
       ]
      },
      {
       "output_type": "stream",
       "stream": "stdout",
       "text": [
        "\r",
        "Step 13, Channel= 994,  Freq= 648.27 MHz (1063.73 MHz),  Power= -24.0 dBm       "
       ]
      },
      {
       "output_type": "stream",
       "stream": "stdout",
       "text": [
        "\r",
        "Step 13, Channel= 994,  Freq= 648.27 MHz (1063.73 MHz),  Power= -22.0 dBm       "
       ]
      },
      {
       "output_type": "stream",
       "stream": "stdout",
       "text": [
        "\r",
        "Step 13, Channel= 994,  Freq= 648.27 MHz (1063.73 MHz),  Power= -20.0 dBm       "
       ]
      },
      {
       "output_type": "stream",
       "stream": "stdout",
       "text": [
        "\r",
        "Step 13, Channel= 994,  Freq= 648.27 MHz (1063.73 MHz),  Power= -18.0 dBm       "
       ]
      },
      {
       "output_type": "stream",
       "stream": "stdout",
       "text": [
        "\r",
        "Step 13, Channel= 994,  Freq= 648.27 MHz (1063.73 MHz),  Power= -16.0 dBm       "
       ]
      },
      {
       "output_type": "stream",
       "stream": "stdout",
       "text": [
        "\r",
        "Step 13, Channel= 994,  Freq= 648.27 MHz (1063.73 MHz),  Power= -14.0 dBm       "
       ]
      },
      {
       "output_type": "stream",
       "stream": "stdout",
       "text": [
        "\r",
        "Step 13, Channel= 994,  Freq= 648.27 MHz (1063.73 MHz),  Power= -12.0 dBm       "
       ]
      },
      {
       "output_type": "stream",
       "stream": "stdout",
       "text": [
        "\r",
        "Step 13, Channel= 994,  Freq= 648.27 MHz (1063.73 MHz),  Power= -10.0 dBm       "
       ]
      },
      {
       "output_type": "stream",
       "stream": "stdout",
       "text": [
        "\r",
        "Step 14, Channel= 2115,  Freq= 414.00 MHz (1298.00 MHz),  Power= -70.0 dBm       "
       ]
      },
      {
       "output_type": "stream",
       "stream": "stdout",
       "text": [
        "\r",
        "Step 14, Channel= 2115,  Freq= 414.00 MHz (1298.00 MHz),  Power= -68.0 dBm       "
       ]
      },
      {
       "output_type": "stream",
       "stream": "stdout",
       "text": [
        "\r",
        "Step 14, Channel= 2115,  Freq= 414.00 MHz (1298.00 MHz),  Power= -66.0 dBm       "
       ]
      },
      {
       "output_type": "stream",
       "stream": "stdout",
       "text": [
        "\r",
        "Step 14, Channel= 2115,  Freq= 414.00 MHz (1298.00 MHz),  Power= -64.0 dBm       "
       ]
      },
      {
       "output_type": "stream",
       "stream": "stdout",
       "text": [
        "\r",
        "Step 14, Channel= 2115,  Freq= 414.00 MHz (1298.00 MHz),  Power= -62.0 dBm       "
       ]
      },
      {
       "output_type": "stream",
       "stream": "stdout",
       "text": [
        "\r",
        "Step 14, Channel= 2115,  Freq= 414.00 MHz (1298.00 MHz),  Power= -60.0 dBm       "
       ]
      },
      {
       "output_type": "stream",
       "stream": "stdout",
       "text": [
        "\r",
        "Step 14, Channel= 2115,  Freq= 414.00 MHz (1298.00 MHz),  Power= -58.0 dBm       "
       ]
      },
      {
       "output_type": "stream",
       "stream": "stdout",
       "text": [
        "\r",
        "Step 14, Channel= 2115,  Freq= 414.00 MHz (1298.00 MHz),  Power= -56.0 dBm       "
       ]
      },
      {
       "output_type": "stream",
       "stream": "stdout",
       "text": [
        "\r",
        "Step 14, Channel= 2115,  Freq= 414.00 MHz (1298.00 MHz),  Power= -54.0 dBm       "
       ]
      },
      {
       "output_type": "stream",
       "stream": "stdout",
       "text": [
        "\r",
        "Step 14, Channel= 2115,  Freq= 414.00 MHz (1298.00 MHz),  Power= -52.0 dBm       "
       ]
      },
      {
       "output_type": "stream",
       "stream": "stdout",
       "text": [
        "\r",
        "Step 14, Channel= 2115,  Freq= 414.00 MHz (1298.00 MHz),  Power= -50.0 dBm       "
       ]
      },
      {
       "output_type": "stream",
       "stream": "stdout",
       "text": [
        "\r",
        "Step 14, Channel= 2115,  Freq= 414.00 MHz (1298.00 MHz),  Power= -48.0 dBm       "
       ]
      },
      {
       "output_type": "stream",
       "stream": "stdout",
       "text": [
        "\r",
        "Step 14, Channel= 2115,  Freq= 414.00 MHz (1298.00 MHz),  Power= -46.0 dBm       "
       ]
      },
      {
       "output_type": "stream",
       "stream": "stdout",
       "text": [
        "\r",
        "Step 14, Channel= 2115,  Freq= 414.00 MHz (1298.00 MHz),  Power= -44.0 dBm       "
       ]
      },
      {
       "output_type": "stream",
       "stream": "stdout",
       "text": [
        "\r",
        "Step 14, Channel= 2115,  Freq= 414.00 MHz (1298.00 MHz),  Power= -42.0 dBm       "
       ]
      },
      {
       "output_type": "stream",
       "stream": "stdout",
       "text": [
        "\r",
        "Step 14, Channel= 2115,  Freq= 414.00 MHz (1298.00 MHz),  Power= -40.0 dBm       "
       ]
      },
      {
       "output_type": "stream",
       "stream": "stdout",
       "text": [
        "\r",
        "Step 14, Channel= 2115,  Freq= 414.00 MHz (1298.00 MHz),  Power= -38.0 dBm       "
       ]
      },
      {
       "output_type": "stream",
       "stream": "stdout",
       "text": [
        "\r",
        "Step 14, Channel= 2115,  Freq= 414.00 MHz (1298.00 MHz),  Power= -36.0 dBm       "
       ]
      },
      {
       "output_type": "stream",
       "stream": "stdout",
       "text": [
        "\r",
        "Step 14, Channel= 2115,  Freq= 414.00 MHz (1298.00 MHz),  Power= -34.0 dBm       "
       ]
      },
      {
       "output_type": "stream",
       "stream": "stdout",
       "text": [
        "\r",
        "Step 14, Channel= 2115,  Freq= 414.00 MHz (1298.00 MHz),  Power= -32.0 dBm       "
       ]
      },
      {
       "output_type": "stream",
       "stream": "stdout",
       "text": [
        "\r",
        "Step 14, Channel= 2115,  Freq= 414.00 MHz (1298.00 MHz),  Power= -30.0 dBm       "
       ]
      },
      {
       "output_type": "stream",
       "stream": "stdout",
       "text": [
        "\r",
        "Step 14, Channel= 2115,  Freq= 414.00 MHz (1298.00 MHz),  Power= -28.0 dBm       "
       ]
      },
      {
       "output_type": "stream",
       "stream": "stdout",
       "text": [
        "\r",
        "Step 14, Channel= 2115,  Freq= 414.00 MHz (1298.00 MHz),  Power= -26.0 dBm       "
       ]
      },
      {
       "output_type": "stream",
       "stream": "stdout",
       "text": [
        "\r",
        "Step 14, Channel= 2115,  Freq= 414.00 MHz (1298.00 MHz),  Power= -24.0 dBm       "
       ]
      },
      {
       "output_type": "stream",
       "stream": "stdout",
       "text": [
        "\r",
        "Step 14, Channel= 2115,  Freq= 414.00 MHz (1298.00 MHz),  Power= -22.0 dBm       "
       ]
      },
      {
       "output_type": "stream",
       "stream": "stdout",
       "text": [
        "\r",
        "Step 14, Channel= 2115,  Freq= 414.00 MHz (1298.00 MHz),  Power= -20.0 dBm       "
       ]
      },
      {
       "output_type": "stream",
       "stream": "stdout",
       "text": [
        "\r",
        "Step 14, Channel= 2115,  Freq= 414.00 MHz (1298.00 MHz),  Power= -18.0 dBm       "
       ]
      },
      {
       "output_type": "stream",
       "stream": "stdout",
       "text": [
        "\r",
        "Step 14, Channel= 2115,  Freq= 414.00 MHz (1298.00 MHz),  Power= -16.0 dBm       "
       ]
      },
      {
       "output_type": "stream",
       "stream": "stdout",
       "text": [
        "\r",
        "Step 14, Channel= 2115,  Freq= 414.00 MHz (1298.00 MHz),  Power= -14.0 dBm       "
       ]
      },
      {
       "output_type": "stream",
       "stream": "stdout",
       "text": [
        "\r",
        "Step 14, Channel= 2115,  Freq= 414.00 MHz (1298.00 MHz),  Power= -12.0 dBm       "
       ]
      },
      {
       "output_type": "stream",
       "stream": "stdout",
       "text": [
        "\r",
        "Step 14, Channel= 2115,  Freq= 414.00 MHz (1298.00 MHz),  Power= -10.0 dBm       "
       ]
      },
      {
       "output_type": "stream",
       "stream": "stdout",
       "text": [
        "\r",
        "Step 15, Channel= 1854,  Freq= 468.54 MHz (1243.46 MHz),  Power= -70.0 dBm       "
       ]
      },
      {
       "output_type": "stream",
       "stream": "stdout",
       "text": [
        "\r",
        "Step 15, Channel= 1854,  Freq= 468.54 MHz (1243.46 MHz),  Power= -68.0 dBm       "
       ]
      },
      {
       "output_type": "stream",
       "stream": "stdout",
       "text": [
        "\r",
        "Step 15, Channel= 1854,  Freq= 468.54 MHz (1243.46 MHz),  Power= -66.0 dBm       "
       ]
      },
      {
       "output_type": "stream",
       "stream": "stdout",
       "text": [
        "\r",
        "Step 15, Channel= 1854,  Freq= 468.54 MHz (1243.46 MHz),  Power= -64.0 dBm       "
       ]
      },
      {
       "output_type": "stream",
       "stream": "stdout",
       "text": [
        "\r",
        "Step 15, Channel= 1854,  Freq= 468.54 MHz (1243.46 MHz),  Power= -62.0 dBm       "
       ]
      },
      {
       "output_type": "stream",
       "stream": "stdout",
       "text": [
        "\r",
        "Step 15, Channel= 1854,  Freq= 468.54 MHz (1243.46 MHz),  Power= -60.0 dBm       "
       ]
      },
      {
       "output_type": "stream",
       "stream": "stdout",
       "text": [
        "\r",
        "Step 15, Channel= 1854,  Freq= 468.54 MHz (1243.46 MHz),  Power= -58.0 dBm       "
       ]
      },
      {
       "output_type": "stream",
       "stream": "stdout",
       "text": [
        "\r",
        "Step 15, Channel= 1854,  Freq= 468.54 MHz (1243.46 MHz),  Power= -56.0 dBm       "
       ]
      },
      {
       "output_type": "stream",
       "stream": "stdout",
       "text": [
        "\r",
        "Step 15, Channel= 1854,  Freq= 468.54 MHz (1243.46 MHz),  Power= -54.0 dBm       "
       ]
      },
      {
       "output_type": "stream",
       "stream": "stdout",
       "text": [
        "\r",
        "Step 15, Channel= 1854,  Freq= 468.54 MHz (1243.46 MHz),  Power= -52.0 dBm       "
       ]
      },
      {
       "output_type": "stream",
       "stream": "stdout",
       "text": [
        "\r",
        "Step 15, Channel= 1854,  Freq= 468.54 MHz (1243.46 MHz),  Power= -50.0 dBm       "
       ]
      },
      {
       "output_type": "stream",
       "stream": "stdout",
       "text": [
        "\r",
        "Step 15, Channel= 1854,  Freq= 468.54 MHz (1243.46 MHz),  Power= -48.0 dBm       "
       ]
      },
      {
       "output_type": "stream",
       "stream": "stdout",
       "text": [
        "\r",
        "Step 15, Channel= 1854,  Freq= 468.54 MHz (1243.46 MHz),  Power= -46.0 dBm       "
       ]
      },
      {
       "output_type": "stream",
       "stream": "stdout",
       "text": [
        "\r",
        "Step 15, Channel= 1854,  Freq= 468.54 MHz (1243.46 MHz),  Power= -44.0 dBm       "
       ]
      },
      {
       "output_type": "stream",
       "stream": "stdout",
       "text": [
        "\r",
        "Step 15, Channel= 1854,  Freq= 468.54 MHz (1243.46 MHz),  Power= -42.0 dBm       "
       ]
      },
      {
       "output_type": "stream",
       "stream": "stdout",
       "text": [
        "\r",
        "Step 15, Channel= 1854,  Freq= 468.54 MHz (1243.46 MHz),  Power= -40.0 dBm       "
       ]
      },
      {
       "output_type": "stream",
       "stream": "stdout",
       "text": [
        "\r",
        "Step 15, Channel= 1854,  Freq= 468.54 MHz (1243.46 MHz),  Power= -38.0 dBm       "
       ]
      },
      {
       "output_type": "stream",
       "stream": "stdout",
       "text": [
        "\r",
        "Step 15, Channel= 1854,  Freq= 468.54 MHz (1243.46 MHz),  Power= -36.0 dBm       "
       ]
      },
      {
       "output_type": "stream",
       "stream": "stdout",
       "text": [
        "\r",
        "Step 15, Channel= 1854,  Freq= 468.54 MHz (1243.46 MHz),  Power= -34.0 dBm       "
       ]
      },
      {
       "output_type": "stream",
       "stream": "stdout",
       "text": [
        "\r",
        "Step 15, Channel= 1854,  Freq= 468.54 MHz (1243.46 MHz),  Power= -32.0 dBm       "
       ]
      },
      {
       "output_type": "stream",
       "stream": "stdout",
       "text": [
        "\r",
        "Step 15, Channel= 1854,  Freq= 468.54 MHz (1243.46 MHz),  Power= -30.0 dBm       "
       ]
      },
      {
       "output_type": "stream",
       "stream": "stdout",
       "text": [
        "\r",
        "Step 15, Channel= 1854,  Freq= 468.54 MHz (1243.46 MHz),  Power= -28.0 dBm       "
       ]
      },
      {
       "output_type": "stream",
       "stream": "stdout",
       "text": [
        "\r",
        "Step 15, Channel= 1854,  Freq= 468.54 MHz (1243.46 MHz),  Power= -26.0 dBm       "
       ]
      },
      {
       "output_type": "stream",
       "stream": "stdout",
       "text": [
        "\r",
        "Step 15, Channel= 1854,  Freq= 468.54 MHz (1243.46 MHz),  Power= -24.0 dBm       "
       ]
      },
      {
       "output_type": "stream",
       "stream": "stdout",
       "text": [
        "\r",
        "Step 15, Channel= 1854,  Freq= 468.54 MHz (1243.46 MHz),  Power= -22.0 dBm       "
       ]
      },
      {
       "output_type": "stream",
       "stream": "stdout",
       "text": [
        "\r",
        "Step 15, Channel= 1854,  Freq= 468.54 MHz (1243.46 MHz),  Power= -20.0 dBm       "
       ]
      },
      {
       "output_type": "stream",
       "stream": "stdout",
       "text": [
        "\r",
        "Step 15, Channel= 1854,  Freq= 468.54 MHz (1243.46 MHz),  Power= -18.0 dBm       "
       ]
      },
      {
       "output_type": "stream",
       "stream": "stdout",
       "text": [
        "\r",
        "Step 15, Channel= 1854,  Freq= 468.54 MHz (1243.46 MHz),  Power= -16.0 dBm       "
       ]
      },
      {
       "output_type": "stream",
       "stream": "stdout",
       "text": [
        "\r",
        "Step 15, Channel= 1854,  Freq= 468.54 MHz (1243.46 MHz),  Power= -14.0 dBm       "
       ]
      },
      {
       "output_type": "stream",
       "stream": "stdout",
       "text": [
        "\r",
        "Step 15, Channel= 1854,  Freq= 468.54 MHz (1243.46 MHz),  Power= -12.0 dBm       "
       ]
      },
      {
       "output_type": "stream",
       "stream": "stdout",
       "text": [
        "\r",
        "Step 15, Channel= 1854,  Freq= 468.54 MHz (1243.46 MHz),  Power= -10.0 dBm       "
       ]
      },
      {
       "output_type": "stream",
       "stream": "stdout",
       "text": [
        "\r",
        "Step 16, Channel= 1047,  Freq= 637.19 MHz (1074.81 MHz),  Power= -70.0 dBm       "
       ]
      },
      {
       "output_type": "stream",
       "stream": "stdout",
       "text": [
        "\r",
        "Step 16, Channel= 1047,  Freq= 637.19 MHz (1074.81 MHz),  Power= -68.0 dBm       "
       ]
      },
      {
       "output_type": "stream",
       "stream": "stdout",
       "text": [
        "\r",
        "Step 16, Channel= 1047,  Freq= 637.19 MHz (1074.81 MHz),  Power= -66.0 dBm       "
       ]
      },
      {
       "output_type": "stream",
       "stream": "stdout",
       "text": [
        "\r",
        "Step 16, Channel= 1047,  Freq= 637.19 MHz (1074.81 MHz),  Power= -64.0 dBm       "
       ]
      },
      {
       "output_type": "stream",
       "stream": "stdout",
       "text": [
        "\r",
        "Step 16, Channel= 1047,  Freq= 637.19 MHz (1074.81 MHz),  Power= -62.0 dBm       "
       ]
      },
      {
       "output_type": "stream",
       "stream": "stdout",
       "text": [
        "\r",
        "Step 16, Channel= 1047,  Freq= 637.19 MHz (1074.81 MHz),  Power= -60.0 dBm       "
       ]
      },
      {
       "output_type": "stream",
       "stream": "stdout",
       "text": [
        "\r",
        "Step 16, Channel= 1047,  Freq= 637.19 MHz (1074.81 MHz),  Power= -58.0 dBm       "
       ]
      },
      {
       "output_type": "stream",
       "stream": "stdout",
       "text": [
        "\r",
        "Step 16, Channel= 1047,  Freq= 637.19 MHz (1074.81 MHz),  Power= -56.0 dBm       "
       ]
      },
      {
       "output_type": "stream",
       "stream": "stdout",
       "text": [
        "\r",
        "Step 16, Channel= 1047,  Freq= 637.19 MHz (1074.81 MHz),  Power= -54.0 dBm       "
       ]
      },
      {
       "output_type": "stream",
       "stream": "stdout",
       "text": [
        "\r",
        "Step 16, Channel= 1047,  Freq= 637.19 MHz (1074.81 MHz),  Power= -52.0 dBm       "
       ]
      },
      {
       "output_type": "stream",
       "stream": "stdout",
       "text": [
        "\r",
        "Step 16, Channel= 1047,  Freq= 637.19 MHz (1074.81 MHz),  Power= -50.0 dBm       "
       ]
      },
      {
       "output_type": "stream",
       "stream": "stdout",
       "text": [
        "\r",
        "Step 16, Channel= 1047,  Freq= 637.19 MHz (1074.81 MHz),  Power= -48.0 dBm       "
       ]
      },
      {
       "output_type": "stream",
       "stream": "stdout",
       "text": [
        "\r",
        "Step 16, Channel= 1047,  Freq= 637.19 MHz (1074.81 MHz),  Power= -46.0 dBm       "
       ]
      },
      {
       "output_type": "stream",
       "stream": "stdout",
       "text": [
        "\r",
        "Step 16, Channel= 1047,  Freq= 637.19 MHz (1074.81 MHz),  Power= -44.0 dBm       "
       ]
      },
      {
       "output_type": "stream",
       "stream": "stdout",
       "text": [
        "\r",
        "Step 16, Channel= 1047,  Freq= 637.19 MHz (1074.81 MHz),  Power= -42.0 dBm       "
       ]
      },
      {
       "output_type": "stream",
       "stream": "stdout",
       "text": [
        "\r",
        "Step 16, Channel= 1047,  Freq= 637.19 MHz (1074.81 MHz),  Power= -40.0 dBm       "
       ]
      },
      {
       "output_type": "stream",
       "stream": "stdout",
       "text": [
        "\r",
        "Step 16, Channel= 1047,  Freq= 637.19 MHz (1074.81 MHz),  Power= -38.0 dBm       "
       ]
      },
      {
       "output_type": "stream",
       "stream": "stdout",
       "text": [
        "\r",
        "Step 16, Channel= 1047,  Freq= 637.19 MHz (1074.81 MHz),  Power= -36.0 dBm       "
       ]
      },
      {
       "output_type": "stream",
       "stream": "stdout",
       "text": [
        "\r",
        "Step 16, Channel= 1047,  Freq= 637.19 MHz (1074.81 MHz),  Power= -34.0 dBm       "
       ]
      },
      {
       "output_type": "stream",
       "stream": "stdout",
       "text": [
        "\r",
        "Step 16, Channel= 1047,  Freq= 637.19 MHz (1074.81 MHz),  Power= -32.0 dBm       "
       ]
      },
      {
       "output_type": "stream",
       "stream": "stdout",
       "text": [
        "\r",
        "Step 16, Channel= 1047,  Freq= 637.19 MHz (1074.81 MHz),  Power= -30.0 dBm       "
       ]
      },
      {
       "output_type": "stream",
       "stream": "stdout",
       "text": [
        "\r",
        "Step 16, Channel= 1047,  Freq= 637.19 MHz (1074.81 MHz),  Power= -28.0 dBm       "
       ]
      },
      {
       "output_type": "stream",
       "stream": "stdout",
       "text": [
        "\r",
        "Step 16, Channel= 1047,  Freq= 637.19 MHz (1074.81 MHz),  Power= -26.0 dBm       "
       ]
      },
      {
       "output_type": "stream",
       "stream": "stdout",
       "text": [
        "\r",
        "Step 16, Channel= 1047,  Freq= 637.19 MHz (1074.81 MHz),  Power= -24.0 dBm       "
       ]
      },
      {
       "output_type": "stream",
       "stream": "stdout",
       "text": [
        "\r",
        "Step 16, Channel= 1047,  Freq= 637.19 MHz (1074.81 MHz),  Power= -22.0 dBm       "
       ]
      },
      {
       "output_type": "stream",
       "stream": "stdout",
       "text": [
        "\r",
        "Step 16, Channel= 1047,  Freq= 637.19 MHz (1074.81 MHz),  Power= -20.0 dBm       "
       ]
      },
      {
       "output_type": "stream",
       "stream": "stdout",
       "text": [
        "\r",
        "Step 16, Channel= 1047,  Freq= 637.19 MHz (1074.81 MHz),  Power= -18.0 dBm       "
       ]
      },
      {
       "output_type": "stream",
       "stream": "stdout",
       "text": [
        "\r",
        "Step 16, Channel= 1047,  Freq= 637.19 MHz (1074.81 MHz),  Power= -16.0 dBm       "
       ]
      },
      {
       "output_type": "stream",
       "stream": "stdout",
       "text": [
        "\r",
        "Step 16, Channel= 1047,  Freq= 637.19 MHz (1074.81 MHz),  Power= -14.0 dBm       "
       ]
      },
      {
       "output_type": "stream",
       "stream": "stdout",
       "text": [
        "\r",
        "Step 16, Channel= 1047,  Freq= 637.19 MHz (1074.81 MHz),  Power= -12.0 dBm       "
       ]
      },
      {
       "output_type": "stream",
       "stream": "stdout",
       "text": [
        "\r",
        "Step 16, Channel= 1047,  Freq= 637.19 MHz (1074.81 MHz),  Power= -10.0 dBm       "
       ]
      },
      {
       "output_type": "stream",
       "stream": "stdout",
       "text": [
        "\r",
        "Step 17, Channel= 1963,  Freq= 445.76 MHz (1266.24 MHz),  Power= -70.0 dBm       "
       ]
      },
      {
       "output_type": "stream",
       "stream": "stdout",
       "text": [
        "\r",
        "Step 17, Channel= 1963,  Freq= 445.76 MHz (1266.24 MHz),  Power= -68.0 dBm       "
       ]
      },
      {
       "output_type": "stream",
       "stream": "stdout",
       "text": [
        "\r",
        "Step 17, Channel= 1963,  Freq= 445.76 MHz (1266.24 MHz),  Power= -66.0 dBm       "
       ]
      },
      {
       "output_type": "stream",
       "stream": "stdout",
       "text": [
        "\r",
        "Step 17, Channel= 1963,  Freq= 445.76 MHz (1266.24 MHz),  Power= -64.0 dBm       "
       ]
      },
      {
       "output_type": "stream",
       "stream": "stdout",
       "text": [
        "\r",
        "Step 17, Channel= 1963,  Freq= 445.76 MHz (1266.24 MHz),  Power= -62.0 dBm       "
       ]
      },
      {
       "output_type": "stream",
       "stream": "stdout",
       "text": [
        "\r",
        "Step 17, Channel= 1963,  Freq= 445.76 MHz (1266.24 MHz),  Power= -60.0 dBm       "
       ]
      },
      {
       "output_type": "stream",
       "stream": "stdout",
       "text": [
        "\r",
        "Step 17, Channel= 1963,  Freq= 445.76 MHz (1266.24 MHz),  Power= -58.0 dBm       "
       ]
      },
      {
       "output_type": "stream",
       "stream": "stdout",
       "text": [
        "\r",
        "Step 17, Channel= 1963,  Freq= 445.76 MHz (1266.24 MHz),  Power= -56.0 dBm       "
       ]
      },
      {
       "output_type": "stream",
       "stream": "stdout",
       "text": [
        "\r",
        "Step 17, Channel= 1963,  Freq= 445.76 MHz (1266.24 MHz),  Power= -54.0 dBm       "
       ]
      },
      {
       "output_type": "stream",
       "stream": "stdout",
       "text": [
        "\r",
        "Step 17, Channel= 1963,  Freq= 445.76 MHz (1266.24 MHz),  Power= -52.0 dBm       "
       ]
      },
      {
       "output_type": "stream",
       "stream": "stdout",
       "text": [
        "\r",
        "Step 17, Channel= 1963,  Freq= 445.76 MHz (1266.24 MHz),  Power= -50.0 dBm       "
       ]
      },
      {
       "output_type": "stream",
       "stream": "stdout",
       "text": [
        "\r",
        "Step 17, Channel= 1963,  Freq= 445.76 MHz (1266.24 MHz),  Power= -48.0 dBm       "
       ]
      },
      {
       "output_type": "stream",
       "stream": "stdout",
       "text": [
        "\r",
        "Step 17, Channel= 1963,  Freq= 445.76 MHz (1266.24 MHz),  Power= -46.0 dBm       "
       ]
      },
      {
       "output_type": "stream",
       "stream": "stdout",
       "text": [
        "\r",
        "Step 17, Channel= 1963,  Freq= 445.76 MHz (1266.24 MHz),  Power= -44.0 dBm       "
       ]
      },
      {
       "output_type": "stream",
       "stream": "stdout",
       "text": [
        "\r",
        "Step 17, Channel= 1963,  Freq= 445.76 MHz (1266.24 MHz),  Power= -42.0 dBm       "
       ]
      },
      {
       "output_type": "stream",
       "stream": "stdout",
       "text": [
        "\r",
        "Step 17, Channel= 1963,  Freq= 445.76 MHz (1266.24 MHz),  Power= -40.0 dBm       "
       ]
      },
      {
       "output_type": "stream",
       "stream": "stdout",
       "text": [
        "\r",
        "Step 17, Channel= 1963,  Freq= 445.76 MHz (1266.24 MHz),  Power= -38.0 dBm       "
       ]
      },
      {
       "output_type": "stream",
       "stream": "stdout",
       "text": [
        "\r",
        "Step 17, Channel= 1963,  Freq= 445.76 MHz (1266.24 MHz),  Power= -36.0 dBm       "
       ]
      },
      {
       "output_type": "stream",
       "stream": "stdout",
       "text": [
        "\r",
        "Step 17, Channel= 1963,  Freq= 445.76 MHz (1266.24 MHz),  Power= -34.0 dBm       "
       ]
      },
      {
       "output_type": "stream",
       "stream": "stdout",
       "text": [
        "\r",
        "Step 17, Channel= 1963,  Freq= 445.76 MHz (1266.24 MHz),  Power= -32.0 dBm       "
       ]
      },
      {
       "output_type": "stream",
       "stream": "stdout",
       "text": [
        "\r",
        "Step 17, Channel= 1963,  Freq= 445.76 MHz (1266.24 MHz),  Power= -30.0 dBm       "
       ]
      },
      {
       "output_type": "stream",
       "stream": "stdout",
       "text": [
        "\r",
        "Step 17, Channel= 1963,  Freq= 445.76 MHz (1266.24 MHz),  Power= -28.0 dBm       "
       ]
      },
      {
       "output_type": "stream",
       "stream": "stdout",
       "text": [
        "\r",
        "Step 17, Channel= 1963,  Freq= 445.76 MHz (1266.24 MHz),  Power= -26.0 dBm       "
       ]
      },
      {
       "output_type": "stream",
       "stream": "stdout",
       "text": [
        "\r",
        "Step 17, Channel= 1963,  Freq= 445.76 MHz (1266.24 MHz),  Power= -24.0 dBm       "
       ]
      },
      {
       "output_type": "stream",
       "stream": "stdout",
       "text": [
        "\r",
        "Step 17, Channel= 1963,  Freq= 445.76 MHz (1266.24 MHz),  Power= -22.0 dBm       "
       ]
      },
      {
       "output_type": "stream",
       "stream": "stdout",
       "text": [
        "\r",
        "Step 17, Channel= 1963,  Freq= 445.76 MHz (1266.24 MHz),  Power= -20.0 dBm       "
       ]
      },
      {
       "output_type": "stream",
       "stream": "stdout",
       "text": [
        "\r",
        "Step 17, Channel= 1963,  Freq= 445.76 MHz (1266.24 MHz),  Power= -18.0 dBm       "
       ]
      },
      {
       "output_type": "stream",
       "stream": "stdout",
       "text": [
        "\r",
        "Step 17, Channel= 1963,  Freq= 445.76 MHz (1266.24 MHz),  Power= -16.0 dBm       "
       ]
      },
      {
       "output_type": "stream",
       "stream": "stdout",
       "text": [
        "\r",
        "Step 17, Channel= 1963,  Freq= 445.76 MHz (1266.24 MHz),  Power= -14.0 dBm       "
       ]
      },
      {
       "output_type": "stream",
       "stream": "stdout",
       "text": [
        "\r",
        "Step 17, Channel= 1963,  Freq= 445.76 MHz (1266.24 MHz),  Power= -12.0 dBm       "
       ]
      },
      {
       "output_type": "stream",
       "stream": "stdout",
       "text": [
        "\r",
        "Step 17, Channel= 1963,  Freq= 445.76 MHz (1266.24 MHz),  Power= -10.0 dBm       "
       ]
      },
      {
       "output_type": "stream",
       "stream": "stdout",
       "text": [
        "\r",
        "Step 18, Channel= 2509,  Freq= 331.66 MHz (1380.34 MHz),  Power= -70.0 dBm       "
       ]
      },
      {
       "output_type": "stream",
       "stream": "stdout",
       "text": [
        "\r",
        "Step 18, Channel= 2509,  Freq= 331.66 MHz (1380.34 MHz),  Power= -68.0 dBm       "
       ]
      },
      {
       "output_type": "stream",
       "stream": "stdout",
       "text": [
        "\r",
        "Step 18, Channel= 2509,  Freq= 331.66 MHz (1380.34 MHz),  Power= -66.0 dBm       "
       ]
      },
      {
       "output_type": "stream",
       "stream": "stdout",
       "text": [
        "\r",
        "Step 18, Channel= 2509,  Freq= 331.66 MHz (1380.34 MHz),  Power= -64.0 dBm       "
       ]
      },
      {
       "output_type": "stream",
       "stream": "stdout",
       "text": [
        "\r",
        "Step 18, Channel= 2509,  Freq= 331.66 MHz (1380.34 MHz),  Power= -62.0 dBm       "
       ]
      },
      {
       "output_type": "stream",
       "stream": "stdout",
       "text": [
        "\r",
        "Step 18, Channel= 2509,  Freq= 331.66 MHz (1380.34 MHz),  Power= -60.0 dBm       "
       ]
      },
      {
       "output_type": "stream",
       "stream": "stdout",
       "text": [
        "\r",
        "Step 18, Channel= 2509,  Freq= 331.66 MHz (1380.34 MHz),  Power= -58.0 dBm       "
       ]
      },
      {
       "output_type": "stream",
       "stream": "stdout",
       "text": [
        "\r",
        "Step 18, Channel= 2509,  Freq= 331.66 MHz (1380.34 MHz),  Power= -56.0 dBm       "
       ]
      },
      {
       "output_type": "stream",
       "stream": "stdout",
       "text": [
        "\r",
        "Step 18, Channel= 2509,  Freq= 331.66 MHz (1380.34 MHz),  Power= -54.0 dBm       "
       ]
      },
      {
       "output_type": "stream",
       "stream": "stdout",
       "text": [
        "\r",
        "Step 18, Channel= 2509,  Freq= 331.66 MHz (1380.34 MHz),  Power= -52.0 dBm       "
       ]
      },
      {
       "output_type": "stream",
       "stream": "stdout",
       "text": [
        "\r",
        "Step 18, Channel= 2509,  Freq= 331.66 MHz (1380.34 MHz),  Power= -50.0 dBm       "
       ]
      },
      {
       "output_type": "stream",
       "stream": "stdout",
       "text": [
        "\r",
        "Step 18, Channel= 2509,  Freq= 331.66 MHz (1380.34 MHz),  Power= -48.0 dBm       "
       ]
      },
      {
       "output_type": "stream",
       "stream": "stdout",
       "text": [
        "\r",
        "Step 18, Channel= 2509,  Freq= 331.66 MHz (1380.34 MHz),  Power= -46.0 dBm       "
       ]
      },
      {
       "output_type": "stream",
       "stream": "stdout",
       "text": [
        "\r",
        "Step 18, Channel= 2509,  Freq= 331.66 MHz (1380.34 MHz),  Power= -44.0 dBm       "
       ]
      },
      {
       "output_type": "stream",
       "stream": "stdout",
       "text": [
        "\r",
        "Step 18, Channel= 2509,  Freq= 331.66 MHz (1380.34 MHz),  Power= -42.0 dBm       "
       ]
      },
      {
       "output_type": "stream",
       "stream": "stdout",
       "text": [
        "\r",
        "Step 18, Channel= 2509,  Freq= 331.66 MHz (1380.34 MHz),  Power= -40.0 dBm       "
       ]
      },
      {
       "output_type": "stream",
       "stream": "stdout",
       "text": [
        "\r",
        "Step 18, Channel= 2509,  Freq= 331.66 MHz (1380.34 MHz),  Power= -38.0 dBm       "
       ]
      },
      {
       "output_type": "stream",
       "stream": "stdout",
       "text": [
        "\r",
        "Step 18, Channel= 2509,  Freq= 331.66 MHz (1380.34 MHz),  Power= -36.0 dBm       "
       ]
      },
      {
       "output_type": "stream",
       "stream": "stdout",
       "text": [
        "\r",
        "Step 18, Channel= 2509,  Freq= 331.66 MHz (1380.34 MHz),  Power= -34.0 dBm       "
       ]
      },
      {
       "output_type": "stream",
       "stream": "stdout",
       "text": [
        "\r",
        "Step 18, Channel= 2509,  Freq= 331.66 MHz (1380.34 MHz),  Power= -32.0 dBm       "
       ]
      },
      {
       "output_type": "stream",
       "stream": "stdout",
       "text": [
        "\r",
        "Step 18, Channel= 2509,  Freq= 331.66 MHz (1380.34 MHz),  Power= -30.0 dBm       "
       ]
      },
      {
       "output_type": "stream",
       "stream": "stdout",
       "text": [
        "\r",
        "Step 18, Channel= 2509,  Freq= 331.66 MHz (1380.34 MHz),  Power= -28.0 dBm       "
       ]
      },
      {
       "output_type": "stream",
       "stream": "stdout",
       "text": [
        "\r",
        "Step 18, Channel= 2509,  Freq= 331.66 MHz (1380.34 MHz),  Power= -26.0 dBm       "
       ]
      },
      {
       "output_type": "stream",
       "stream": "stdout",
       "text": [
        "\r",
        "Step 18, Channel= 2509,  Freq= 331.66 MHz (1380.34 MHz),  Power= -24.0 dBm       "
       ]
      },
      {
       "output_type": "stream",
       "stream": "stdout",
       "text": [
        "\r",
        "Step 18, Channel= 2509,  Freq= 331.66 MHz (1380.34 MHz),  Power= -22.0 dBm       "
       ]
      },
      {
       "output_type": "stream",
       "stream": "stdout",
       "text": [
        "\r",
        "Step 18, Channel= 2509,  Freq= 331.66 MHz (1380.34 MHz),  Power= -20.0 dBm       "
       ]
      },
      {
       "output_type": "stream",
       "stream": "stdout",
       "text": [
        "\r",
        "Step 18, Channel= 2509,  Freq= 331.66 MHz (1380.34 MHz),  Power= -18.0 dBm       "
       ]
      },
      {
       "output_type": "stream",
       "stream": "stdout",
       "text": [
        "\r",
        "Step 18, Channel= 2509,  Freq= 331.66 MHz (1380.34 MHz),  Power= -16.0 dBm       "
       ]
      },
      {
       "output_type": "stream",
       "stream": "stdout",
       "text": [
        "\r",
        "Step 18, Channel= 2509,  Freq= 331.66 MHz (1380.34 MHz),  Power= -14.0 dBm       "
       ]
      },
      {
       "output_type": "stream",
       "stream": "stdout",
       "text": [
        "\r",
        "Step 18, Channel= 2509,  Freq= 331.66 MHz (1380.34 MHz),  Power= -12.0 dBm       "
       ]
      },
      {
       "output_type": "stream",
       "stream": "stdout",
       "text": [
        "\r",
        "Step 18, Channel= 2509,  Freq= 331.66 MHz (1380.34 MHz),  Power= -10.0 dBm       "
       ]
      },
      {
       "output_type": "stream",
       "stream": "stdout",
       "text": [
        "\r",
        "Step 19, Channel= 516,  Freq= 748.16 MHz ( 963.84 MHz),  Power= -70.0 dBm       "
       ]
      },
      {
       "output_type": "stream",
       "stream": "stdout",
       "text": [
        "\r",
        "Step 19, Channel= 516,  Freq= 748.16 MHz ( 963.84 MHz),  Power= -68.0 dBm       "
       ]
      },
      {
       "output_type": "stream",
       "stream": "stdout",
       "text": [
        "\r",
        "Step 19, Channel= 516,  Freq= 748.16 MHz ( 963.84 MHz),  Power= -66.0 dBm       "
       ]
      },
      {
       "output_type": "stream",
       "stream": "stdout",
       "text": [
        "\r",
        "Step 19, Channel= 516,  Freq= 748.16 MHz ( 963.84 MHz),  Power= -64.0 dBm       "
       ]
      },
      {
       "output_type": "stream",
       "stream": "stdout",
       "text": [
        "\r",
        "Step 19, Channel= 516,  Freq= 748.16 MHz ( 963.84 MHz),  Power= -62.0 dBm       "
       ]
      },
      {
       "output_type": "stream",
       "stream": "stdout",
       "text": [
        "\r",
        "Step 19, Channel= 516,  Freq= 748.16 MHz ( 963.84 MHz),  Power= -60.0 dBm       "
       ]
      },
      {
       "output_type": "stream",
       "stream": "stdout",
       "text": [
        "\r",
        "Step 19, Channel= 516,  Freq= 748.16 MHz ( 963.84 MHz),  Power= -58.0 dBm       "
       ]
      },
      {
       "output_type": "stream",
       "stream": "stdout",
       "text": [
        "\r",
        "Step 19, Channel= 516,  Freq= 748.16 MHz ( 963.84 MHz),  Power= -56.0 dBm       "
       ]
      },
      {
       "output_type": "stream",
       "stream": "stdout",
       "text": [
        "\r",
        "Step 19, Channel= 516,  Freq= 748.16 MHz ( 963.84 MHz),  Power= -54.0 dBm       "
       ]
      },
      {
       "output_type": "stream",
       "stream": "stdout",
       "text": [
        "\r",
        "Step 19, Channel= 516,  Freq= 748.16 MHz ( 963.84 MHz),  Power= -52.0 dBm       "
       ]
      },
      {
       "output_type": "stream",
       "stream": "stdout",
       "text": [
        "\r",
        "Step 19, Channel= 516,  Freq= 748.16 MHz ( 963.84 MHz),  Power= -50.0 dBm       "
       ]
      },
      {
       "output_type": "stream",
       "stream": "stdout",
       "text": [
        "\r",
        "Step 19, Channel= 516,  Freq= 748.16 MHz ( 963.84 MHz),  Power= -48.0 dBm       "
       ]
      },
      {
       "output_type": "stream",
       "stream": "stdout",
       "text": [
        "\r",
        "Step 19, Channel= 516,  Freq= 748.16 MHz ( 963.84 MHz),  Power= -46.0 dBm       "
       ]
      },
      {
       "output_type": "stream",
       "stream": "stdout",
       "text": [
        "\r",
        "Step 19, Channel= 516,  Freq= 748.16 MHz ( 963.84 MHz),  Power= -44.0 dBm       "
       ]
      },
      {
       "output_type": "stream",
       "stream": "stdout",
       "text": [
        "\r",
        "Step 19, Channel= 516,  Freq= 748.16 MHz ( 963.84 MHz),  Power= -42.0 dBm       "
       ]
      },
      {
       "output_type": "stream",
       "stream": "stdout",
       "text": [
        "\r",
        "Step 19, Channel= 516,  Freq= 748.16 MHz ( 963.84 MHz),  Power= -40.0 dBm       "
       ]
      },
      {
       "output_type": "stream",
       "stream": "stdout",
       "text": [
        "\r",
        "Step 19, Channel= 516,  Freq= 748.16 MHz ( 963.84 MHz),  Power= -38.0 dBm       "
       ]
      },
      {
       "output_type": "stream",
       "stream": "stdout",
       "text": [
        "\r",
        "Step 19, Channel= 516,  Freq= 748.16 MHz ( 963.84 MHz),  Power= -36.0 dBm       "
       ]
      },
      {
       "output_type": "stream",
       "stream": "stdout",
       "text": [
        "\r",
        "Step 19, Channel= 516,  Freq= 748.16 MHz ( 963.84 MHz),  Power= -34.0 dBm       "
       ]
      },
      {
       "output_type": "stream",
       "stream": "stdout",
       "text": [
        "\r",
        "Step 19, Channel= 516,  Freq= 748.16 MHz ( 963.84 MHz),  Power= -32.0 dBm       "
       ]
      },
      {
       "output_type": "stream",
       "stream": "stdout",
       "text": [
        "\r",
        "Step 19, Channel= 516,  Freq= 748.16 MHz ( 963.84 MHz),  Power= -30.0 dBm       "
       ]
      },
      {
       "output_type": "stream",
       "stream": "stdout",
       "text": [
        "\r",
        "Step 19, Channel= 516,  Freq= 748.16 MHz ( 963.84 MHz),  Power= -28.0 dBm       "
       ]
      },
      {
       "output_type": "stream",
       "stream": "stdout",
       "text": [
        "\r",
        "Step 19, Channel= 516,  Freq= 748.16 MHz ( 963.84 MHz),  Power= -26.0 dBm       "
       ]
      },
      {
       "output_type": "stream",
       "stream": "stdout",
       "text": [
        "\r",
        "Step 19, Channel= 516,  Freq= 748.16 MHz ( 963.84 MHz),  Power= -24.0 dBm       "
       ]
      },
      {
       "output_type": "stream",
       "stream": "stdout",
       "text": [
        "\r",
        "Step 19, Channel= 516,  Freq= 748.16 MHz ( 963.84 MHz),  Power= -22.0 dBm       "
       ]
      },
      {
       "output_type": "stream",
       "stream": "stdout",
       "text": [
        "\r",
        "Step 19, Channel= 516,  Freq= 748.16 MHz ( 963.84 MHz),  Power= -20.0 dBm       "
       ]
      },
      {
       "output_type": "stream",
       "stream": "stdout",
       "text": [
        "\r",
        "Step 19, Channel= 516,  Freq= 748.16 MHz ( 963.84 MHz),  Power= -18.0 dBm       "
       ]
      },
      {
       "output_type": "stream",
       "stream": "stdout",
       "text": [
        "\r",
        "Step 19, Channel= 516,  Freq= 748.16 MHz ( 963.84 MHz),  Power= -16.0 dBm       "
       ]
      },
      {
       "output_type": "stream",
       "stream": "stdout",
       "text": [
        "\r",
        "Step 19, Channel= 516,  Freq= 748.16 MHz ( 963.84 MHz),  Power= -14.0 dBm       "
       ]
      },
      {
       "output_type": "stream",
       "stream": "stdout",
       "text": [
        "\r",
        "Step 19, Channel= 516,  Freq= 748.16 MHz ( 963.84 MHz),  Power= -12.0 dBm       "
       ]
      },
      {
       "output_type": "stream",
       "stream": "stdout",
       "text": [
        "\r",
        "Step 19, Channel= 516,  Freq= 748.16 MHz ( 963.84 MHz),  Power= -10.0 dBm       "
       ]
      },
      {
       "output_type": "stream",
       "stream": "stdout",
       "text": [
        "\r",
        "Step 20, Channel= 2498,  Freq= 333.96 MHz (1378.04 MHz),  Power= -70.0 dBm       "
       ]
      },
      {
       "output_type": "stream",
       "stream": "stdout",
       "text": [
        "\r",
        "Step 20, Channel= 2498,  Freq= 333.96 MHz (1378.04 MHz),  Power= -68.0 dBm       "
       ]
      },
      {
       "output_type": "stream",
       "stream": "stdout",
       "text": [
        "\r",
        "Step 20, Channel= 2498,  Freq= 333.96 MHz (1378.04 MHz),  Power= -66.0 dBm       "
       ]
      },
      {
       "output_type": "stream",
       "stream": "stdout",
       "text": [
        "\r",
        "Step 20, Channel= 2498,  Freq= 333.96 MHz (1378.04 MHz),  Power= -64.0 dBm       "
       ]
      },
      {
       "output_type": "stream",
       "stream": "stdout",
       "text": [
        "\r",
        "Step 20, Channel= 2498,  Freq= 333.96 MHz (1378.04 MHz),  Power= -62.0 dBm       "
       ]
      },
      {
       "output_type": "stream",
       "stream": "stdout",
       "text": [
        "\r",
        "Step 20, Channel= 2498,  Freq= 333.96 MHz (1378.04 MHz),  Power= -60.0 dBm       "
       ]
      },
      {
       "output_type": "stream",
       "stream": "stdout",
       "text": [
        "\r",
        "Step 20, Channel= 2498,  Freq= 333.96 MHz (1378.04 MHz),  Power= -58.0 dBm       "
       ]
      },
      {
       "output_type": "stream",
       "stream": "stdout",
       "text": [
        "\r",
        "Step 20, Channel= 2498,  Freq= 333.96 MHz (1378.04 MHz),  Power= -56.0 dBm       "
       ]
      },
      {
       "output_type": "stream",
       "stream": "stdout",
       "text": [
        "\r",
        "Step 20, Channel= 2498,  Freq= 333.96 MHz (1378.04 MHz),  Power= -54.0 dBm       "
       ]
      },
      {
       "output_type": "stream",
       "stream": "stdout",
       "text": [
        "\r",
        "Step 20, Channel= 2498,  Freq= 333.96 MHz (1378.04 MHz),  Power= -52.0 dBm       "
       ]
      },
      {
       "output_type": "stream",
       "stream": "stdout",
       "text": [
        "\r",
        "Step 20, Channel= 2498,  Freq= 333.96 MHz (1378.04 MHz),  Power= -50.0 dBm       "
       ]
      },
      {
       "output_type": "stream",
       "stream": "stdout",
       "text": [
        "\r",
        "Step 20, Channel= 2498,  Freq= 333.96 MHz (1378.04 MHz),  Power= -48.0 dBm       "
       ]
      },
      {
       "output_type": "stream",
       "stream": "stdout",
       "text": [
        "\r",
        "Step 20, Channel= 2498,  Freq= 333.96 MHz (1378.04 MHz),  Power= -46.0 dBm       "
       ]
      },
      {
       "output_type": "stream",
       "stream": "stdout",
       "text": [
        "\r",
        "Step 20, Channel= 2498,  Freq= 333.96 MHz (1378.04 MHz),  Power= -44.0 dBm       "
       ]
      },
      {
       "output_type": "stream",
       "stream": "stdout",
       "text": [
        "\r",
        "Step 20, Channel= 2498,  Freq= 333.96 MHz (1378.04 MHz),  Power= -42.0 dBm       "
       ]
      },
      {
       "output_type": "stream",
       "stream": "stdout",
       "text": [
        "\r",
        "Step 20, Channel= 2498,  Freq= 333.96 MHz (1378.04 MHz),  Power= -40.0 dBm       "
       ]
      },
      {
       "output_type": "stream",
       "stream": "stdout",
       "text": [
        "\r",
        "Step 20, Channel= 2498,  Freq= 333.96 MHz (1378.04 MHz),  Power= -38.0 dBm       "
       ]
      },
      {
       "output_type": "stream",
       "stream": "stdout",
       "text": [
        "\r",
        "Step 20, Channel= 2498,  Freq= 333.96 MHz (1378.04 MHz),  Power= -36.0 dBm       "
       ]
      },
      {
       "output_type": "stream",
       "stream": "stdout",
       "text": [
        "\r",
        "Step 20, Channel= 2498,  Freq= 333.96 MHz (1378.04 MHz),  Power= -34.0 dBm       "
       ]
      },
      {
       "output_type": "stream",
       "stream": "stdout",
       "text": [
        "\r",
        "Step 20, Channel= 2498,  Freq= 333.96 MHz (1378.04 MHz),  Power= -32.0 dBm       "
       ]
      },
      {
       "output_type": "stream",
       "stream": "stdout",
       "text": [
        "\r",
        "Step 20, Channel= 2498,  Freq= 333.96 MHz (1378.04 MHz),  Power= -30.0 dBm       "
       ]
      },
      {
       "output_type": "stream",
       "stream": "stdout",
       "text": [
        "\r",
        "Step 20, Channel= 2498,  Freq= 333.96 MHz (1378.04 MHz),  Power= -28.0 dBm       "
       ]
      },
      {
       "output_type": "stream",
       "stream": "stdout",
       "text": [
        "\r",
        "Step 20, Channel= 2498,  Freq= 333.96 MHz (1378.04 MHz),  Power= -26.0 dBm       "
       ]
      },
      {
       "output_type": "stream",
       "stream": "stdout",
       "text": [
        "\r",
        "Step 20, Channel= 2498,  Freq= 333.96 MHz (1378.04 MHz),  Power= -24.0 dBm       "
       ]
      },
      {
       "output_type": "stream",
       "stream": "stdout",
       "text": [
        "\r",
        "Step 20, Channel= 2498,  Freq= 333.96 MHz (1378.04 MHz),  Power= -22.0 dBm       "
       ]
      },
      {
       "output_type": "stream",
       "stream": "stdout",
       "text": [
        "\r",
        "Step 20, Channel= 2498,  Freq= 333.96 MHz (1378.04 MHz),  Power= -20.0 dBm       "
       ]
      },
      {
       "output_type": "stream",
       "stream": "stdout",
       "text": [
        "\r",
        "Step 20, Channel= 2498,  Freq= 333.96 MHz (1378.04 MHz),  Power= -18.0 dBm       "
       ]
      },
      {
       "output_type": "stream",
       "stream": "stdout",
       "text": [
        "\r",
        "Step 20, Channel= 2498,  Freq= 333.96 MHz (1378.04 MHz),  Power= -16.0 dBm       "
       ]
      },
      {
       "output_type": "stream",
       "stream": "stdout",
       "text": [
        "\r",
        "Step 20, Channel= 2498,  Freq= 333.96 MHz (1378.04 MHz),  Power= -14.0 dBm       "
       ]
      },
      {
       "output_type": "stream",
       "stream": "stdout",
       "text": [
        "\r",
        "Step 20, Channel= 2498,  Freq= 333.96 MHz (1378.04 MHz),  Power= -12.0 dBm       "
       ]
      },
      {
       "output_type": "stream",
       "stream": "stdout",
       "text": [
        "\r",
        "Step 20, Channel= 2498,  Freq= 333.96 MHz (1378.04 MHz),  Power= -10.0 dBm       "
       ]
      },
      {
       "output_type": "stream",
       "stream": "stdout",
       "text": [
        "\r",
        "Step 21, Channel= 2230,  Freq= 389.96 MHz (1322.04 MHz),  Power= -70.0 dBm       "
       ]
      },
      {
       "output_type": "stream",
       "stream": "stdout",
       "text": [
        "\r",
        "Step 21, Channel= 2230,  Freq= 389.96 MHz (1322.04 MHz),  Power= -68.0 dBm       "
       ]
      },
      {
       "output_type": "stream",
       "stream": "stdout",
       "text": [
        "\r",
        "Step 21, Channel= 2230,  Freq= 389.96 MHz (1322.04 MHz),  Power= -66.0 dBm       "
       ]
      },
      {
       "output_type": "stream",
       "stream": "stdout",
       "text": [
        "\r",
        "Step 21, Channel= 2230,  Freq= 389.96 MHz (1322.04 MHz),  Power= -64.0 dBm       "
       ]
      },
      {
       "output_type": "stream",
       "stream": "stdout",
       "text": [
        "\r",
        "Step 21, Channel= 2230,  Freq= 389.96 MHz (1322.04 MHz),  Power= -62.0 dBm       "
       ]
      },
      {
       "output_type": "stream",
       "stream": "stdout",
       "text": [
        "\r",
        "Step 21, Channel= 2230,  Freq= 389.96 MHz (1322.04 MHz),  Power= -60.0 dBm       "
       ]
      },
      {
       "output_type": "stream",
       "stream": "stdout",
       "text": [
        "\r",
        "Step 21, Channel= 2230,  Freq= 389.96 MHz (1322.04 MHz),  Power= -58.0 dBm       "
       ]
      },
      {
       "output_type": "stream",
       "stream": "stdout",
       "text": [
        "\r",
        "Step 21, Channel= 2230,  Freq= 389.96 MHz (1322.04 MHz),  Power= -56.0 dBm       "
       ]
      },
      {
       "output_type": "stream",
       "stream": "stdout",
       "text": [
        "\r",
        "Step 21, Channel= 2230,  Freq= 389.96 MHz (1322.04 MHz),  Power= -54.0 dBm       "
       ]
      },
      {
       "output_type": "stream",
       "stream": "stdout",
       "text": [
        "\r",
        "Step 21, Channel= 2230,  Freq= 389.96 MHz (1322.04 MHz),  Power= -52.0 dBm       "
       ]
      },
      {
       "output_type": "stream",
       "stream": "stdout",
       "text": [
        "\r",
        "Step 21, Channel= 2230,  Freq= 389.96 MHz (1322.04 MHz),  Power= -50.0 dBm       "
       ]
      },
      {
       "output_type": "stream",
       "stream": "stdout",
       "text": [
        "\r",
        "Step 21, Channel= 2230,  Freq= 389.96 MHz (1322.04 MHz),  Power= -48.0 dBm       "
       ]
      },
      {
       "output_type": "stream",
       "stream": "stdout",
       "text": [
        "\r",
        "Step 21, Channel= 2230,  Freq= 389.96 MHz (1322.04 MHz),  Power= -46.0 dBm       "
       ]
      },
      {
       "output_type": "stream",
       "stream": "stdout",
       "text": [
        "\r",
        "Step 21, Channel= 2230,  Freq= 389.96 MHz (1322.04 MHz),  Power= -44.0 dBm       "
       ]
      },
      {
       "output_type": "stream",
       "stream": "stdout",
       "text": [
        "\r",
        "Step 21, Channel= 2230,  Freq= 389.96 MHz (1322.04 MHz),  Power= -42.0 dBm       "
       ]
      },
      {
       "output_type": "stream",
       "stream": "stdout",
       "text": [
        "\r",
        "Step 21, Channel= 2230,  Freq= 389.96 MHz (1322.04 MHz),  Power= -40.0 dBm       "
       ]
      },
      {
       "output_type": "stream",
       "stream": "stdout",
       "text": [
        "\r",
        "Step 21, Channel= 2230,  Freq= 389.96 MHz (1322.04 MHz),  Power= -38.0 dBm       "
       ]
      },
      {
       "output_type": "stream",
       "stream": "stdout",
       "text": [
        "\r",
        "Step 21, Channel= 2230,  Freq= 389.96 MHz (1322.04 MHz),  Power= -36.0 dBm       "
       ]
      },
      {
       "output_type": "stream",
       "stream": "stdout",
       "text": [
        "\r",
        "Step 21, Channel= 2230,  Freq= 389.96 MHz (1322.04 MHz),  Power= -34.0 dBm       "
       ]
      },
      {
       "output_type": "stream",
       "stream": "stdout",
       "text": [
        "\r",
        "Step 21, Channel= 2230,  Freq= 389.96 MHz (1322.04 MHz),  Power= -32.0 dBm       "
       ]
      },
      {
       "output_type": "stream",
       "stream": "stdout",
       "text": [
        "\r",
        "Step 21, Channel= 2230,  Freq= 389.96 MHz (1322.04 MHz),  Power= -30.0 dBm       "
       ]
      },
      {
       "output_type": "stream",
       "stream": "stdout",
       "text": [
        "\r",
        "Step 21, Channel= 2230,  Freq= 389.96 MHz (1322.04 MHz),  Power= -28.0 dBm       "
       ]
      },
      {
       "output_type": "stream",
       "stream": "stdout",
       "text": [
        "\r",
        "Step 21, Channel= 2230,  Freq= 389.96 MHz (1322.04 MHz),  Power= -26.0 dBm       "
       ]
      },
      {
       "output_type": "stream",
       "stream": "stdout",
       "text": [
        "\r",
        "Step 21, Channel= 2230,  Freq= 389.96 MHz (1322.04 MHz),  Power= -24.0 dBm       "
       ]
      },
      {
       "output_type": "stream",
       "stream": "stdout",
       "text": [
        "\r",
        "Step 21, Channel= 2230,  Freq= 389.96 MHz (1322.04 MHz),  Power= -22.0 dBm       "
       ]
      },
      {
       "output_type": "stream",
       "stream": "stdout",
       "text": [
        "\r",
        "Step 21, Channel= 2230,  Freq= 389.96 MHz (1322.04 MHz),  Power= -20.0 dBm       "
       ]
      },
      {
       "output_type": "stream",
       "stream": "stdout",
       "text": [
        "\r",
        "Step 21, Channel= 2230,  Freq= 389.96 MHz (1322.04 MHz),  Power= -18.0 dBm       "
       ]
      },
      {
       "output_type": "stream",
       "stream": "stdout",
       "text": [
        "\r",
        "Step 21, Channel= 2230,  Freq= 389.96 MHz (1322.04 MHz),  Power= -16.0 dBm       "
       ]
      },
      {
       "output_type": "stream",
       "stream": "stdout",
       "text": [
        "\r",
        "Step 21, Channel= 2230,  Freq= 389.96 MHz (1322.04 MHz),  Power= -14.0 dBm       "
       ]
      },
      {
       "output_type": "stream",
       "stream": "stdout",
       "text": [
        "\r",
        "Step 21, Channel= 2230,  Freq= 389.96 MHz (1322.04 MHz),  Power= -12.0 dBm       "
       ]
      },
      {
       "output_type": "stream",
       "stream": "stdout",
       "text": [
        "\r",
        "Step 21, Channel= 2230,  Freq= 389.96 MHz (1322.04 MHz),  Power= -10.0 dBm       "
       ]
      },
      {
       "output_type": "stream",
       "stream": "stdout",
       "text": [
        "\r",
        "Stopped with keyboard interrupt\n",
        "\n",
        "Finally\n"
       ]
      }
     ],
     "prompt_number": 29
    },
    {
     "cell_type": "code",
     "collapsed": false,
     "input": [
      "# send some commands to change frequency\n",
      "freq = np.arange(1000.0,2000.0,50.0);         # MHz\n",
      "\n",
      "# start up\n",
      "sg.send('OUTP ON\\n');\n",
      "\n",
      "# loop\n",
      "for a,f in enumerate(freq):\n",
      "    print('Test %2i, Freq %7.3f MHz' % (a,f*1.0e6))\n",
      "    sg.send('FREQ %g\\n' % (f*1.0e6));\n",
      "    time.sleep(0.25)\n",
      "    \n",
      "# clean up\n",
      "sg.send('OUTP OFF\\n');\n",
      "sg.send('FREQ 1e8\\n');\n"
     ],
     "language": "python",
     "metadata": {},
     "outputs": [
      {
       "output_type": "stream",
       "stream": "stdout",
       "text": [
        "Test  0, Freq 1000000000.000 MHz\n",
        "Test  1, Freq 1050000000.000 MHz"
       ]
      },
      {
       "output_type": "stream",
       "stream": "stdout",
       "text": [
        "\n",
        "Test  2, Freq 1100000000.000 MHz"
       ]
      },
      {
       "output_type": "stream",
       "stream": "stdout",
       "text": [
        "\n",
        "Test  3, Freq 1150000000.000 MHz"
       ]
      },
      {
       "output_type": "stream",
       "stream": "stdout",
       "text": [
        "\n",
        "Test  4, Freq 1200000000.000 MHz"
       ]
      },
      {
       "output_type": "stream",
       "stream": "stdout",
       "text": [
        "\n",
        "Test  5, Freq 1250000000.000 MHz"
       ]
      },
      {
       "output_type": "stream",
       "stream": "stdout",
       "text": [
        "\n",
        "Test  6, Freq 1300000000.000 MHz"
       ]
      },
      {
       "output_type": "stream",
       "stream": "stdout",
       "text": [
        "\n",
        "Test  7, Freq 1350000000.000 MHz"
       ]
      },
      {
       "output_type": "stream",
       "stream": "stdout",
       "text": [
        "\n",
        "Test  8, Freq 1400000000.000 MHz"
       ]
      },
      {
       "output_type": "stream",
       "stream": "stdout",
       "text": [
        "\n",
        "Test  9, Freq 1450000000.000 MHz"
       ]
      },
      {
       "output_type": "stream",
       "stream": "stdout",
       "text": [
        "\n",
        "Test 10, Freq 1500000000.000 MHz"
       ]
      },
      {
       "output_type": "stream",
       "stream": "stdout",
       "text": [
        "\n",
        "Test 11, Freq 1550000000.000 MHz"
       ]
      },
      {
       "output_type": "stream",
       "stream": "stdout",
       "text": [
        "\n",
        "Test 12, Freq 1600000000.000 MHz"
       ]
      },
      {
       "output_type": "stream",
       "stream": "stdout",
       "text": [
        "\n",
        "Test 13, Freq 1650000000.000 MHz"
       ]
      },
      {
       "output_type": "stream",
       "stream": "stdout",
       "text": [
        "\n",
        "Test 14, Freq 1700000000.000 MHz"
       ]
      },
      {
       "output_type": "stream",
       "stream": "stdout",
       "text": [
        "\n",
        "Test 15, Freq 1750000000.000 MHz"
       ]
      },
      {
       "output_type": "stream",
       "stream": "stdout",
       "text": [
        "\n",
        "Test 16, Freq 1800000000.000 MHz"
       ]
      },
      {
       "output_type": "stream",
       "stream": "stdout",
       "text": [
        "\n",
        "Test 17, Freq 1850000000.000 MHz"
       ]
      },
      {
       "output_type": "stream",
       "stream": "stdout",
       "text": [
        "\n",
        "Test 18, Freq 1900000000.000 MHz"
       ]
      },
      {
       "output_type": "stream",
       "stream": "stdout",
       "text": [
        "\n",
        "Test 19, Freq 1950000000.000 MHz"
       ]
      },
      {
       "output_type": "stream",
       "stream": "stdout",
       "text": [
        "\n"
       ]
      }
     ],
     "prompt_number": 78
    },
    {
     "cell_type": "code",
     "collapsed": false,
     "input": [
      "# Long continuous test - to see if the connection is reliable for a large number of messages\n",
      "import random\n",
      "n=0;\n",
      "random.seed(0)\n",
      "while True:\n",
      "    sg.send('FREQ %14.11f\\n' % (1.0e9+random.random()*2.0e9));\n",
      "    n=n+1;\n",
      "    time.sleep(0.1);\n",
      "    if (n % 500) == 0:\n",
      "        print('Tested %3ik OK at time %s' % (n/1000,datetime.datetime.now().time()))"
     ],
     "language": "python",
     "metadata": {},
     "outputs": [
      {
       "output_type": "stream",
       "stream": "stdout",
       "text": [
        "Tested   0k OK at time 13:31:25.444918\n",
        "Tested   1k OK at time 13:32:15.551042"
       ]
      },
      {
       "output_type": "stream",
       "stream": "stdout",
       "text": [
        "\n",
        "Tested   1k OK at time 13:33:05.657977"
       ]
      },
      {
       "output_type": "stream",
       "stream": "stdout",
       "text": [
        "\n",
        "Tested   2k OK at time 13:33:55.766489"
       ]
      },
      {
       "output_type": "stream",
       "stream": "stdout",
       "text": [
        "\n",
        "Tested   2k OK at time 13:34:45.874925"
       ]
      },
      {
       "output_type": "stream",
       "stream": "stdout",
       "text": [
        "\n",
        "Tested   3k OK at time 13:35:35.983694"
       ]
      },
      {
       "output_type": "stream",
       "stream": "stdout",
       "text": [
        "\n",
        "Tested   3k OK at time 13:36:26.092451"
       ]
      },
      {
       "output_type": "stream",
       "stream": "stdout",
       "text": [
        "\n",
        "Tested   4k OK at time 13:37:16.201472"
       ]
      },
      {
       "output_type": "stream",
       "stream": "stdout",
       "text": [
        "\n",
        "Tested   4k OK at time 13:38:06.310711"
       ]
      },
      {
       "output_type": "stream",
       "stream": "stdout",
       "text": [
        "\n",
        "Tested   5k OK at time 13:38:56.419556"
       ]
      },
      {
       "output_type": "stream",
       "stream": "stdout",
       "text": [
        "\n",
        "Tested   5k OK at time 13:39:46.526716"
       ]
      },
      {
       "output_type": "stream",
       "stream": "stdout",
       "text": [
        "\n",
        "Tested   6k OK at time 13:40:36.631462"
       ]
      },
      {
       "output_type": "stream",
       "stream": "stdout",
       "text": [
        "\n",
        "Tested   6k OK at time 13:41:26.736217"
       ]
      },
      {
       "output_type": "stream",
       "stream": "stdout",
       "text": [
        "\n",
        "Tested   7k OK at time 13:42:16.842490"
       ]
      },
      {
       "output_type": "stream",
       "stream": "stdout",
       "text": [
        "\n",
        "Tested   7k OK at time 13:43:06.948607"
       ]
      },
      {
       "output_type": "stream",
       "stream": "stdout",
       "text": [
        "\n",
        "Tested   8k OK at time 13:43:57.054485"
       ]
      },
      {
       "output_type": "stream",
       "stream": "stdout",
       "text": [
        "\n",
        "Tested   8k OK at time 13:44:47.161423"
       ]
      },
      {
       "output_type": "stream",
       "stream": "stdout",
       "text": [
        "\n",
        "Tested   9k OK at time 13:45:37.261016"
       ]
      },
      {
       "output_type": "stream",
       "stream": "stdout",
       "text": [
        "\n",
        "Tested   9k OK at time 13:46:27.362167"
       ]
      },
      {
       "output_type": "stream",
       "stream": "stdout",
       "text": [
        "\n",
        "Tested  10k OK at time 13:47:17.472040"
       ]
      },
      {
       "output_type": "stream",
       "stream": "stdout",
       "text": [
        "\n",
        "Tested  10k OK at time 13:48:07.581340"
       ]
      },
      {
       "output_type": "stream",
       "stream": "stdout",
       "text": [
        "\n",
        "Tested  11k OK at time 13:48:57.686636"
       ]
      },
      {
       "output_type": "stream",
       "stream": "stdout",
       "text": [
        "\n",
        "Tested  11k OK at time 13:49:47.794978"
       ]
      },
      {
       "output_type": "stream",
       "stream": "stdout",
       "text": [
        "\n",
        "Tested  12k OK at time 13:50:37.893883"
       ]
      },
      {
       "output_type": "stream",
       "stream": "stdout",
       "text": [
        "\n",
        "Tested  12k OK at time 13:51:27.992175"
       ]
      },
      {
       "output_type": "stream",
       "stream": "stdout",
       "text": [
        "\n",
        "Tested  13k OK at time 13:52:18.092485"
       ]
      },
      {
       "ename": "KeyboardInterrupt",
       "evalue": "",
       "output_type": "pyerr",
       "traceback": [
        "\u001b[1;31m---------------------------------------------------------------------------\u001b[0m\n\u001b[1;31mKeyboardInterrupt\u001b[0m                         Traceback (most recent call last)",
        "\u001b[1;32m<ipython-input-112-42d48e74b593>\u001b[0m in \u001b[0;36m<module>\u001b[1;34m()\u001b[0m\n\u001b[0;32m      6\u001b[0m     \u001b[0msg\u001b[0m\u001b[1;33m.\u001b[0m\u001b[0msend\u001b[0m\u001b[1;33m(\u001b[0m\u001b[1;34m'FREQ %14.11f\\n'\u001b[0m \u001b[1;33m%\u001b[0m \u001b[1;33m(\u001b[0m\u001b[1;36m1.0e9\u001b[0m\u001b[1;33m+\u001b[0m\u001b[0mrandom\u001b[0m\u001b[1;33m.\u001b[0m\u001b[0mrandom\u001b[0m\u001b[1;33m(\u001b[0m\u001b[1;33m)\u001b[0m\u001b[1;33m*\u001b[0m\u001b[1;36m2.0e9\u001b[0m\u001b[1;33m)\u001b[0m\u001b[1;33m)\u001b[0m\u001b[1;33m;\u001b[0m\u001b[1;33m\u001b[0m\u001b[0m\n\u001b[0;32m      7\u001b[0m     \u001b[0mn\u001b[0m\u001b[1;33m=\u001b[0m\u001b[0mn\u001b[0m\u001b[1;33m+\u001b[0m\u001b[1;36m1\u001b[0m\u001b[1;33m;\u001b[0m\u001b[1;33m\u001b[0m\u001b[0m\n\u001b[1;32m----> 8\u001b[1;33m     \u001b[0mtime\u001b[0m\u001b[1;33m.\u001b[0m\u001b[0msleep\u001b[0m\u001b[1;33m(\u001b[0m\u001b[1;36m0.1\u001b[0m\u001b[1;33m)\u001b[0m\u001b[1;33m;\u001b[0m\u001b[1;33m\u001b[0m\u001b[0m\n\u001b[0m\u001b[0;32m      9\u001b[0m     \u001b[1;32mif\u001b[0m \u001b[1;33m(\u001b[0m\u001b[0mn\u001b[0m \u001b[1;33m%\u001b[0m \u001b[1;36m500\u001b[0m\u001b[1;33m)\u001b[0m \u001b[1;33m==\u001b[0m \u001b[1;36m0\u001b[0m\u001b[1;33m:\u001b[0m\u001b[1;33m\u001b[0m\u001b[0m\n\u001b[0;32m     10\u001b[0m         \u001b[1;32mprint\u001b[0m\u001b[1;33m(\u001b[0m\u001b[1;34m'Tested %3ik OK at time %s'\u001b[0m \u001b[1;33m%\u001b[0m \u001b[1;33m(\u001b[0m\u001b[0mn\u001b[0m\u001b[1;33m/\u001b[0m\u001b[1;36m1000\u001b[0m\u001b[1;33m,\u001b[0m\u001b[0mdatetime\u001b[0m\u001b[1;33m.\u001b[0m\u001b[0mdatetime\u001b[0m\u001b[1;33m.\u001b[0m\u001b[0mnow\u001b[0m\u001b[1;33m(\u001b[0m\u001b[1;33m)\u001b[0m\u001b[1;33m.\u001b[0m\u001b[0mtime\u001b[0m\u001b[1;33m(\u001b[0m\u001b[1;33m)\u001b[0m\u001b[1;33m)\u001b[0m\u001b[1;33m)\u001b[0m\u001b[1;33m\u001b[0m\u001b[0m\n",
        "\u001b[1;31mKeyboardInterrupt\u001b[0m: "
       ]
      },
      {
       "output_type": "stream",
       "stream": "stdout",
       "text": [
        "\n"
       ]
      }
     ],
     "prompt_number": 112
    },
    {
     "cell_type": "code",
     "collapsed": false,
     "input": [
      "# time delay test - to see if the connection is dropped by a long wait for a reply\n",
      "d=3.0;\n",
      "sg.send('FREQ 1234567890\\n');\n",
      "while True:\n",
      "    time.sleep(d-2.0);\n",
      "    sg.send('FREQ?\\n');\n",
      "    time.sleep(2);\n",
      "    reply=sg.recv(100); reply=reply[:-2];\n",
      "    print('Reply %s received after delay of %7.1f seconds, at time %s' % (reply,d-2.0,datetime.datetime.now().time()))\n",
      "    d = d * 2.0**(1.0/3.0);\n",
      "    reply='ERROR';\n",
      "\n"
     ],
     "language": "python",
     "metadata": {},
     "outputs": [
      {
       "output_type": "stream",
       "stream": "stdout",
       "text": [
        "Reply 1.234567890000E+09 received after delay of     1.0 seconds, at time 14:06:56.788137\n",
        "Reply 1.234567890000E+09 received after delay of     1.8 seconds, at time 14:07:00.572002"
       ]
      },
      {
       "output_type": "stream",
       "stream": "stdout",
       "text": [
        "\n",
        "Reply 1.234567890000E+09 received after delay of     2.8 seconds, at time 14:07:05.339649"
       ]
      },
      {
       "output_type": "stream",
       "stream": "stdout",
       "text": [
        "\n",
        "Reply 1.234567890000E+09 received after delay of     4.0 seconds, at time 14:07:11.346316"
       ]
      },
      {
       "output_type": "stream",
       "stream": "stdout",
       "text": [
        "\n",
        "Reply 1.234567890000E+09 received after delay of     5.6 seconds, at time 14:07:18.914072"
       ]
      },
      {
       "output_type": "stream",
       "stream": "stdout",
       "text": [
        "\n",
        "Reply 1.234567890000E+09 received after delay of     7.5 seconds, at time 14:07:28.448651"
       ]
      },
      {
       "output_type": "stream",
       "stream": "stdout",
       "text": [
        "\n",
        "Reply 1.234567890000E+09 received after delay of    10.0 seconds, at time 14:07:40.458789"
       ]
      },
      {
       "output_type": "stream",
       "stream": "stdout",
       "text": [
        "\n",
        "Reply 1.234567890000E+09 received after delay of    13.1 seconds, at time 14:07:55.588993"
       ]
      },
      {
       "output_type": "stream",
       "stream": "stdout",
       "text": [
        "\n",
        "Reply 1.234567890000E+09 received after delay of    17.0 seconds, at time 14:08:14.657619"
       ]
      },
      {
       "output_type": "stream",
       "stream": "stdout",
       "text": [
        "\n",
        "Reply 1.234567890000E+09 received after delay of    22.0 seconds, at time 14:08:38.682402"
       ]
      },
      {
       "output_type": "stream",
       "stream": "stdout",
       "text": [
        "\n",
        "Reply 1.234567890000E+09 received after delay of    28.2 seconds, at time 14:09:08.951451"
       ]
      },
      {
       "output_type": "stream",
       "stream": "stdout",
       "text": [
        "\n",
        "Reply 1.234567890000E+09 received after delay of    36.1 seconds, at time 14:09:47.078795"
       ]
      },
      {
       "output_type": "stream",
       "stream": "stdout",
       "text": [
        "\n",
        "Reply 1.234567890000E+09 received after delay of    46.0 seconds, at time 14:10:35.127606"
       ]
      },
      {
       "output_type": "stream",
       "stream": "stdout",
       "text": [
        "\n",
        "Reply 1.234567890000E+09 received after delay of    58.5 seconds, at time 14:11:35.658992"
       ]
      },
      {
       "output_type": "stream",
       "stream": "stdout",
       "text": [
        "\n",
        "Reply 1.234567890000E+09 received after delay of    74.2 seconds, at time 14:12:51.931264"
       ]
      },
      {
       "output_type": "stream",
       "stream": "stdout",
       "text": [
        "\n",
        "Reply 1.234567890000E+09 received after delay of    94.0 seconds, at time 14:14:28.028085"
       ]
      },
      {
       "output_type": "stream",
       "stream": "stdout",
       "text": [
        "\n",
        "Reply 1.234567890000E+09 received after delay of   119.0 seconds, at time 14:16:29.078779"
       ]
      },
      {
       "output_type": "stream",
       "stream": "stdout",
       "text": [
        "\n",
        "Reply 1.234567890000E+09 received after delay of   150.4 seconds, at time 14:19:01.572122"
       ]
      },
      {
       "output_type": "stream",
       "stream": "stdout",
       "text": [
        "\n",
        "Reply 1.234567890000E+09 received after delay of   190.0 seconds, at time 14:22:13.668798"
       ]
      },
      {
       "output_type": "stream",
       "stream": "stdout",
       "text": [
        "\n",
        "Reply 1.234567890000E+09 received after delay of   239.9 seconds, at time 14:26:15.676474"
       ]
      },
      {
       "output_type": "stream",
       "stream": "stdout",
       "text": [
        "\n",
        "Reply 1.234567890000E+09 received after delay of   302.8 seconds, at time 14:31:20.560298"
       ]
      },
      {
       "output_type": "stream",
       "stream": "stdout",
       "text": [
        "\n",
        "Reply 1.234567890000E+09 received after delay of   382.0 seconds, at time 14:37:44.658971"
       ]
      },
      {
       "output_type": "stream",
       "stream": "stdout",
       "text": [
        "\n",
        "Reply 1.234567890000E+09 received after delay of   481.8 seconds, at time 14:45:48.569030"
       ]
      },
      {
       "output_type": "stream",
       "stream": "stdout",
       "text": [
        "\n",
        "Reply 1.234567890000E+09 received after delay of   607.6 seconds, at time 14:55:58.229008"
       ]
      },
      {
       "output_type": "stream",
       "stream": "stdout",
       "text": [
        "\n",
        "Reply 1.234567890000E+09 received after delay of   766.0 seconds, at time 15:08:46.306217"
       ]
      },
      {
       "output_type": "stream",
       "stream": "stdout",
       "text": [
        "\n",
        "Reply 1.234567890000E+09 received after delay of   965.6 seconds, at time 15:24:54.019014"
       ]
      },
      {
       "output_type": "stream",
       "stream": "stdout",
       "text": [
        "\n",
        "Reply 1.234567890000E+09 received after delay of  1217.1 seconds, at time 15:45:13.245842"
       ]
      },
      {
       "output_type": "stream",
       "stream": "stdout",
       "text": [
        "\n",
        "Reply 1.234567890000E+09 received after delay of  1534.0 seconds, at time 16:10:49.343322"
       ]
      },
      {
       "ename": "KeyboardInterrupt",
       "evalue": "",
       "output_type": "pyerr",
       "traceback": [
        "\u001b[1;31m---------------------------------------------------------------------------\u001b[0m\n\u001b[1;31mKeyboardInterrupt\u001b[0m                         Traceback (most recent call last)",
        "\u001b[1;32m<ipython-input-119-0f1bef58762d>\u001b[0m in \u001b[0;36m<module>\u001b[1;34m()\u001b[0m\n\u001b[0;32m      3\u001b[0m \u001b[0msg\u001b[0m\u001b[1;33m.\u001b[0m\u001b[0msend\u001b[0m\u001b[1;33m(\u001b[0m\u001b[1;34m'FREQ 1234567890\\n'\u001b[0m\u001b[1;33m)\u001b[0m\u001b[1;33m;\u001b[0m\u001b[1;33m\u001b[0m\u001b[0m\n\u001b[0;32m      4\u001b[0m \u001b[1;32mwhile\u001b[0m \u001b[0mTrue\u001b[0m\u001b[1;33m:\u001b[0m\u001b[1;33m\u001b[0m\u001b[0m\n\u001b[1;32m----> 5\u001b[1;33m     \u001b[0mtime\u001b[0m\u001b[1;33m.\u001b[0m\u001b[0msleep\u001b[0m\u001b[1;33m(\u001b[0m\u001b[0md\u001b[0m\u001b[1;33m-\u001b[0m\u001b[1;36m2.0\u001b[0m\u001b[1;33m)\u001b[0m\u001b[1;33m;\u001b[0m\u001b[1;33m\u001b[0m\u001b[0m\n\u001b[0m\u001b[0;32m      6\u001b[0m     \u001b[0msg\u001b[0m\u001b[1;33m.\u001b[0m\u001b[0msend\u001b[0m\u001b[1;33m(\u001b[0m\u001b[1;34m'FREQ?\\n'\u001b[0m\u001b[1;33m)\u001b[0m\u001b[1;33m;\u001b[0m\u001b[1;33m\u001b[0m\u001b[0m\n\u001b[0;32m      7\u001b[0m     \u001b[0mtime\u001b[0m\u001b[1;33m.\u001b[0m\u001b[0msleep\u001b[0m\u001b[1;33m(\u001b[0m\u001b[1;36m2\u001b[0m\u001b[1;33m)\u001b[0m\u001b[1;33m;\u001b[0m\u001b[1;33m\u001b[0m\u001b[0m\n",
        "\u001b[1;31mKeyboardInterrupt\u001b[0m: "
       ]
      },
      {
       "output_type": "stream",
       "stream": "stdout",
       "text": [
        "\n"
       ]
      }
     ],
     "prompt_number": 119
    }
   ],
   "metadata": {}
  }
 ]
}