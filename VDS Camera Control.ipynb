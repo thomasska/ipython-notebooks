{
 "metadata": {
  "name": "VDS Camera Control"
 },
 "nbformat": 3,
 "nbformat_minor": 0,
 "worksheets": [
  {
   "cells": [
    {
     "cell_type": "markdown",
     "metadata": {},
     "source": [
      "VDS Camera Control\n",
      "===========\n",
      "\n",
      "Instructions\n",
      "------------\n",
      "\n",
      "1. Run the cell below - connect and set up, to make a TCP connection to the camera\n",
      "1. Run the **Procedures and Functions** cell, far down the list, to load all of these procedures\n",
      "1. Choose a command and run it.  \n",
      "I recommend starting with the Smart Move commands, they're reliable and get you to the target.  \n",
      "Then you can play with the nudge commands to get it lined up perfectly.\n",
      "1. When you're finished, please leave the camera on AP1, so Pieter can see what he's doing\n",
      "\n",
      "Links to the [MOXA NPORT](http://10.97.240.17/), and to the SONY IPELA [Configuration page](http://10.97.242.9/) [Streaming link](rtsp://10.97.242.9:554/media/video2) and  [One shot image](http://10.97.242.9/oneshotimage.jpg)"
     ]
    },
    {
     "cell_type": "code",
     "collapsed": false,
     "input": [
      "# Connect and set up.\n",
      "import socket, time, array, numpy\n",
      "Address=1;   currentpos = [0,0,0];\n",
      "cam = socket.socket(socket.AF_INET, socket.SOCK_STREAM);  cam.setblocking(0); cam.settimeout(2.0)\n",
      "cam.connect(('10.97.240.17', 8888));  # moxa TCP-RS485 converter"
     ],
     "language": "python",
     "metadata": {},
     "outputs": [],
     "prompt_number": 153
    },
    {
     "cell_type": "markdown",
     "metadata": {},
     "source": [
      "MeerKAT Tour\n",
      "-----------------"
     ]
    },
    {
     "cell_type": "code",
     "collapsed": false,
     "input": [
      "pos=getPosition();   # retrieve current position\n",
      "tour=[[12,665,600],[12,665,400],[89,654,700],[100,654,400],[253,644,420],[257,655,459],[385,656,400],[277,645,320],[276,646,550],[268,650,940]];\n",
      "tourNames='m063, our first receptor','m063 closeup','KAT7','KAT7 closeup','m024 and m025','HERA','m062','MeerKAT Core closeup','Whole Core','Whole Core wide';\n",
      "\n",
      "#  tour=tour[4:];  tourNames=tourNames[4:]   # short tour leaving out m063 and kat=7\n",
      "\n",
      "print('MeerKAT high elevation camera tour')\n",
      "for n,ptz in enumerate(tour):\n",
      "    smartGoToPositionNoInitial(ptz);\n",
      "    print('%i visiting %s, position %i %i %i' % (n,tourNames[n],ptz[0],ptz[1],ptz[2]))\n",
      "    time.sleep(6);\n",
      "\n",
      "#smartGoToPosition(pos)  # finish the tour returning to start"
     ],
     "language": "python",
     "metadata": {},
     "outputs": [
      {
       "output_type": "stream",
       "stream": "stdout",
       "text": [
        "MeerKAT high elevation camera tour\n",
        "0 visiting m063, our first receptor, position 12 665 600"
       ]
      },
      {
       "output_type": "stream",
       "stream": "stdout",
       "text": [
        "\n",
        "1 visiting m063 closeup, position 12 665 400"
       ]
      },
      {
       "output_type": "stream",
       "stream": "stdout",
       "text": [
        "\n",
        "2 visiting KAT7, position 89 654 700"
       ]
      },
      {
       "output_type": "stream",
       "stream": "stdout",
       "text": [
        "\n",
        "3 visiting KAT7 closeup, position 100 654 400"
       ]
      },
      {
       "output_type": "stream",
       "stream": "stdout",
       "text": [
        "\n",
        "4 visiting m024 and m025, position 253 644 420"
       ]
      },
      {
       "output_type": "stream",
       "stream": "stdout",
       "text": [
        "\n",
        "5 visiting HERA, position 257 655 459"
       ]
      },
      {
       "output_type": "stream",
       "stream": "stdout",
       "text": [
        "\n",
        "6 visiting m062, position 385 656 400"
       ]
      },
      {
       "output_type": "stream",
       "stream": "stdout",
       "text": [
        "\n",
        "7 visiting MeerKAT Core closeup, position 277 645 320"
       ]
      },
      {
       "output_type": "stream",
       "stream": "stdout",
       "text": [
        "\n",
        "8 visiting Whole Core, position 276 646 550"
       ]
      },
      {
       "output_type": "stream",
       "stream": "stdout",
       "text": [
        "\n",
        "9 visiting Whole Core wide, position 268 650 940"
       ]
      },
      {
       "output_type": "stream",
       "stream": "stdout",
       "text": [
        "\n"
       ]
      }
     ],
     "prompt_number": 341
    },
    {
     "cell_type": "markdown",
     "metadata": {},
     "source": [
      "Nudge move commands:\n",
      "----------------\n",
      "These commands issue a **Move**, then wait a short time, then **Stop**.  \n",
      "Edit the `t=` part to change the amount of time, to get different distances."
     ]
    },
    {
     "cell_type": "code",
     "collapsed": false,
     "input": [
      "# Nice move left\n",
      "ptz=getPosition();                   # query and print the current position values\n",
      "t=ptz[2]**2.0/900000.0;\n",
      "print('moving for t=%f s' % t)\n",
      "sendCommand([0x00,0x02,0x00,0x3F],t=t)"
     ],
     "language": "python",
     "metadata": {},
     "outputs": [
      {
       "output_type": "stream",
       "stream": "stdout",
       "text": [
        "moving for t=0.103361 s\n"
       ]
      }
     ],
     "prompt_number": 264
    },
    {
     "cell_type": "code",
     "collapsed": false,
     "input": [
      "# Nice move Right\n",
      "ptz=getPosition();                   # query and print the current position values\n",
      "t=ptz[2]**2.0/900000.0;\n",
      "print('moving for t=%f s' % t)\n",
      "sendCommand([0x00,0x04,0x00,0x3F],t=t)"
     ],
     "language": "python",
     "metadata": {},
     "outputs": [
      {
       "output_type": "stream",
       "stream": "stdout",
       "text": [
        "moving for t=0.184960 s\n"
       ]
      }
     ],
     "prompt_number": 260
    },
    {
     "cell_type": "code",
     "collapsed": false,
     "input": [
      "sendCommand([0x00,0x02,0x00,0x3F],t=3);      #  Left"
     ],
     "language": "python",
     "metadata": {},
     "outputs": [],
     "prompt_number": 300
    },
    {
     "cell_type": "code",
     "collapsed": false,
     "input": [
      "sendCommand([0x00,0x04,0x00,0x3F],t=2);       #  Right"
     ],
     "language": "python",
     "metadata": {},
     "outputs": [],
     "prompt_number": 305
    },
    {
     "cell_type": "code",
     "collapsed": false,
     "input": [
      "sendCommand([0x00,0x10,0x00,0x3F],t=0.2);    #  Up"
     ],
     "language": "python",
     "metadata": {},
     "outputs": [],
     "prompt_number": 338
    },
    {
     "cell_type": "code",
     "collapsed": false,
     "input": [
      "sendCommand([0x00,0x08,0x00,0x3F],t=0.04);    #  Down"
     ],
     "language": "python",
     "metadata": {},
     "outputs": [],
     "prompt_number": 187
    },
    {
     "cell_type": "code",
     "collapsed": false,
     "input": [
      "sendCommand([0x00,0x40,0x00,0x3F],t=2);       #  zoom in"
     ],
     "language": "python",
     "metadata": {},
     "outputs": [],
     "prompt_number": 263
    },
    {
     "cell_type": "code",
     "collapsed": false,
     "input": [
      "sendCommand([0x00,0x20,0x00,0x3F],t=10);       #  zoom out"
     ],
     "language": "python",
     "metadata": {},
     "outputs": [],
     "prompt_number": 242
    },
    {
     "cell_type": "code",
     "collapsed": false,
     "input": [
      "sendCommand([0x00,0x20,0x00,0x3F],t=0);       ####### zoom out all the way, if you're lost"
     ],
     "language": "python",
     "metadata": {},
     "outputs": [],
     "prompt_number": 286
    },
    {
     "cell_type": "code",
     "collapsed": false,
     "input": [
      "sendCommand([0x00,0x80,0x00,0x3F],t=10);       #  focus near"
     ],
     "language": "python",
     "metadata": {},
     "outputs": [],
     "prompt_number": 115
    },
    {
     "cell_type": "code",
     "collapsed": false,
     "input": [
      "sendCommand([0x01,0x00,0x00,0x3F],t=10);       #  focus far"
     ],
     "language": "python",
     "metadata": {},
     "outputs": [],
     "prompt_number": 113
    },
    {
     "cell_type": "code",
     "collapsed": false,
     "input": [
      "sendCommand([0x01,0x00,0x00,0x3F],t=4);       # Move focus to a specified point.   First run all the way to infinity\n",
      "sendCommand([0x00,0x80,0x00,0x3F],t=1.4);     # then nearer by a fixed amount"
     ],
     "language": "python",
     "metadata": {},
     "outputs": [],
     "prompt_number": 86
    },
    {
     "cell_type": "code",
     "collapsed": false,
     "input": [
      "sendCommand([0x01,0x00,0x00,0x3F],t=0.05);       # Jog Focus Far"
     ],
     "language": "python",
     "metadata": {},
     "outputs": [],
     "prompt_number": 76
    },
    {
     "cell_type": "code",
     "collapsed": false,
     "input": [
      "sendCommand([0x00,0x80,0x00,0x3F],t=0.05);     # Jog Focus Near"
     ],
     "language": "python",
     "metadata": {},
     "outputs": [],
     "prompt_number": 75
    },
    {
     "cell_type": "markdown",
     "metadata": {},
     "source": [
      "Automated position-based commmands\n",
      "----------------\n",
      "These cells command the camera to go to a particular position.\n",
      "\n",
      "`getPosition(p=1)` prints the current position - you can use this to find out where you are for creating a new preset."
     ]
    },
    {
     "cell_type": "code",
     "collapsed": false,
     "input": [
      "getPosition(p=1);                   # query and print the current position values"
     ],
     "language": "python",
     "metadata": {},
     "outputs": [
      {
       "output_type": "stream",
       "stream": "stdout",
       "text": [
        "Pan=384  Tilt=639  Zoom=400 \n"
       ]
      }
     ],
     "prompt_number": 339
    },
    {
     "cell_type": "markdown",
     "metadata": {},
     "source": [
      "`smartGoToPosition` moves first to a position up and right of the final position, then down to the final position. This improves repeatability over a simple go-to, which could approach the target from either side. You need to wait for the move to finish, the [*] disappears from the cell number  \n",
      "Here are a range of positions already defined:"
     ]
    },
    {
     "cell_type": "code",
     "collapsed": false,
     "input": [
      "niceGoToPosition([12,662,400])    # AP1 new position  (true bearing 322 deg)"
     ],
     "language": "python",
     "metadata": {},
     "outputs": [],
     "prompt_number": 89
    },
    {
     "cell_type": "code",
     "collapsed": false,
     "input": [
      "smartGoToPosition([88,654,700])    # KAT7 new pos"
     ],
     "language": "python",
     "metadata": {},
     "outputs": [
      {
       "output_type": "stream",
       "stream": "stdout",
       "text": [
        "  oops, didnt make it to initial position\n",
        "Finished! Final position = 92 655 702. Error=5"
       ]
      },
      {
       "output_type": "stream",
       "stream": "stdout",
       "text": [
        "\n"
       ]
      }
     ],
     "prompt_number": 256
    },
    {
     "cell_type": "code",
     "collapsed": false,
     "input": [
      "smartGoToPosition([98,653,280])    # KAT7 rightmost dish only"
     ],
     "language": "python",
     "metadata": {},
     "outputs": [
      {
       "output_type": "stream",
       "stream": "stdout",
       "text": [
        "Finished! Final position = 99 655 262. Error=3\n"
       ]
      }
     ],
     "prompt_number": 209
    },
    {
     "cell_type": "code",
     "collapsed": false,
     "input": [
      "smartGoToPosition([379,653,400])    # AP2 new pos (true bearing 90 deg)"
     ],
     "language": "python",
     "metadata": {},
     "outputs": [
      {
       "output_type": "stream",
       "stream": "stdout",
       "text": [
        "  oops, didnt make it to initial position\n",
        "Finished! Final position = 384 655 401. Error=7"
       ]
      },
      {
       "output_type": "stream",
       "stream": "stdout",
       "text": [
        "\n"
       ]
      }
     ],
     "prompt_number": 322
    },
    {
     "cell_type": "code",
     "collapsed": false,
     "input": [
      "smartGoToPosition([250,644,390])    # AP3 and AP4  new pos"
     ],
     "language": "python",
     "metadata": {},
     "outputs": [
      {
       "output_type": "stream",
       "stream": "stdout",
       "text": [
        "  oops, didnt make it to initial position\n",
        "Finished! Final position = 252 647 390. Error=5"
       ]
      },
      {
       "output_type": "stream",
       "stream": "stdout",
       "text": [
        "\n"
       ]
      }
     ],
     "prompt_number": 340
    },
    {
     "cell_type": "code",
     "collapsed": false,
     "input": [
      "smartGoToPosition([249,644,300])    # AP3 / m024 - too close  (true bearing 43 deg)"
     ],
     "language": "python",
     "metadata": {},
     "outputs": [
      {
       "output_type": "stream",
       "stream": "stdout",
       "text": [
        "  oops, didnt make it to initial position\n",
        "Finished! Final position = 254 646 301. Error=7"
       ]
      },
      {
       "output_type": "stream",
       "stream": "stdout",
       "text": [
        "\n"
       ]
      }
     ],
     "prompt_number": 309
    },
    {
     "cell_type": "code",
     "collapsed": false,
     "input": [
      "smartGoToPosition([251,645,240])    # AP4 / m025 new -too close"
     ],
     "language": "python",
     "metadata": {},
     "outputs": [
      {
       "ename": "KeyboardInterrupt",
       "evalue": "",
       "output_type": "pyerr",
       "traceback": [
        "\u001b[1;31m---------------------------------------------------------------------------\u001b[0m\n\u001b[1;31mKeyboardInterrupt\u001b[0m                         Traceback (most recent call last)",
        "\u001b[1;32m<ipython-input-313-7284e241aec1>\u001b[0m in \u001b[0;36m<module>\u001b[1;34m()\u001b[0m\n\u001b[1;32m----> 1\u001b[1;33m \u001b[0msmartGoToPosition\u001b[0m\u001b[1;33m(\u001b[0m\u001b[1;33m[\u001b[0m\u001b[1;36m251\u001b[0m\u001b[1;33m,\u001b[0m\u001b[1;36m645\u001b[0m\u001b[1;33m,\u001b[0m\u001b[1;36m240\u001b[0m\u001b[1;33m]\u001b[0m\u001b[1;33m)\u001b[0m    \u001b[1;31m# AP4 / m025 new -too close\u001b[0m\u001b[1;33m\u001b[0m\u001b[0m\n\u001b[0m",
        "\u001b[1;32m<ipython-input-312-a37562e0d33a>\u001b[0m in \u001b[0;36msmartGoToPosition\u001b[1;34m(ptz)\u001b[0m\n\u001b[0;32m     32\u001b[0m     \u001b[0merror\u001b[0m \u001b[1;33m=\u001b[0m \u001b[0mnp\u001b[0m\u001b[1;33m.\u001b[0m\u001b[0msum\u001b[0m\u001b[1;33m(\u001b[0m\u001b[0mnp\u001b[0m\u001b[1;33m.\u001b[0m\u001b[0mabs\u001b[0m\u001b[1;33m(\u001b[0m\u001b[0mnp\u001b[0m\u001b[1;33m.\u001b[0m\u001b[0madd\u001b[0m\u001b[1;33m(\u001b[0m\u001b[0minitialPosition\u001b[0m\u001b[1;33m,\u001b[0m\u001b[0mnp\u001b[0m\u001b[1;33m.\u001b[0m\u001b[0mmultiply\u001b[0m\u001b[1;33m(\u001b[0m\u001b[0mcurPos\u001b[0m\u001b[1;33m,\u001b[0m\u001b[1;33m-\u001b[0m\u001b[1;36m1\u001b[0m\u001b[1;33m)\u001b[0m\u001b[1;33m)\u001b[0m\u001b[1;33m)\u001b[0m\u001b[1;33m)\u001b[0m\u001b[1;33m\u001b[0m\u001b[0m\n\u001b[0;32m     33\u001b[0m     \u001b[1;32mwhile\u001b[0m \u001b[1;33m(\u001b[0m\u001b[0merror\u001b[0m\u001b[1;33m>\u001b[0m\u001b[1;36m20\u001b[0m\u001b[1;33m)\u001b[0m\u001b[1;33m&\u001b[0m\u001b[1;33m(\u001b[0m\u001b[0mtimeOut\u001b[0m\u001b[1;33m>\u001b[0m\u001b[1;36m0\u001b[0m\u001b[1;33m)\u001b[0m\u001b[1;33m:\u001b[0m\u001b[1;33m\u001b[0m\u001b[0m\n\u001b[1;32m---> 34\u001b[1;33m         \u001b[0mcurPos\u001b[0m\u001b[1;33m=\u001b[0m\u001b[0mgetPosition\u001b[0m\u001b[1;33m(\u001b[0m\u001b[1;33m)\u001b[0m\u001b[1;33m\u001b[0m\u001b[0m\n\u001b[0m\u001b[0;32m     35\u001b[0m         \u001b[0merror\u001b[0m \u001b[1;33m=\u001b[0m \u001b[0mnp\u001b[0m\u001b[1;33m.\u001b[0m\u001b[0msum\u001b[0m\u001b[1;33m(\u001b[0m\u001b[0mnp\u001b[0m\u001b[1;33m.\u001b[0m\u001b[0mabs\u001b[0m\u001b[1;33m(\u001b[0m\u001b[0mnp\u001b[0m\u001b[1;33m.\u001b[0m\u001b[0madd\u001b[0m\u001b[1;33m(\u001b[0m\u001b[0minitialPosition\u001b[0m\u001b[1;33m,\u001b[0m\u001b[0mnp\u001b[0m\u001b[1;33m.\u001b[0m\u001b[0mmultiply\u001b[0m\u001b[1;33m(\u001b[0m\u001b[0mcurPos\u001b[0m\u001b[1;33m,\u001b[0m\u001b[1;33m-\u001b[0m\u001b[1;36m1\u001b[0m\u001b[1;33m)\u001b[0m\u001b[1;33m)\u001b[0m\u001b[1;33m)\u001b[0m\u001b[1;33m)\u001b[0m\u001b[1;33m\u001b[0m\u001b[0m\n\u001b[0;32m     36\u001b[0m         \u001b[1;31m#print('Try %i, error=%i'%(timeOut,error))\u001b[0m\u001b[1;33m\u001b[0m\u001b[1;33m\u001b[0m\u001b[0m\n",
        "\u001b[1;32m<ipython-input-312-a37562e0d33a>\u001b[0m in \u001b[0;36mgetPosition\u001b[1;34m(p)\u001b[0m\n\u001b[0;32m    147\u001b[0m \u001b[1;33m\u001b[0m\u001b[0m\n\u001b[0;32m    148\u001b[0m \u001b[1;33m\u001b[0m\u001b[0m\n\u001b[1;32m--> 149\u001b[1;33m   \u001b[0mtime\u001b[0m\u001b[1;33m.\u001b[0m\u001b[0msleep\u001b[0m\u001b[1;33m(\u001b[0m\u001b[1;36m0.1\u001b[0m\u001b[1;33m)\u001b[0m\u001b[1;33m\u001b[0m\u001b[0m\n\u001b[0m\u001b[0;32m    150\u001b[0m   \u001b[1;32mif\u001b[0m \u001b[1;33m(\u001b[0m\u001b[0mp\u001b[0m\u001b[1;33m>\u001b[0m\u001b[1;36m0\u001b[0m\u001b[1;33m)\u001b[0m\u001b[1;33m:\u001b[0m\u001b[1;33m\u001b[0m\u001b[0m\n\u001b[0;32m    151\u001b[0m       \u001b[1;32mprint\u001b[0m\u001b[1;33m(\u001b[0m\u001b[1;34m'Pan=%3i  Tilt=%3i  Zoom=%3i '\u001b[0m \u001b[1;33m%\u001b[0m \u001b[1;33m(\u001b[0m\u001b[0mpanpos\u001b[0m\u001b[1;33m,\u001b[0m\u001b[0mtiltpos\u001b[0m\u001b[1;33m,\u001b[0m\u001b[0mzoompos\u001b[0m\u001b[1;33m)\u001b[0m\u001b[1;33m)\u001b[0m\u001b[1;33m\u001b[0m\u001b[0m\n",
        "\u001b[1;31mKeyboardInterrupt\u001b[0m: "
       ]
      }
     ],
     "prompt_number": 313
    },
    {
     "cell_type": "code",
     "collapsed": false,
     "input": [
      "smartGoToPosition([273,644,580])    # Whole core of MK"
     ],
     "language": "python",
     "metadata": {},
     "outputs": [],
     "prompt_number": "*"
    },
    {
     "cell_type": "code",
     "collapsed": false,
     "input": [
      "niceGoToPosition([254,642,310])    # Runway new pos"
     ],
     "language": "python",
     "metadata": {},
     "outputs": [],
     "prompt_number": 20
    },
    {
     "cell_type": "code",
     "collapsed": false,
     "input": [
      "smartGoToPosition([463,647,500])    # Meysdam, I think"
     ],
     "language": "python",
     "metadata": {},
     "outputs": [
      {
       "output_type": "stream",
       "stream": "stdout",
       "text": [
        "  oops, didnt make it to initial position\n",
        "Finished! Final position = 464 648 500. Error=2"
       ]
      },
      {
       "output_type": "stream",
       "stream": "stdout",
       "text": [
        "\n"
       ]
      }
     ],
     "prompt_number": 355
    },
    {
     "cell_type": "code",
     "collapsed": false,
     "input": [
      "smartGoToPosition([254,651,459])    # PAPER / HERA new position"
     ],
     "language": "python",
     "metadata": {},
     "outputs": [
      {
       "output_type": "stream",
       "stream": "stdout",
       "text": [
        "  oops, didnt make it to initial position\n",
        "Finished! Final position = 255 652 -1. Error=2"
       ]
      },
      {
       "output_type": "stream",
       "stream": "stdout",
       "text": [
        "\n"
       ]
      }
     ],
     "prompt_number": 112
    },
    {
     "cell_type": "markdown",
     "metadata": {},
     "source": [
      "**Single move commands**, to change one axis only"
     ]
    },
    {
     "cell_type": "code",
     "collapsed": false,
     "input": [
      "# set pan position\n",
      "panpos = 268;  # AP1 is 125, AP2 is 495 or so\n",
      "sendCommand([0x00,0x4B,panpos/256,panpos%256],t=0);"
     ],
     "language": "python",
     "metadata": {},
     "outputs": [],
     "prompt_number": 143
    },
    {
     "cell_type": "code",
     "collapsed": false,
     "input": [
      "# set tilt position\n",
      "tiltpos = 645;  # 620 (low) to 670.  657 (horizon)\n",
      "sendCommand([0x00,0x4D,tiltpos/256,tiltpos%256],t=0);"
     ],
     "language": "python",
     "metadata": {},
     "outputs": [],
     "prompt_number": 149
    },
    {
     "cell_type": "code",
     "collapsed": false,
     "input": [
      "# set zoom position\n",
      "zoompos = 940;  # roughly 60 to 950, if you go out of range it gets stuck for a while\n",
      "sendCommand([0x00,0x4F,zoompos/256,zoompos%256],t=0);"
     ],
     "language": "python",
     "metadata": {},
     "outputs": [],
     "prompt_number": 142
    },
    {
     "cell_type": "heading",
     "level": 2,
     "metadata": {},
     "source": [
      "Procedures and functions"
     ]
    },
    {
     "cell_type": "code",
     "collapsed": false,
     "input": [
      "# All procedures\n",
      "#[currentPan,currentTilt,currentZoom] = getPosition();\n",
      "\n",
      "\n",
      "# send a command, wait t seconds, and send stop.  t=0 means don't send a stop (move all the way, or for position commands)\n",
      "def sendCommand(cmd,t=0.5):\n",
      "    data=[0xFF,Address,cmd[0],cmd[1],cmd[2],cmd[3]];  data.append(int(sum(data[1:])%256));\n",
      "    cam.send(''.join(chr(i) for i in data));\n",
      "    if (t>0):\n",
      "        time.sleep(t)\n",
      "        data=[0xFF,Address,0x00,0x00,0x00,0x00];  data.append(int(sum(data[1:])%256));\n",
      "        cam.send(''.join(chr(i) for i in data));   # try to get it to stop, reliably\n",
      "        time.sleep(0.01)\n",
      "        cam.send(''.join(chr(i) for i in data));   # try to get it to stop, reliably\n",
      "        \n",
      "       \n",
      "\n",
      "def smartGoToPosition(ptz):\n",
      "    import numpy as np, time\n",
      "    curPos=getPosition()\n",
      "    timeOut=10+abs(ptz[0]-curPos[0])/4;        # timout depends on the amount of panning required - at least 5 counts, possibly up to 40 counts. (two counts per second)\n",
      "\n",
      "    # start by going to the initial position, up and right of the final target\n",
      "    if ptz[0]<400: initialPosition=np.add(ptz,[30,15,50]);     # need to choose a start position based on the position in the array\n",
      "    else: initialPosition=np.add(ptz,[-30,15,50]);\n",
      "        \n",
      "        \n",
      "    goToPosition(initialPosition)\n",
      "\n",
      "    # loop to see if we've arrived\n",
      "    curPos = [0,0,0]\n",
      "    error = np.sum(np.abs(np.add(initialPosition,np.multiply(curPos,-1))))\n",
      "    while (error>20)&(timeOut>0):\n",
      "        curPos=getPosition()\n",
      "        error = np.sum(np.abs(np.add(initialPosition,np.multiply(curPos,-1))))\n",
      "        #print('Try %i, error=%i'%(timeOut,error))\n",
      "        time.sleep(0.5)\n",
      "        timeOut=timeOut-1;\n",
      "    if (error>10): print('  oops, didn''t make it to initial position')\n",
      "    time.sleep(1)\n",
      "\n",
      "    # now move to final position\n",
      "    #print('Moving to final position');\n",
      "    goToPosition(ptz)  # this time we must move even a small amount\n",
      "    time.sleep(4)\n",
      "    curPos=getPosition();\n",
      "    error = np.sum(np.abs(np.add(ptz[0:2],np.multiply(curPos[0:2],-1))))\n",
      "    print('Finished! Final position = %i %i %i. Error=%i' % (curPos[0],curPos[1],curPos[2],error))\n",
      "    \n",
      "\n",
      "\n",
      "def smartGoToPositionNoInitial(ptz):\n",
      "    import numpy as np, time\n",
      "    curPos=getPosition()\n",
      "    timeOut=10+abs(ptz[0]-curPos[0])/4;        # timout depends on the amount of panning required - at least 5 counts, possibly up to 40 counts. (two counts per second)\n",
      "\n",
      "    niceGoToPosition(ptz,jog=1)\n",
      "\n",
      "    # loop to see if we've arrived\n",
      "    curPos = [0,0,0]\n",
      "    error = np.sum(np.abs(np.add(ptz,np.multiply(curPos,-1))))\n",
      "    while (error>25)&(timeOut>0):\n",
      "        curPos=getPosition()\n",
      "        error = np.sum(np.abs(np.add(ptz,np.multiply(curPos,-1))))\n",
      "        time.sleep(0.5)\n",
      "        timeOut=timeOut-1;\n",
      "\n",
      "    \n",
      "\n",
      "    \n",
      "    \n",
      "\n",
      "def niceGoToPosition(ptz,jog=0):\n",
      "    curPos=getPosition();\n",
      "    # simply go to a position, but not if the move is small\n",
      "    if ((jog>0) or (abs(curPos[0]-ptz[0])>4)):\n",
      "        data=[0xFF,Address,0x00,0x4B,ptz[0]/256,ptz[0]%256];  data.append(int(sum(data[1:])%256));\n",
      "        cam.send(''.join(chr(i) for i in data));\n",
      "        time.sleep(0.1)\n",
      "        #print('panning');\n",
      "    if ((jog>0) or (abs(curPos[1]-ptz[1])>4)):\n",
      "        data=[0xFF,Address,0x00,0x4D,ptz[1]/256,ptz[1]%256];  data.append(int(sum(data[1:])%256));\n",
      "        cam.send(''.join(chr(i) for i in data));\n",
      "        time.sleep(0.1)\n",
      "        #print('tilting');\n",
      "    if ((jog>0) or (abs(curPos[2]-ptz[2])>10)):\n",
      "        data=[0xFF,Address,0x00,0x4F,ptz[2]/256,ptz[2]%256];  data.append(int(sum(data[1:])%256));\n",
      "        cam.send(''.join(chr(i) for i in data));\n",
      "        time.sleep(0.1)\n",
      "        #print('zooming')\n",
      "\n",
      "\n",
      "\n",
      "\n",
      "def goToPosition(ptz):\n",
      "    # simply go to a position.\n",
      "    data=[0xFF,Address,0x00,0x4B,ptz[0]/256,ptz[0]%256];  data.append(int(sum(data[1:])%256));\n",
      "    cam.send(''.join(chr(i) for i in data));\n",
      "    time.sleep(0.5)\n",
      "    data=[0xFF,Address,0x00,0x4D,ptz[1]/256,ptz[1]%256];  data.append(int(sum(data[1:])%256));\n",
      "    cam.send(''.join(chr(i) for i in data));\n",
      "    time.sleep(0.5)\n",
      "    data=[0xFF,Address,0x00,0x4F,ptz[2]/256,ptz[2]%256];  data.append(int(sum(data[1:])%256));\n",
      "    cam.send(''.join(chr(i) for i in data));\n",
      "    time.sleep(0.5)\n",
      "    \n",
      "    \n",
      "    \n",
      "def getPosition(p=0):\n",
      "  zoompos=-1\n",
      "  panpos=-1\n",
      "  tiltpos=-1\n",
      "  time.sleep(0.2)\n",
      "  # get all positions\n",
      "  try:\n",
      "    data=[0xFF,Address,0x00,0x55,0x00,0x00]; data.append(int(sum(data[1:])%0xFF));\n",
      "    cam.send(''.join(chr(i) for i in data))\n",
      "    time.sleep(0.1)\n",
      "    reply=cam.recv(100)\n",
      "    if ord(reply[3])==0x5D:\n",
      "      zoompos=ord(reply[4])*256+ord(reply[5])\n",
      "  except:\n",
      "        zoompos=-1     \n",
      "\n",
      "\n",
      "  try:\n",
      "    data=[0xFF,Address,0x00,0x53,0x00,0x00]; data.append(int(sum(data[1:])%0xFF));\n",
      "    cam.send(''.join(chr(i) for i in data))\n",
      "    time.sleep(0.1)\n",
      "    reply=cam.recv(100)\n",
      "    if ord(reply[3])==0x5B:\n",
      "        tiltpos=ord(reply[4])*256+ord(reply[5])\n",
      "  except:\n",
      "        tiltpos=-1   \n",
      "\n",
      "\n",
      "  try:\n",
      "    data=[0xFF,Address,0x00,0x51,0x00,0x00]; data.append(int(sum(data[1:])%0xFF));\n",
      "    cam.send(''.join(chr(i) for i in data))\n",
      "    time.sleep(0.2)\n",
      "    reply=cam.recv(100)\n",
      "    if ord(reply[3])==0x59:\n",
      "      panpos=ord(reply[4])*256+ord(reply[5])\n",
      "  except:\n",
      "      panpos=-1   \n",
      "\n",
      "\n",
      "            \n",
      "  time.sleep(0.1)\n",
      "  if (p>0):\n",
      "      print('Pan=%3i  Tilt=%3i  Zoom=%3i ' % (panpos,tiltpos,zoompos))\n",
      "  else:\n",
      "      currentpos=[panpos,tiltpos,zoompos];\n",
      "      return currentpos\n"
     ],
     "language": "python",
     "metadata": {},
     "outputs": [],
     "prompt_number": 315
    },
    {
     "cell_type": "code",
     "collapsed": false,
     "input": [
      "cam.close()"
     ],
     "language": "python",
     "metadata": {},
     "outputs": [],
     "prompt_number": 152
    },
    {
     "cell_type": "raw",
     "metadata": {},
     "source": [
      "#move backwards and forwards for RFI testing\n",
      "\n",
      "for a in range(10):\n",
      "    sendCommand([0x00,0x04,0x00,0x3F],t=25);   #  Right\n",
      "    sendCommand([0x00,0x10,0x00,0x3F],t=1);    #  down\n",
      "    time.sleep(2);\n",
      "    sendCommand([0x00,0x02,0x00,0x3F],t=25);   # Left\n",
      "    sendCommand([0x00,0x08,0x00,0x3F],t=1);    # up\n",
      "    time.sleep(2);\n",
      "    print(a)"
     ]
    },
    {
     "cell_type": "markdown",
     "metadata": {},
     "source": [
      "Presets\n",
      "-----------\n",
      "Presets seem to include Focus information, and the focus always comes out wrong. Better not to use them!"
     ]
    },
    {
     "cell_type": "raw",
     "metadata": {},
     "source": [
      "preset=56;   \n",
      "sendCommand([0x00,0x70,0x00,preset],t=0);    # go to a preset.  55=AP1. 56=AP2"
     ]
    },
    {
     "cell_type": "raw",
     "metadata": {},
     "source": [
      "################################# set a preset\n",
      "preset=55;\n",
      "sendCommand([0x00,0x03,0x00,preset],t=0);"
     ]
    },
    {
     "cell_type": "markdown",
     "metadata": {},
     "source": [
      "Viewing the image\n",
      "---------------\n",
      "See the image"
     ]
    },
    {
     "cell_type": "code",
     "collapsed": true,
     "input": [
      "# See the image\n",
      "from IPython.display import display, Image\n",
      "Image(url='http://10.97.242.9/oneshotimage.jpg')"
     ],
     "language": "python",
     "metadata": {},
     "outputs": [
      {
       "html": [
        "<img src=\"http://10.97.242.9/oneshotimage.jpg\" />"
       ],
       "output_type": "pyout",
       "prompt_number": 148,
       "text": [
        "<IPython.core.display.Image at 0x3ec1050>"
       ]
      }
     ],
     "prompt_number": 148
    },
    {
     "cell_type": "code",
     "collapsed": false,
     "input": [],
     "language": "python",
     "metadata": {},
     "outputs": []
    }
   ],
   "metadata": {}
  }
 ]
}