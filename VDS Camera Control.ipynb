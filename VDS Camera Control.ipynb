{
 "metadata": {
  "name": "VDS Camera Control"
 },
 "nbformat": 3,
 "nbformat_minor": 0,
 "worksheets": [
  {
   "cells": [
    {
     "cell_type": "markdown",
     "metadata": {},
     "source": [
      "VDS Camera Control\n",
      "===========\n",
      "\n",
      "Instructions\n",
      "------------\n",
      "\n",
      "1. Run the cell below - connect and set up, to make a TCP connection to the camera\n",
      "1. Run the **Procedures and Functions** cell, far down the list, to load all of these procedures\n",
      "1. Choose a command and run it.  \n",
      "I recommend starting with the Smart Move commands, they're reliable and get you to the target.  \n",
      "Then you can play with the nudge commands to get it lined up perfectly.\n",
      "1. When you're finished, please leave the camera on AP1, so Pieter can see what he's doing\n",
      "\n",
      "Links to the [MOXA NPORT](http://10.97.240.17/), and to the SONY IPELA [Configuration page](http://10.97.242.9/) [Streaming link](rtsp://10.97.242.9:554/media/video2) and  [One shot image](http://10.97.242.9/oneshotimage.jpg)"
     ]
    },
    {
     "cell_type": "code",
     "collapsed": false,
     "input": [
      "# Connect and set up.\n",
      "import socket, time, array, numpy\n",
      "Address=1;   currentpos = [0,0,0];\n",
      "cam = socket.socket(socket.AF_INET, socket.SOCK_STREAM);  cam.setblocking(0); cam.settimeout(2.0)\n",
      "cam.connect(('10.97.240.17', 8888));  # moxa TCP-RS485 converter"
     ],
     "language": "python",
     "metadata": {},
     "outputs": [],
     "prompt_number": 287
    },
    {
     "cell_type": "markdown",
     "metadata": {},
     "source": [
      "Nudge move commands:\n",
      "----------------\n",
      "These commands issue a **Move**, then wait a short time, then **Stop**.  \n",
      "Edit the `t=` part to change the amount of time, to get different distances."
     ]
    },
    {
     "cell_type": "code",
     "collapsed": false,
     "input": [
      "sendCommand([0x00,0x02,0x00,0x3F],t=0.1);      #  Left"
     ],
     "language": "python",
     "metadata": {},
     "outputs": [],
     "prompt_number": 319
    },
    {
     "cell_type": "code",
     "collapsed": false,
     "input": [
      "sendCommand([0x00,0x04,0x00,0x3F],t=0.05);       #  Right"
     ],
     "language": "python",
     "metadata": {},
     "outputs": [],
     "prompt_number": 131
    },
    {
     "cell_type": "code",
     "collapsed": false,
     "input": [
      "sendCommand([0x00,0x08,0x00,0x3F],t=0.05);    #  Up"
     ],
     "language": "python",
     "metadata": {},
     "outputs": [],
     "prompt_number": 331
    },
    {
     "cell_type": "code",
     "collapsed": false,
     "input": [
      "sendCommand([0x00,0x10,0x00,0x3F],t=0.05);    #  Down"
     ],
     "language": "python",
     "metadata": {},
     "outputs": [],
     "prompt_number": 326
    },
    {
     "cell_type": "code",
     "collapsed": false,
     "input": [
      "sendCommand([0x00,0x40,0x00,0x3F],t=2);       #  zoom in"
     ],
     "language": "python",
     "metadata": {},
     "outputs": [],
     "prompt_number": 329
    },
    {
     "cell_type": "code",
     "collapsed": false,
     "input": [
      "sendCommand([0x00,0x20,0x00,0x3F],t=1);       #  zoom out"
     ],
     "language": "python",
     "metadata": {},
     "outputs": [],
     "prompt_number": 330
    },
    {
     "cell_type": "code",
     "collapsed": false,
     "input": [
      "sendCommand([0x00,0x20,0x00,0x3F],t=0);       ####### zoom out all the way, if you're lost"
     ],
     "language": "python",
     "metadata": {},
     "outputs": [],
     "prompt_number": 286
    },
    {
     "cell_type": "code",
     "collapsed": false,
     "input": [
      "sendCommand([0x00,0x80,0x00,0x3F],t=0.5);       #  focus near"
     ],
     "language": "python",
     "metadata": {},
     "outputs": [],
     "prompt_number": 115
    },
    {
     "cell_type": "code",
     "collapsed": false,
     "input": [
      "sendCommand([0x01,0x00,0x00,0x3F],t=0.5);       #  focus far"
     ],
     "language": "python",
     "metadata": {},
     "outputs": [],
     "prompt_number": 113
    },
    {
     "cell_type": "code",
     "collapsed": false,
     "input": [
      "sendCommand([0x01,0x00,0x00,0x3F],t=10);      # Move focus to a specified point\n",
      "sendCommand([0x00,0x80,0x00,0x3F],t=1.8);     # First run all the way to infinity, then nearer by a fixed amount"
     ],
     "language": "python",
     "metadata": {},
     "outputs": [],
     "prompt_number": 289
    },
    {
     "cell_type": "markdown",
     "metadata": {},
     "source": [
      "Automated position-based commmands\n",
      "----------------\n",
      "These cells command the camera to go to a particular position.\n",
      "\n",
      "`getPosition(p=1)` prints the current position - you can use this to find out where you are for creating a new preset."
     ]
    },
    {
     "cell_type": "code",
     "collapsed": false,
     "input": [
      "getPosition(p=1);                   # query and print the current position values"
     ],
     "language": "python",
     "metadata": {},
     "outputs": [
      {
       "output_type": "stream",
       "stream": "stdout",
       "text": [
        "Pan=364  Tilt=646  Zoom=352 \n"
       ]
      }
     ],
     "prompt_number": 347
    },
    {
     "cell_type": "markdown",
     "metadata": {},
     "source": [
      "`smartGoToPosition` moves first to a position up and right of the final position, then down to the final position. This improves repeatability over a simple go-to, which could approach the target from either side. You need to wait for the move to finish, the [*] disappears from the cell number  \n",
      "Here are a range of positions already defined:"
     ]
    },
    {
     "cell_type": "code",
     "collapsed": false,
     "input": [
      "smartGoToPosition([122,629,520])    # AP1;"
     ],
     "language": "python",
     "metadata": {},
     "outputs": [
      {
       "output_type": "stream",
       "stream": "stdout",
       "text": [
        "Finished! Final position = 126 630 521. Error=5\n"
       ]
      }
     ],
     "prompt_number": 294
    },
    {
     "cell_type": "code",
     "collapsed": false,
     "input": [
      "smartGoToPosition([198,636,775])    # KAT7;"
     ],
     "language": "python",
     "metadata": {},
     "outputs": [
      {
       "output_type": "stream",
       "stream": "stdout",
       "text": [
        "Finished! Final position = 199 638 776. Error=3\n"
       ]
      }
     ],
     "prompt_number": 293
    },
    {
     "cell_type": "code",
     "collapsed": false,
     "input": [
      "smartGoToPosition([491,636,393])    # AP2"
     ],
     "language": "python",
     "metadata": {},
     "outputs": [
      {
       "output_type": "stream",
       "stream": "stdout",
       "text": [
        "  oops, didnt make it to initial position\n",
        "Finished! Final position = 494 639 395. Error=6"
       ]
      },
      {
       "output_type": "stream",
       "stream": "stdout",
       "text": [
        "\n"
       ]
      }
     ],
     "prompt_number": 295
    },
    {
     "cell_type": "code",
     "collapsed": false,
     "input": [
      "smartGoToPosition([360,643,400])    # Core antennas AP3 AP4"
     ],
     "language": "python",
     "metadata": {},
     "outputs": [
      {
       "output_type": "stream",
       "stream": "stdout",
       "text": [
        "  oops, didnt make it to initial position\n",
        "Finished! Final position = 364 646 403. Error=7"
       ]
      },
      {
       "output_type": "stream",
       "stream": "stdout",
       "text": [
        "\n"
       ]
      }
     ],
     "prompt_number": 357
    },
    {
     "cell_type": "code",
     "collapsed": false,
     "input": [
      "smartGoToPosition([361,646,460])    # Runway"
     ],
     "language": "python",
     "metadata": {},
     "outputs": [
      {
       "output_type": "stream",
       "stream": "stdout",
       "text": [
        "Finished! Final position = 366 647 462. Error=6\n"
       ]
      }
     ],
     "prompt_number": 75
    },
    {
     "cell_type": "code",
     "collapsed": false,
     "input": [
      "smartGoToPosition([463,647,500])    # Meysdam, I think"
     ],
     "language": "python",
     "metadata": {},
     "outputs": [
      {
       "output_type": "stream",
       "stream": "stdout",
       "text": [
        "  oops, didnt make it to initial position\n",
        "Finished! Final position = 464 648 500. Error=2"
       ]
      },
      {
       "output_type": "stream",
       "stream": "stdout",
       "text": [
        "\n"
       ]
      }
     ],
     "prompt_number": 355
    },
    {
     "cell_type": "code",
     "collapsed": false,
     "input": [
      "smartGoToPosition([368,638,550])    # PAPER / HERA"
     ],
     "language": "python",
     "metadata": {},
     "outputs": [
      {
       "output_type": "stream",
       "stream": "stdout",
       "text": [
        "  oops, didnt make it to initial position\n",
        "Finished! Final position = 369 639 552. Error=2"
       ]
      },
      {
       "output_type": "stream",
       "stream": "stdout",
       "text": [
        "\n"
       ]
      }
     ],
     "prompt_number": 312
    },
    {
     "cell_type": "code",
     "collapsed": false,
     "input": [
      "smartGoToPosition([460,647,303])    # Bright reflection from the GD Satcom construction camp, at about midday. Good for seeing the rainbow diffraction"
     ],
     "language": "python",
     "metadata": {},
     "outputs": [
      {
       "output_type": "stream",
       "stream": "stdout",
       "text": [
        "Finished! Final position = 463 652 306. Error=8\n"
       ]
      }
     ],
     "prompt_number": 356
    },
    {
     "cell_type": "markdown",
     "metadata": {},
     "source": [
      "**Single move commands**, to change one axis only"
     ]
    },
    {
     "cell_type": "code",
     "collapsed": false,
     "input": [
      "# set pan position\n",
      "panpos = 493;  # AP1 is 125, AP2 is 495 or so\n",
      "sendCommand([0x00,0x4B,panpos/256,panpos%256],t=0);"
     ],
     "language": "python",
     "metadata": {},
     "outputs": [],
     "prompt_number": 241
    },
    {
     "cell_type": "code",
     "collapsed": false,
     "input": [
      "# set tilt position\n",
      "tiltpos = 640;  # 620 (low) to 670.  657 (horizon)\n",
      "sendCommand([0x00,0x4D,tiltpos/256,tiltpos%256],t=0);"
     ],
     "language": "python",
     "metadata": {},
     "outputs": [],
     "prompt_number": 243
    },
    {
     "cell_type": "code",
     "collapsed": false,
     "input": [
      "# set zoom position\n",
      "zoompos = 500;  # roughly 60 to 950, if you go out of range it gets stuck for a while\n",
      "sendCommand([0x00,0x4F,zoompos/256,zoompos%256],t=0);"
     ],
     "language": "python",
     "metadata": {},
     "outputs": [],
     "prompt_number": 224
    },
    {
     "cell_type": "heading",
     "level": 2,
     "metadata": {},
     "source": [
      "Procedures and functions"
     ]
    },
    {
     "cell_type": "code",
     "collapsed": false,
     "input": [
      "# All procedures\n",
      "#[currentPan,currentTilt,currentZoom] = getPosition();\n",
      "\n",
      "\n",
      "# send a command, wait t seconds, and send stop.  t=0 means don't send a stop (move all the way, or for position commands)\n",
      "def sendCommand(cmd,t=0.5):\n",
      "    data=[0xFF,Address,cmd[0],cmd[1],cmd[2],cmd[3]];  data.append(int(sum(data[1:])%256));\n",
      "    cam.send(''.join(chr(i) for i in data));\n",
      "    if (t>0):\n",
      "        time.sleep(t)\n",
      "        data=[0xFF,Address,0x00,0x00,0x00,0x00];  data.append(int(sum(data[1:])%256));\n",
      "        cam.send(''.join(chr(i) for i in data));\n",
      "\n",
      "        \n",
      "       \n",
      "\n",
      "def smartGoToPosition(ptz):\n",
      "    import numpy as np, time\n",
      "    curPos=getPosition()\n",
      "    timeOut=10+abs(ptz[0]-curPos[0])/4;        # timout depends on the amount of panning required - at least 5 counts, possibly up to 40 counts. (two counts per second)\n",
      "\n",
      "    # start by going to the initial position, up and right of the final target\n",
      "    initialPosition=np.add(ptz,[20,10,100])\n",
      "    niceGoToPosition(initialPosition)\n",
      "\n",
      "    # loop to see if we've arrived\n",
      "    curPos = [0,0,0]\n",
      "    error = np.sum(np.abs(np.add(initialPosition,np.multiply(curPos,-1))))\n",
      "    while (error>20)&(timeOut>0):\n",
      "        curPos=getPosition()\n",
      "        error = np.sum(np.abs(np.add(initialPosition,np.multiply(curPos,-1))))\n",
      "        #print('Try %i, error=%i'%(timeOut,error))\n",
      "        time.sleep(0.5)\n",
      "        timeOut=timeOut-1;\n",
      "    if (error>10): print('  oops, didn''t make it to initial position')\n",
      "    time.sleep(1)\n",
      "\n",
      "    # now move to final position\n",
      "    #print('Moving to final position');\n",
      "    niceGoToPosition(ptz,jog=1)  # this time we must move even a small amount\n",
      "    time.sleep(2)\n",
      "    curPos=getPosition();\n",
      "    error = np.sum(np.abs(np.add(ptz[0:2],np.multiply(curPos[0:2],-1))))\n",
      "    print('Finished! Final position = %i %i %i. Error=%i' % (curPos[0],curPos[1],curPos[2],error))\n",
      "    \n",
      "\n",
      "\n",
      "\n",
      "def niceGoToPosition(ptz,jog=0):\n",
      "    curPos=getPosition();\n",
      "    # simply go to a position, but not if the move is small\n",
      "    if ((jog>0) or (abs(curPos[0]-ptz[0])>4)):\n",
      "        data=[0xFF,Address,0x00,0x4B,ptz[0]/256,ptz[0]%256];  data.append(int(sum(data[1:])%256));\n",
      "        cam.send(''.join(chr(i) for i in data));\n",
      "        time.sleep(0.1)\n",
      "        #print('panning');\n",
      "    if ((jog>0) or (abs(curPos[1]-ptz[1])>4)):\n",
      "        data=[0xFF,Address,0x00,0x4D,ptz[1]/256,ptz[1]%256];  data.append(int(sum(data[1:])%256));\n",
      "        cam.send(''.join(chr(i) for i in data));\n",
      "        time.sleep(0.1)\n",
      "        #print('tilting');\n",
      "    if ((jog>0) or (abs(curPos[2]-ptz[2])>10)):\n",
      "        data=[0xFF,Address,0x00,0x4F,ptz[2]/256,ptz[2]%256];  data.append(int(sum(data[1:])%256));\n",
      "        cam.send(''.join(chr(i) for i in data));\n",
      "        time.sleep(0.1)\n",
      "        #print('zooming')\n",
      "\n",
      "\n",
      "\n",
      "\n",
      "def goToPosition(ptz):\n",
      "    # simply go to a position.\n",
      "    data=[0xFF,Address,0x00,0x4B,ptz[0]/256,ptz[0]%256];  data.append(int(sum(data[1:])%256));\n",
      "    cam.send(''.join(chr(i) for i in data));\n",
      "    time.sleep(0.5)\n",
      "    data=[0xFF,Address,0x00,0x4D,ptz[1]/256,ptz[1]%256];  data.append(int(sum(data[1:])%256));\n",
      "    cam.send(''.join(chr(i) for i in data));\n",
      "    time.sleep(0.5)\n",
      "    data=[0xFF,Address,0x00,0x4F,ptz[2]/256,ptz[2]%256];  data.append(int(sum(data[1:])%256));\n",
      "    cam.send(''.join(chr(i) for i in data));\n",
      "    time.sleep(0.5)\n",
      "    \n",
      "    \n",
      "    \n",
      "def getPosition(p=0):\n",
      "  zoompos=-1;\n",
      "  panpos=-1;\n",
      "  tiltpos=-1;\n",
      "  # get all positions\n",
      "  data=[0xFF,Address,0x00,0x55,0x00,0x00]; data.append(int(sum(data[1:])%0xFF));\n",
      "  cam.send(''.join(chr(i) for i in data))\n",
      "  time.sleep(0.1)\n",
      "  reply=cam.recv(100)\n",
      "  if ord(reply[3])==0x5D:\n",
      "      zoompos=ord(reply[4])*256+ord(reply[5])\n",
      "\n",
      "  data=[0xFF,Address,0x00,0x53,0x00,0x00]; data.append(int(sum(data[1:])%0xFF));\n",
      "  cam.send(''.join(chr(i) for i in data))\n",
      "  time.sleep(0.1)\n",
      "  reply=cam.recv(100)\n",
      "  if ord(reply[3])==0x5B:\n",
      "      tiltpos=ord(reply[4])*256+ord(reply[5])\n",
      "\n",
      "  data=[0xFF,Address,0x00,0x51,0x00,0x00]; data.append(int(sum(data[1:])%0xFF));\n",
      "  cam.send(''.join(chr(i) for i in data))\n",
      "  time.sleep(0.1)\n",
      "  reply=cam.recv(100)\n",
      "  if ord(reply[3])==0x59:\n",
      "      panpos=ord(reply[4])*256+ord(reply[5])\n",
      "\n",
      "  time.sleep(0.1)\n",
      "  if (p>0):\n",
      "      print('Pan=%3i  Tilt=%3i  Zoom=%3i ' % (panpos,tiltpos,zoompos))\n",
      "  else:\n",
      "      currentpos=[panpos,tiltpos,zoompos];\n",
      "      return currentpos\n"
     ],
     "language": "python",
     "metadata": {},
     "outputs": [],
     "prompt_number": 66
    },
    {
     "cell_type": "raw",
     "metadata": {},
     "source": [
      "#move backwards and forwards for RFI testing\n",
      "\n",
      "for a in range(10):\n",
      "    sendCommand([0x00,0x04,0x00,0x3F],t=25);   #  Right\n",
      "    sendCommand([0x00,0x10,0x00,0x3F],t=1);    #  down\n",
      "    time.sleep(2);\n",
      "    sendCommand([0x00,0x02,0x00,0x3F],t=25);   # Left\n",
      "    sendCommand([0x00,0x08,0x00,0x3F],t=1);    # up\n",
      "    time.sleep(2);\n",
      "    print(a)"
     ]
    },
    {
     "cell_type": "markdown",
     "metadata": {},
     "source": [
      "Presets\n",
      "-----------\n",
      "Presets seem to include Focus information, and the focus always comes out wrong. Better not to use them!"
     ]
    },
    {
     "cell_type": "raw",
     "metadata": {},
     "source": [
      "preset=56;   \n",
      "sendCommand([0x00,0x70,0x00,preset],t=0);    # go to a preset.  55=AP1. 56=AP2"
     ]
    },
    {
     "cell_type": "raw",
     "metadata": {},
     "source": [
      "################################# set a preset\n",
      "preset=55;\n",
      "sendCommand([0x00,0x03,0x00,preset],t=0);"
     ]
    },
    {
     "cell_type": "markdown",
     "metadata": {},
     "source": [
      "Viewing the image\n",
      "---------------\n",
      "See the image"
     ]
    },
    {
     "cell_type": "code",
     "collapsed": false,
     "input": [
      "# See the image\n",
      "from IPython.display import display, Image\n",
      "Image(url='http://10.97.242.9/oneshotimage.jpg')"
     ],
     "language": "python",
     "metadata": {},
     "outputs": [
      {
       "html": [
        "<img src=\"http://10.97.242.9/oneshotimage.jpg\" />"
       ],
       "output_type": "pyout",
       "prompt_number": 354,
       "text": [
        "<IPython.core.display.Image at 0x7fe2e8369e50>"
       ]
      }
     ],
     "prompt_number": 354
    }
   ],
   "metadata": {}
  }
 ]
}