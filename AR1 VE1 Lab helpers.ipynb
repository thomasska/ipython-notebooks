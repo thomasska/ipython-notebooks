{
 "metadata": {
  "name": "AR1 VE1 Lab helpers"
 },
 "nbformat": 3,
 "nbformat_minor": 0,
 "worksheets": [
  {
   "cells": [
    {
     "cell_type": "code",
     "collapsed": false,
     "input": [
      "# useful cell to produce frequency stepping instructions for a long every-channel test\n",
      "chStart = 0;\n",
      "chStop = 4095.001;\n",
      "chSteps = 1;\n",
      "\n",
      "print(\"use this string:     --siggen-freq='%10.6f,%10.6f,%9.6f'\" % ( (4096-chStart)*856.0/4096.0, (4096-chStop)*856.0/4096.0, -chSteps*856.0/4096.0) );\n",
      "numSteps = (chStop-chStart)/chSteps + 1;\n",
      "print(\"total of %f steps, which will take about %i minutes\" % ( numSteps, 5*numSteps/60 ) )"
     ],
     "language": "python",
     "metadata": {},
     "outputs": [
      {
       "output_type": "stream",
       "stream": "stdout",
       "text": [
        "use this string:     --siggen-freq='856.000000,  0.208775,-0.208984'\n",
        "total of 4096.001000 steps, which will take about 341 minutes\n"
       ]
      }
     ],
     "prompt_number": 1
    },
    {
     "cell_type": "code",
     "collapsed": false,
     "input": [
      "# useful cell to produce frequency stepping instructions for TP1.1.3 test2\n",
      "chStart = 99;\n",
      "chStop = 3999.05;\n",
      "chSteps = 13;\n",
      "\n",
      "print(\"use this string:     --siggen-freq='%10.6f,%10.6f,%9.6f'\" % ( (4096-chStart)*856.0/4096.0, (4096-chStop)*856.0/4096.0, -chSteps*856.0/4096.0) );\n",
      "numSteps = (chStop-chStart)/chSteps + 1;\n",
      "print(\"total of %f steps, which will take about %i minutes\" % ( numSteps, 5*numSteps/60 ) )"
     ],
     "language": "python",
     "metadata": {},
     "outputs": [
      {
       "output_type": "stream",
       "stream": "stdout",
       "text": [
        "use this string:     --siggen-freq='835.310547, 20.261035,-2.716797'\n",
        "total of 301.003846 steps, which will take about 25 minutes\n"
       ]
      }
     ],
     "prompt_number": 2
    },
    {
     "cell_type": "code",
     "collapsed": false,
     "input": [
      "# useful cell to produce frequency stepping instructions for TP1.1.3 test4\n",
      "chStart = 1360;\n",
      "chStop = 1361.51;\n",
      "chSteps = 0.5;\n",
      "\n",
      "print(\"use this string:     --siggen-freq='%10.6f,%10.6f,%9.6f'\" % ( (4096-chStart)*856.0/4096.0, (4096-chStop)*856.0/4096.0, -chSteps*856.0/4096.0) );\n",
      "numSteps = (chStop-chStart)/chSteps + 1;\n",
      "print(\"total of %f steps, which will take about %i minutes\" % ( numSteps, 5*numSteps/60 ) )"
     ],
     "language": "python",
     "metadata": {},
     "outputs": [
      {
       "output_type": "stream",
       "stream": "stdout",
       "text": [
        "use this string:     --siggen-freq='571.781250,571.465684,-0.104492'\n",
        "total of 4.020000 steps, which will take about 0 minutes\n"
       ]
      }
     ],
     "prompt_number": 3
    },
    {
     "cell_type": "code",
     "collapsed": false,
     "input": [
      "# useful cell to produce frequency stepping instructions for TP1.1.4\n",
      "chStart = 300;\n",
      "chStop = 3600.1;\n",
      "chSteps = (3600-300)/12;\n",
      "\n",
      "print(\"use this string:     --siggen-freq='%10.6f,%10.6f,%9.6f'\" % ( (4096-chStart)*856.0/4096.0, (4096-chStop)*856.0/4096.0, -chSteps*856.0/4096.0) );\n",
      "numSteps = (chStop-chStart)/chSteps + 1;\n",
      "print(\"total of %f steps, which will take about %i minutes\" % ( numSteps, 5*numSteps/60 ) )"
     ],
     "language": "python",
     "metadata": {},
     "outputs": [
      {
       "output_type": "stream",
       "stream": "stdout",
       "text": [
        "use this string:     --siggen-freq='793.304688,103.635352,-57.470703'\n",
        "total of 13.000364 steps, which will take about 1 minutes\n"
       ]
      }
     ],
     "prompt_number": 4
    }
   ],
   "metadata": {}
  }
 ]
}