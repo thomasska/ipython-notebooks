{
 "metadata": {
  "name": "Wifi Survey"
 },
 "nbformat": 3,
 "nbformat_minor": 0,
 "worksheets": [
  {
   "cells": [
    {
     "cell_type": "code",
     "collapsed": false,
     "input": [
      "# set up\n",
      "import csv\n",
      "import numpy as np\n",
      "import matplotlib\n",
      "import matplotlib.gridspec as gridspec\n",
      "chosendir='/var/kat/archive/data/RTS/telescope_products/2014/12/03'\n",
      "ch=460;\n",
      "chosenvis=1;\n",
      "\n",
      "# load and plot\n",
      "D=!ls $chosendir;\n",
      "numFiles=shape(D)[0];\n",
      "numFiles=min(99,numFiles);\n",
      "\n",
      "print 'Loading and plotting all ',numFiles,' files in ',chosendir\n",
      "fig, axes = plt.subplots(nrows=2, ncols=1,figsize=(14,12));\n",
      "\n",
      "for a in range(numFiles):\n",
      "    d=D[a]\n",
      "    print '  Loading file ',a,' filename ',d\n",
      "    A=katdal.open(chosendir + '/' + d);\n",
      "    numDumps=shape(A.timestamps)[0];\n",
      "    print '    size=',numDumps,' Freq=',A.channel_freqs[ch]/1e6;"
     ],
     "language": "python",
     "metadata": {},
     "outputs": []
    }
   ],
   "metadata": {}
  }
 ]
}