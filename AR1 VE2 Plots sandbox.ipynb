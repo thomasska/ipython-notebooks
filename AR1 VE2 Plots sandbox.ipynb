{
 "metadata": {
  "name": "AR1 VE2 Plots sandbox"
 },
 "nbformat": 3,
 "nbformat_minor": 0,
 "worksheets": [
  {
   "cells": [
    {
     "cell_type": "code",
     "collapsed": false,
     "input": [
      "Plot my first scan on site\n",
      "=============================="
     ],
     "language": "python",
     "metadata": {},
     "outputs": []
    },
    {
     "cell_type": "code",
     "collapsed": false,
     "input": [
      "import katdal, h5py, matplotlib, numpy\n",
      "fn='/var/kat/archive/data/MeerKATAR1/telescope_products/2015/11/27/1448622108.h5';\n",
      "\n",
      "try:\n",
      "    D = katdal.open(fn)\n",
      "    f = h5py.File(fn,'r')  \n",
      "except Exception as err_msg: raise SystemExit('An error has occured:\\n%s' % err_msg)\n",
      "fftshift=hex(np.int(f.file['TelescopeState'].attrs['cbf_fft_shift']));\n",
      "corrgain=int(f.file['TelescopeState'].attrs['cbf_eq_coef_m024v'].split(' ')[0].split('[')[2]);\n",
      "\n",
      "print('Loaded File: %s, ID: %s,  Desc: %s.   FFT shift was %s.  Requantiser gain was %i' % (fn[-13:-3],D.experiment_id,D.description,fftshift,corrgain))\n"
     ],
     "language": "python",
     "metadata": {},
     "outputs": [
      {
       "output_type": "stream",
       "stream": "stderr",
       "text": [
        "WARNING:katdal.h5datav3:Irregular timestamps detected in file '/var/kat/archive/data/MeerKATAR1/telescope_products/2015/11/27/1448622108.h5': expected 325.000 dumps based on dump period and start/end times, got 163 instead\n"
       ]
      },
      {
       "output_type": "stream",
       "stream": "stdout",
       "text": [
        "Loaded File: 1448622108, ID: 20151127-0004,  Desc: Big 360 degree spin on m024 on site.   FFT shift was 0x1ff.  Requantiser gain was 200\n"
       ]
      }
     ],
     "prompt_number": 21
    },
    {
     "cell_type": "code",
     "collapsed": false,
     "input": [
      "# autocorrelations\n",
      "D.select()\n",
      "D.select(corrprods=[0,1]);\n",
      "D.select(dumps=15);\n",
      "figure(figsize=(12,2))\n",
      "plot(10*log10(abs(squeeze(D.vis[:,:,0]))),label='hh')\n",
      "plot(10*log10(abs(squeeze(D.vis[:,:,1]))),label='vv')\n",
      "title('Autocorrelation baselines of %s over channel at t=%i' % (D.experiment_id,t)); xlabel('Channel');  ylabel('Correlator power, dBarbitrary'); xlim([0,4095]);  legend(loc=0);\n",
      "\n",
      "ch=1360;\n",
      "figure(figsize=(12,2))\n",
      "D.select(reset='T',channels=414);\n",
      "plot(D.az,10*log10(abs(squeeze(D.vis[:,:,0]))),label='hh')\n",
      "plot(D.az,10*log10(abs(squeeze(D.vis[:,:,1]))),label='vv')\n",
      "title('Autocorrelation baselines of %s over time at freq=%f MHz'% (D.experiment_id,D.channel_freqs[:]/1.0e6)); xlabel('Azimuth');  ylabel('Correlator power, dBarbitrary');  legend(loc=0);\n",
      "\n",
      "D.select()\n",
      "D.select(corrprods=[0]);\n",
      "print(shape(D.vis))\n",
      "figure(figsize=(12,6))\n",
      "pcolor(10*log10(squeeze(np.abs(D.vis))))\n",
      "\n",
      "\n"
     ],
     "language": "python",
     "metadata": {},
     "outputs": [],
     "prompt_number": "*"
    },
    {
     "cell_type": "code",
     "collapsed": false,
     "input": [],
     "language": "python",
     "metadata": {},
     "outputs": []
    }
   ],
   "metadata": {}
  }
 ]
}