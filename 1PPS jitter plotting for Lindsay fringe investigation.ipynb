{
 "metadata": {
  "name": "1PPS jitter plotting for Lindsay fringe investigation"
 },
 "nbformat": 3,
 "nbformat_minor": 0,
 "worksheets": [
  {
   "cells": [
    {
     "cell_type": "markdown",
     "metadata": {},
     "source": [
      "1PPS ticks timing in lab and on site\n",
      "============\n",
      "Feb 2016 temp notebook for investigations.\n",
      "\n",
      "Additional measurements in March"
     ]
    },
    {
     "cell_type": "markdown",
     "metadata": {},
     "source": [
      "Gather some data from digitisers directly\n",
      "---------------------"
     ]
    },
    {
     "cell_type": "code",
     "collapsed": true,
     "input": [
      "import time;\n",
      "\n",
      "#allpps7=[]\n",
      "\n",
      "for a in range(120*4):\n",
      "    pps=[]\n",
      "    for rc in [101,63,62,24,25,31,34]:\n",
      "        #if rc==24 or rc==25 : temp=digitiserCommand('sensor-value x-band.deng.pps.ticks | grep nominal',receptor=rc);\n",
      "        temp=digitiserCommand('sensor-value l-band.deng.pps.ticks | grep nominal',receptor=rc);\n",
      "        #print(temp)\n",
      "        if temp[0]==0:\n",
      "            temp=int(temp[1][-9:]);\n",
      "            pps.extend([temp])\n",
      "        else:\n",
      "             pps.extend([-1]);\n",
      "        time.sleep(0.25)\n",
      "    #if min(pps)>100:                # discard the row if there was an error\n",
      "    allpps7.append(pps)\n",
      "    print('test %i,  ppsticks=%i %i %i %i %i %i %i' % (a,pps[0],pps[1],pps[2],pps[3],pps[4],pps[5],pps[6]) )\n",
      "    time.sleep(30)\n"
     ],
     "language": "python",
     "metadata": {},
     "outputs": [
      {
       "output_type": "stream",
       "stream": "stdout",
       "text": [
        "test 0,  ppsticks=214000010 213999999 213999998 213999999 213999996 214000008 214000000\n",
        "test 1,  ppsticks=214000002 213999999 213999999 213999999 213999999 213999995 214000000"
       ]
      },
      {
       "output_type": "stream",
       "stream": "stdout",
       "text": [
        "\n",
        "test 2,  ppsticks=213999994 214000007 214000000 213999999 213999999 213999999 213999998"
       ]
      },
      {
       "output_type": "stream",
       "stream": "stdout",
       "text": [
        "\n",
        "test 3,  ppsticks=214000006 213999996 214000000 213999999 213999999 213999999 213999999"
       ]
      },
      {
       "output_type": "stream",
       "stream": "stdout",
       "text": [
        "\n",
        "test 4,  ppsticks=213999986 213999999 214000000 213999999 213999999 214000000 213999998"
       ]
      },
      {
       "output_type": "stream",
       "stream": "stdout",
       "text": [
        "\n",
        "test 5,  ppsticks=214000001 213999998 213999997 213999999 213999999 214000001 213999997"
       ]
      },
      {
       "output_type": "stream",
       "stream": "stdout",
       "text": [
        "\n",
        "test 6,  ppsticks=213999992 213999998 213999998 213999998 214000001 214000002 213999998"
       ]
      },
      {
       "output_type": "stream",
       "stream": "stdout",
       "text": [
        "\n",
        "test 7,  ppsticks=214000010 213999997 213999998 213999999 214000002 213999997 213999998"
       ]
      },
      {
       "output_type": "stream",
       "stream": "stdout",
       "text": [
        "\n",
        "test 8,  ppsticks=214000013 213999999 214000000 214000000 213999999 213999998 214000000"
       ]
      },
      {
       "output_type": "stream",
       "stream": "stdout",
       "text": [
        "\n",
        "test 9,  ppsticks=214000009 213999992 213999998 214000000 214000003 214000001 214000000"
       ]
      },
      {
       "output_type": "stream",
       "stream": "stdout",
       "text": [
        "\n",
        "test 10,  ppsticks=214000003 214000000 213999997 213999999 213999999 213999999 213999999"
       ]
      },
      {
       "output_type": "stream",
       "stream": "stdout",
       "text": [
        "\n",
        "test 11,  ppsticks=214000003 214000001 214000000 213999998 213999999 213999998 214000000"
       ]
      },
      {
       "output_type": "stream",
       "stream": "stdout",
       "text": [
        "\n",
        "test 12,  ppsticks=214000002 213999999 214000000 213999999 213999998 213999999 213999998"
       ]
      },
      {
       "output_type": "stream",
       "stream": "stdout",
       "text": [
        "\n",
        "test 13,  ppsticks=214000000 213999998 213999998 213999998 213999998 213999997 213999999"
       ]
      },
      {
       "output_type": "stream",
       "stream": "stdout",
       "text": [
        "\n",
        "On digitiser 101, Error performing digitiser command: sensor-value l-band.deng.pps.ticks | grep nominal"
       ]
      },
      {
       "output_type": "stream",
       "stream": "stdout",
       "text": [
        "\n",
        "\n",
        "test 14,  ppsticks=-1 213999998 214000000 213999998 213999998 213999997 213999997"
       ]
      },
      {
       "output_type": "stream",
       "stream": "stdout",
       "text": [
        "\n",
        "test 15,  ppsticks=214000011 214000000 213999999 214000000 213999999 214000000 214000000"
       ]
      },
      {
       "output_type": "stream",
       "stream": "stdout",
       "text": [
        "\n",
        "test 16,  ppsticks=213999994 213999996 213999998 213999999 213999998 214000001 214000000"
       ]
      },
      {
       "output_type": "stream",
       "stream": "stdout",
       "text": [
        "\n",
        "test 17,  ppsticks=213999986 213999998 214000000 213999997 213999999 213999999 213999998"
       ]
      },
      {
       "output_type": "stream",
       "stream": "stdout",
       "text": [
        "\n",
        "test 18,  ppsticks=213999996 213999998 213999998 213999999 213999999 214000000 214000000"
       ]
      },
      {
       "output_type": "stream",
       "stream": "stdout",
       "text": [
        "\n",
        "test 19,  ppsticks=214000000 214000000 214000001 213999999 213999998 213999998 213999999"
       ]
      },
      {
       "output_type": "stream",
       "stream": "stdout",
       "text": [
        "\n",
        "test 20,  ppsticks=214000010 213999999 213999998 214000000 213999999 213999990 213999998"
       ]
      },
      {
       "output_type": "stream",
       "stream": "stdout",
       "text": [
        "\n",
        "On digitiser 101, Error performing digitiser command: sensor-value l-band.deng.pps.ticks | grep nominal"
       ]
      },
      {
       "output_type": "stream",
       "stream": "stdout",
       "text": [
        "\n",
        "\n",
        "test 21,  ppsticks=-1 213999999 214000000 214000000 213999999 214000005 213999998"
       ]
      },
      {
       "output_type": "stream",
       "stream": "stdout",
       "text": [
        "\n",
        "test 22,  ppsticks=213999994 213999999 213999999 213999998 213999999 213999996 213999999"
       ]
      },
      {
       "output_type": "stream",
       "stream": "stdout",
       "text": [
        "\n",
        "On digitiser 101, Error performing digitiser command: sensor-value l-band.deng.pps.ticks | grep nominal"
       ]
      },
      {
       "output_type": "stream",
       "stream": "stdout",
       "text": [
        "\n",
        "\n",
        "test 23,  ppsticks=-1 214000000 213999999 214000001 213999998 213999996 213999999"
       ]
      },
      {
       "output_type": "stream",
       "stream": "stdout",
       "text": [
        "\n",
        "test 24,  ppsticks=214000005 213999999 214000000 213999999 213999999 213999999 214000001"
       ]
      },
      {
       "output_type": "stream",
       "stream": "stdout",
       "text": [
        "\n",
        "test 25,  ppsticks=214000006 213999999 213999999 214000001 213999999 213999999 213999999"
       ]
      },
      {
       "output_type": "stream",
       "stream": "stdout",
       "text": [
        "\n",
        "On digitiser 101, Error performing digitiser command: sensor-value l-band.deng.pps.ticks | grep nominal"
       ]
      },
      {
       "output_type": "stream",
       "stream": "stdout",
       "text": [
        "\n",
        "\n",
        "test 26,  ppsticks=-1 214000000 214000001 214000002 213999999 214000000 214000002"
       ]
      },
      {
       "output_type": "stream",
       "stream": "stdout",
       "text": [
        "\n",
        "test 27,  ppsticks=213999985 213999999 213999998 213999999 214000000 214000001 214000001"
       ]
      },
      {
       "output_type": "stream",
       "stream": "stdout",
       "text": [
        "\n",
        "test 28,  ppsticks=214000009 213999999 214000000 213999998 213999995 214000008 214000001"
       ]
      },
      {
       "output_type": "stream",
       "stream": "stdout",
       "text": [
        "\n",
        "test 29,  ppsticks=214000014 214000000 213999999 214000000 213999998 214000000 214000000"
       ]
      },
      {
       "output_type": "stream",
       "stream": "stdout",
       "text": [
        "\n",
        "test 30,  ppsticks=214000005 213999999 213999998 214000000 214000003 213999998 213999999"
       ]
      },
      {
       "output_type": "stream",
       "stream": "stdout",
       "text": [
        "\n",
        "On digitiser 101, Error performing digitiser command: sensor-value l-band.deng.pps.ticks | grep nominal"
       ]
      },
      {
       "output_type": "stream",
       "stream": "stdout",
       "text": [
        "\n",
        "\n",
        "test 31,  ppsticks=-1 214000000 213999999 214000000 213999999 213999998 213999999"
       ]
      },
      {
       "output_type": "stream",
       "stream": "stdout",
       "text": [
        "\n",
        "test 32,  ppsticks=214000014 213999999 214000002 213999998 214000000 214000000 213999998"
       ]
      },
      {
       "output_type": "stream",
       "stream": "stdout",
       "text": [
        "\n",
        "test 33,  ppsticks=214000008 214000001 213999999 214000000 213999999 213999999 213999999"
       ]
      },
      {
       "output_type": "stream",
       "stream": "stdout",
       "text": [
        "\n",
        "test 34,  ppsticks=214000002 213999997 214000000 214000000 214000000 213999997 213999998"
       ]
      },
      {
       "output_type": "stream",
       "stream": "stdout",
       "text": [
        "\n",
        "test 35,  ppsticks=214000011 213999999 214000001 213999999 214000000 213999996 213999999"
       ]
      },
      {
       "output_type": "stream",
       "stream": "stdout",
       "text": [
        "\n",
        "test 36,  ppsticks=214000000 213999999 214000000 214000000 214000000 213999998 214000001"
       ]
      },
      {
       "output_type": "stream",
       "stream": "stdout",
       "text": [
        "\n",
        "test 37,  ppsticks=214000004 213999999 213999998 214000000 214000000 214000000 214000001"
       ]
      },
      {
       "output_type": "stream",
       "stream": "stdout",
       "text": [
        "\n",
        "test 38,  ppsticks=214000001 213999998 213999999 213999997 214000001 214000005 213999999"
       ]
      },
      {
       "output_type": "stream",
       "stream": "stdout",
       "text": [
        "\n",
        "test 39,  ppsticks=214000011 213999996 213999998 213999999 214000000 214000000 213999998"
       ]
      },
      {
       "output_type": "stream",
       "stream": "stdout",
       "text": [
        "\n",
        "test 40,  ppsticks=213999999 213999999 213999998 213999997 213999999 214000000 214000000"
       ]
      },
      {
       "output_type": "stream",
       "stream": "stdout",
       "text": [
        "\n",
        "test 41,  ppsticks=214000006 214000000 213999999 213999996 213999998 214000000 213999997"
       ]
      },
      {
       "output_type": "stream",
       "stream": "stdout",
       "text": [
        "\n",
        "test 42,  ppsticks=214000009 213999999 213999998 213999996 213999999 214000004 213999997"
       ]
      },
      {
       "output_type": "stream",
       "stream": "stdout",
       "text": [
        "\n",
        "test 43,  ppsticks=214000007 214000001 213999999 213999998 213999998 214000001 213999998"
       ]
      },
      {
       "output_type": "stream",
       "stream": "stdout",
       "text": [
        "\n",
        "test 44,  ppsticks=213999989 213999999 213999999 213999998 214000001 213999996 213999999"
       ]
      },
      {
       "output_type": "stream",
       "stream": "stdout",
       "text": [
        "\n",
        "test 45,  ppsticks=214000003 213999999 214000000 213999999 213999998 214000001 213999998"
       ]
      },
      {
       "output_type": "stream",
       "stream": "stdout",
       "text": [
        "\n",
        "On digitiser 101, Error performing digitiser command: sensor-value l-band.deng.pps.ticks | grep nominal"
       ]
      },
      {
       "output_type": "stream",
       "stream": "stdout",
       "text": [
        "\n",
        "\n",
        "test 46,  ppsticks=-1 213999999 213999999 213999999 214000003 213999999 213999998"
       ]
      },
      {
       "output_type": "stream",
       "stream": "stdout",
       "text": [
        "\n",
        "test 47,  ppsticks=213999994 213999998 214000000 213999999 213999999 213999997 213999997"
       ]
      },
      {
       "output_type": "stream",
       "stream": "stdout",
       "text": [
        "\n",
        "test 48,  ppsticks=213999994 213999998 213999999 214000002 213999999 213999999 213999999"
       ]
      },
      {
       "output_type": "stream",
       "stream": "stdout",
       "text": [
        "\n",
        "test 49,  ppsticks=214000000 213999999 213999999 213999999 213999998 214000000 213999998"
       ]
      },
      {
       "output_type": "stream",
       "stream": "stdout",
       "text": [
        "\n",
        "test 50,  ppsticks=213999998 213999998 213999999 213999997 213999993 213999998 214000000"
       ]
      },
      {
       "output_type": "stream",
       "stream": "stdout",
       "text": [
        "\n",
        "test 51,  ppsticks=213999985 214000000 213999998 213999999 214000000 213999999 213999999"
       ]
      },
      {
       "output_type": "stream",
       "stream": "stdout",
       "text": [
        "\n",
        "test 52,  ppsticks=213999990 213999999 213999999 213999998 214000001 213999997 213999999"
       ]
      },
      {
       "output_type": "stream",
       "stream": "stdout",
       "text": [
        "\n",
        "On digitiser 101, Error performing digitiser command: sensor-value l-band.deng.pps.ticks | grep nominal"
       ]
      },
      {
       "output_type": "stream",
       "stream": "stdout",
       "text": [
        "\n",
        "\n",
        "test 53,  ppsticks=-1 214000000 213999999 213999998 213999998 213999995 213999999"
       ]
      },
      {
       "output_type": "stream",
       "stream": "stdout",
       "text": [
        "\n",
        "test 54,  ppsticks=214000002 214000000 213999999 213999997 213999999 214000001 213999997"
       ]
      },
      {
       "output_type": "stream",
       "stream": "stdout",
       "text": [
        "\n",
        "test 55,  ppsticks=214000000 214000009 213999999 214000002 213999999 213999997 213999999"
       ]
      },
      {
       "output_type": "stream",
       "stream": "stdout",
       "text": [
        "\n",
        "test 56,  ppsticks=213999997 213999999 214000000 213999999 213999998 214000000 214000000"
       ]
      },
      {
       "output_type": "stream",
       "stream": "stdout",
       "text": [
        "\n",
        "test 57,  ppsticks=214000006 214000000 214000000 214000000 213999997 213999999 213999999"
       ]
      },
      {
       "output_type": "stream",
       "stream": "stdout",
       "text": [
        "\n",
        "test 58,  ppsticks=214000005 214000001 213999999 214000000 214000000 214000000 213999999"
       ]
      },
      {
       "output_type": "stream",
       "stream": "stdout",
       "text": [
        "\n",
        "On digitiser 101, Error performing digitiser command: sensor-value l-band.deng.pps.ticks | grep nominal"
       ]
      },
      {
       "output_type": "stream",
       "stream": "stdout",
       "text": [
        "\n",
        "\n",
        "test 59,  ppsticks=-1 214000001 213999998 213999998 213999998 214000000 213999999"
       ]
      },
      {
       "output_type": "stream",
       "stream": "stdout",
       "text": [
        "\n",
        "test 60,  ppsticks=213999991 214000000 214000000 213999999 213999999 213999998 213999998"
       ]
      },
      {
       "output_type": "stream",
       "stream": "stdout",
       "text": [
        "\n",
        "test 61,  ppsticks=213999997 213999998 213999998 213999999 213999999 214000003 213999999"
       ]
      },
      {
       "output_type": "stream",
       "stream": "stdout",
       "text": [
        "\n",
        "test 62,  ppsticks=214000003 214000000 214000000 213999998 213999998 213999999 213999999"
       ]
      },
      {
       "output_type": "stream",
       "stream": "stdout",
       "text": [
        "\n",
        "test 63,  ppsticks=213999989 213999998 213999999 213999999 213999999 214000001 213999998"
       ]
      },
      {
       "output_type": "stream",
       "stream": "stdout",
       "text": [
        "\n",
        "On digitiser 101, Error performing digitiser command: sensor-value l-band.deng.pps.ticks | grep nominal"
       ]
      },
      {
       "output_type": "stream",
       "stream": "stdout",
       "text": [
        "\n",
        "\n",
        "test 64,  ppsticks=-1 213999999 214000000 213999998 213999997 213999999 213999998"
       ]
      },
      {
       "output_type": "stream",
       "stream": "stdout",
       "text": [
        "\n",
        "test 65,  ppsticks=214000001 213999999 213999998 214000001 213999999 214000000 213999999"
       ]
      },
      {
       "output_type": "stream",
       "stream": "stdout",
       "text": [
        "\n",
        "test 66,  ppsticks=213999998 213999997 213999998 213999998 213999999 214000005 213999999"
       ]
      },
      {
       "output_type": "stream",
       "stream": "stdout",
       "text": [
        "\n",
        "test 67,  ppsticks=214000006 213999998 213999998 214000000 213999998 213999997 213999999"
       ]
      },
      {
       "output_type": "stream",
       "stream": "stdout",
       "text": [
        "\n",
        "test 68,  ppsticks=213999985 213999999 214000000 213999998 213999998 214000000 213999999"
       ]
      },
      {
       "output_type": "stream",
       "stream": "stdout",
       "text": [
        "\n",
        "test 69,  ppsticks=214000000 213999999 213999999 213999998 213999998 213999998 214000001"
       ]
      },
      {
       "output_type": "stream",
       "stream": "stdout",
       "text": [
        "\n",
        "test 70,  ppsticks=213999992 213999999 213999998 213999999 214000001 213999996 213999999"
       ]
      },
      {
       "output_type": "stream",
       "stream": "stdout",
       "text": [
        "\n",
        "test 71,  ppsticks=213999986 214000004 213999999 214000000 214000003 214000000 213999999"
       ]
      },
      {
       "output_type": "stream",
       "stream": "stdout",
       "text": [
        "\n",
        "test 72,  ppsticks=213999993 214000004 213999997 213999998 213999999 213999998 213999999"
       ]
      },
      {
       "output_type": "stream",
       "stream": "stdout",
       "text": [
        "\n",
        "On digitiser 101, Error performing digitiser command: sensor-value l-band.deng.pps.ticks | grep nominal"
       ]
      },
      {
       "output_type": "stream",
       "stream": "stdout",
       "text": [
        "\n",
        "\n",
        "test 73,  ppsticks=-1 214000000 214000000 214000000 213999999 213999996 213999998"
       ]
      },
      {
       "output_type": "stream",
       "stream": "stdout",
       "text": [
        "\n",
        "test 74,  ppsticks=214000009 213999999 214000000 213999999 213999999 214000001 213999999"
       ]
      },
      {
       "output_type": "stream",
       "stream": "stdout",
       "text": [
        "\n",
        "test 75,  ppsticks=213999992 213999999 213999998 214000001 213999999 214000001 213999999"
       ]
      },
      {
       "output_type": "stream",
       "stream": "stdout",
       "text": [
        "\n",
        "On digitiser 101, Error performing digitiser command: sensor-value l-band.deng.pps.ticks | grep nominal"
       ]
      },
      {
       "output_type": "stream",
       "stream": "stdout",
       "text": [
        "\n",
        "\n",
        "test 76,  ppsticks=-1 213999999 213999999 213999999 214000004 213999999 213999999"
       ]
      },
      {
       "output_type": "stream",
       "stream": "stdout",
       "text": [
        "\n",
        "On digitiser 101, Error performing digitiser command: sensor-value l-band.deng.pps.ticks | grep nominal"
       ]
      },
      {
       "output_type": "stream",
       "stream": "stdout",
       "text": [
        "\n",
        "\n",
        "On digitiser 31, Error performing digitiser command: sensor-value l-band.deng.pps.ticks | grep nominal"
       ]
      },
      {
       "output_type": "stream",
       "stream": "stdout",
       "text": [
        "\n",
        "\n",
        "test 77,  ppsticks=-1 213999999 213999998 213999996 213999998 -1 213999998"
       ]
      },
      {
       "output_type": "stream",
       "stream": "stdout",
       "text": [
        "\n",
        "On digitiser 31, Error performing digitiser command: sensor-value l-band.deng.pps.ticks | grep nominal"
       ]
      },
      {
       "output_type": "stream",
       "stream": "stdout",
       "text": [
        "\n",
        "\n",
        "test 78,  ppsticks=214000004 213999999 213999999 213999997 213999999 -1 213999999"
       ]
      },
      {
       "output_type": "stream",
       "stream": "stdout",
       "text": [
        "\n",
        "On digitiser 31, Error performing digitiser command: sensor-value l-band.deng.pps.ticks | grep nominal"
       ]
      },
      {
       "output_type": "stream",
       "stream": "stdout",
       "text": [
        "\n",
        "\n",
        "test 79,  ppsticks=213999987 213999998 213999998 213999998 213999999 -1 214000000"
       ]
      },
      {
       "output_type": "stream",
       "stream": "stdout",
       "text": [
        "\n",
        "On digitiser 31, Error performing digitiser command: sensor-value l-band.deng.pps.ticks | grep nominal"
       ]
      },
      {
       "output_type": "stream",
       "stream": "stdout",
       "text": [
        "\n",
        "\n",
        "test 80,  ppsticks=214000006 213999998 213999999 213999999 214000002 -1 213999998"
       ]
      },
      {
       "ename": "KeyboardInterrupt",
       "evalue": "",
       "output_type": "pyerr",
       "traceback": [
        "\u001b[1;31m---------------------------------------------------------------------------\u001b[0m\n\u001b[1;31mKeyboardInterrupt\u001b[0m                         Traceback (most recent call last)",
        "\u001b[1;32m<ipython-input-6-ad2061ace76b>\u001b[0m in \u001b[0;36m<module>\u001b[1;34m()\u001b[0m\n\u001b[0;32m     18\u001b[0m     \u001b[0mallpps7\u001b[0m\u001b[1;33m.\u001b[0m\u001b[0mappend\u001b[0m\u001b[1;33m(\u001b[0m\u001b[0mpps\u001b[0m\u001b[1;33m)\u001b[0m\u001b[1;33m\u001b[0m\u001b[0m\n\u001b[0;32m     19\u001b[0m     \u001b[1;32mprint\u001b[0m\u001b[1;33m(\u001b[0m\u001b[1;34m'test %i,  ppsticks=%i %i %i %i %i %i %i'\u001b[0m \u001b[1;33m%\u001b[0m \u001b[1;33m(\u001b[0m\u001b[0ma\u001b[0m\u001b[1;33m,\u001b[0m\u001b[0mpps\u001b[0m\u001b[1;33m[\u001b[0m\u001b[1;36m0\u001b[0m\u001b[1;33m]\u001b[0m\u001b[1;33m,\u001b[0m\u001b[0mpps\u001b[0m\u001b[1;33m[\u001b[0m\u001b[1;36m1\u001b[0m\u001b[1;33m]\u001b[0m\u001b[1;33m,\u001b[0m\u001b[0mpps\u001b[0m\u001b[1;33m[\u001b[0m\u001b[1;36m2\u001b[0m\u001b[1;33m]\u001b[0m\u001b[1;33m,\u001b[0m\u001b[0mpps\u001b[0m\u001b[1;33m[\u001b[0m\u001b[1;36m3\u001b[0m\u001b[1;33m]\u001b[0m\u001b[1;33m,\u001b[0m\u001b[0mpps\u001b[0m\u001b[1;33m[\u001b[0m\u001b[1;36m4\u001b[0m\u001b[1;33m]\u001b[0m\u001b[1;33m,\u001b[0m\u001b[0mpps\u001b[0m\u001b[1;33m[\u001b[0m\u001b[1;36m5\u001b[0m\u001b[1;33m]\u001b[0m\u001b[1;33m,\u001b[0m\u001b[0mpps\u001b[0m\u001b[1;33m[\u001b[0m\u001b[1;36m6\u001b[0m\u001b[1;33m]\u001b[0m\u001b[1;33m)\u001b[0m \u001b[1;33m)\u001b[0m\u001b[1;33m\u001b[0m\u001b[0m\n\u001b[1;32m---> 20\u001b[1;33m     \u001b[0mtime\u001b[0m\u001b[1;33m.\u001b[0m\u001b[0msleep\u001b[0m\u001b[1;33m(\u001b[0m\u001b[1;36m30\u001b[0m\u001b[1;33m)\u001b[0m\u001b[1;33m\u001b[0m\u001b[0m\n\u001b[0m",
        "\u001b[1;31mKeyboardInterrupt\u001b[0m: "
       ]
      },
      {
       "output_type": "stream",
       "stream": "stdout",
       "text": [
        "\n"
       ]
      }
     ],
     "prompt_number": 6
    },
    {
     "cell_type": "code",
     "collapsed": false,
     "input": [
      "# Load PPS results from a file\n",
      "allpps7=genfromtxt('pps.csv',dtype='int',delimiter=',')\n",
      "allpps7"
     ],
     "language": "python",
     "metadata": {},
     "outputs": [
      {
       "output_type": "pyout",
       "prompt_number": 17,
       "text": [
        "array([[214000010, 213999992, 214000007, ..., 213999999, 214000000,\n",
        "        214000001],\n",
        "       [214000002, 213999992, 213999995, ..., 213999999, 214000000,\n",
        "        214000001],\n",
        "       [214000002, 213999989, 213999995, ..., 213999999, 213999999,\n",
        "        214000000],\n",
        "       ..., \n",
        "       [213999998, 213999998, 213999997, ..., 214000000, 213999999,\n",
        "        214000003],\n",
        "       [214000002, 214000000, 214000000, ..., 213999999, 214000000,\n",
        "        213999999],\n",
        "       [214000005, 213999996, 214000002, ..., 213999998, 213999999,\n",
        "        213999999]])"
       ]
      }
     ],
     "prompt_number": 17
    },
    {
     "cell_type": "markdown",
     "metadata": {},
     "source": [
      "Plot some histograms from the data gathered above\n",
      "--------------------"
     ]
    },
    {
     "cell_type": "code",
     "collapsed": false,
     "input": [
      "# plot some histograms\n",
      "lab=['lab1','m063','m062','m024','m025','m031','m034'];  col=['b','g','r','c','m','y','k'];\n",
      "\n",
      "fig,ax=subplots(nrows=1,ncols=7,figsize=(18,3),sharey=True)\n",
      "for a in range(7):\n",
      "    stdtemp = np.std( (np.array(allpps7)[:,a]-214000000)/214.0e6*1.0e9 );\n",
      "    #print('Digitiser %s   Std = %4.1f ns' % (lab[a], stdtemp ) )\n",
      "    lab[a]='%s  std %4.1f ns' % (lab[a],stdtemp)\n",
      "    ax[a].hist((np.array(allpps7)[:,a]-214000000)/214.0e6*1.0e9,bins=np.arange(-59,59,1.0*4.672),alpha=0.8,rwidth=30,label=lab,lw=0,color=col[a])\n",
      "    ax[a].set_title(lab[a]); ax[a].tick_params(left='off',labelleft='off',right='off')\n",
      "\n",
      "print('%i samples on each of 7 digitisers' % shape(allpps7)[0] );\n",
      "#figure(figsize=(16,4))\n",
      "#hist((np.array(allpps7)-214000000)/214.0e6*1.0e9,bins=np.arange(-68,68,4.672),alpha=0.8,align='mid',rwidth=30,label=lab,lw=0,color=col)\n",
      "#xlabel('1pps arrival time INTERVAL error, ns');  legend(loc=2); title('1PPS interval error, %i samples on each of 7 digitisers' % shape(allpps7)[0] )\n",
      "    \n",
      "#figure(figsize=(12,4))\n",
      "#hist((np.array(allpps7)-214000000)/214.0e6*1.0e9,bins=np.arange(-68,68,4.672),alpha=0.3,align='mid',rwidth=30,label=lab,lw=0,histtype='stepfilled',color=col)\n",
      "#xlabel('1pps arrival time INTERVAL error, ns');  legend(loc=2); title('1PPS interval error, %i samples on each of 7 digitisers' % shape(allpps7)[0] )\n",
      "\n",
      "#figure(figsize=(12,4))\n",
      "#stdtemp=np.std((np.reshape(np.array(allpps7),-1)-214000000)/214.0e6*1.0e9) / 2.0\n",
      "#hist((np.reshape(np.array(allpps7),-1)-214000000)/214.0e6*1.0e9,bins=np.arange(-68,68,4.672),alpha=0.8,color='k',label='all data (std=%4.1f ns)' % stdtemp)\n",
      "#xlabel('1pps arrival time INTERVAL error, ns');  legend(loc=2); title('1PPS interval error, %i samples on each of 7 digitisers' % shape(allpps7)[0] );\n",
      "\n"
     ],
     "language": "python",
     "metadata": {},
     "outputs": [
      {
       "output_type": "stream",
       "stream": "stdout",
       "text": [
        "377 samples on each of 7 digitisers\n"
       ]
      },
      {
       "output_type": "display_data",
       "png": "[encoded data removed]"
      }
     ],
     "prompt_number": 7
    },
    {
     "cell_type": "code",
     "collapsed": false,
     "input": [
      "# plot some histograms again, this time removing m031's random figures\n",
      "lab=['lab1','m063','m062','m024','m025','m031','m034'];  col=['b','g','r','c','m','y','k'];\n",
      "\n",
      "fig,ax=subplots(nrows=1,ncols=7,figsize=(18,3),sharey=True)\n",
      "for a in range(7):\n",
      "    stdtemp = np.std( (allpps7[:,a]-allpps7[:,5])/214.0e6*1.0e9 );\n",
      "    #print('Digitiser %s   Std = %4.1f ns' % (lab[a], stdtemp ) )\n",
      "    lab[a]='%s  std %4.1f ns' % (lab[a],stdtemp)\n",
      "    ax[a].hist((allpps7[:,a]-allpps7[:,5])/214.0e6*1.0e9,bins=np.arange(-59,59,1.0*4.672),alpha=0.8,rwidth=30,label=lab,lw=0,color=col[a])\n",
      "    ax[a].set_title(lab[a]); ax[a].tick_params(left='off',labelleft='off',right='off')\n",
      "\n",
      "print('%i samples on each of 7 digitisers, the figures below normalised to m031 being perfect' % shape(allpps7)[0] );\n",
      "#figure(figsize=(16,4))\n",
      "#hist((np.array(allpps7)-214000000)/214.0e6*1.0e9,bins=np.arange(-68,68,4.672),alpha=0.8,align='mid',rwidth=30,label=lab,lw=0,color=col)\n",
      "#xlabel('1pps arrival time INTERVAL error, ns');  legend(loc=2); title('1PPS interval error, %i samples on each of 7 digitisers' % shape(allpps7)[0] )\n",
      "    \n",
      "#figure(figsize=(12,4))\n",
      "#hist((np.array(allpps7)-214000000)/214.0e6*1.0e9,bins=np.arange(-68,68,4.672),alpha=0.3,align='mid',rwidth=30,label=lab,lw=0,histtype='stepfilled',color=col)\n",
      "#xlabel('1pps arrival time INTERVAL error, ns');  legend(loc=2); title('1PPS interval error, %i samples on each of 7 digitisers' % shape(allpps7)[0] )\n",
      "\n",
      "#figure(figsize=(12,4))\n",
      "#stdtemp=np.std((np.reshape(np.array(allpps7),-1)-214000000)/214.0e6*1.0e9) / 2.0\n",
      "#hist((np.reshape(np.array(allpps7),-1)-214000000)/214.0e6*1.0e9,bins=np.arange(-68,68,4.672),alpha=0.8,color='k',label='all data (std=%4.1f ns)' % stdtemp)\n",
      "#xlabel('1pps arrival time INTERVAL error, ns');  legend(loc=2); title('1PPS interval error, %i samples on each of 7 digitisers' % shape(allpps7)[0] );\n"
     ],
     "language": "python",
     "metadata": {},
     "outputs": [
      {
       "output_type": "stream",
       "stream": "stdout",
       "text": [
        "1555 samples on each of 7 digitisers\n"
       ]
      },
      {
       "output_type": "display_data",
       "png": "[encoded data removed]"
      }
     ],
     "prompt_number": 19
    },
    {
     "cell_type": "markdown",
     "metadata": {},
     "source": [
      "Plot from some text files, previously stored information\n",
      "-----------------------------------"
     ]
    },
    {
     "cell_type": "code",
     "collapsed": false,
     "input": [
      "#plotting from files instead\n",
      "lab=['lab','m063','m062','m024','m025','m031','m034'];  col=['b','g','r','c','m','y','k'];\n",
      "\n",
      "fig,ax=subplots(nrows=1,ncols=7,figsize=(18,3),sharey=True)\n",
      "for a,l in enumerate(lab):\n",
      "    try:\n",
      "        pps = [int(line.rstrip('\\n')) for line in open('%spps.txt' % l)]               # read the file\n",
      "        l='%s  std %4.1f ns' % (l,np.std( (np.array(pps)-214000000)/214.0e6*1.0e9 ))   # add the stdev to the chart label, if appropriate\n",
      "        ax[a].hist((np.array(pps)-214000000)/214.0e6*1.0e9,bins=np.arange(-63,63,1.0*4.672),alpha=0.8,rwidth=30,label=l,lw=0,color=col[a])\n",
      "    except IOError:\n",
      "        pass\n",
      "    finally:\n",
      "        ax[a].set_title(l); ax[a].tick_params(left='off',labelleft='off',right='off')"
     ],
     "language": "python",
     "metadata": {},
     "outputs": [
      {
       "output_type": "display_data",
       "png": "[encoded data removed]"
      }
     ],
     "prompt_number": 269
    },
    {
     "cell_type": "code",
     "collapsed": false,
     "input": [
      "# plot files over time, no effort to keep the axis consistent though\n",
      "\n",
      "lab=['lab','m063','m062','m024','m025','m031','m034'];  col=['b','g','r','c','m','y','k'];\n",
      "\n",
      "w=hamming(100);  w=w/sum(w);                                                               # window function to use\n",
      "\n",
      "figure(figsize=(16,5))\n",
      "for a,l in enumerate(lab):\n",
      "    try:\n",
      "        pps = np.array([int(line.rstrip('\\n')) for line in open('%spps.txt' % l)])         # read the file\n",
      "        pps=np.convolve(pps,w,mode='valid')                                                # smoothing\n",
      "        plot((pps-214000000)/214.0e6*1.0e9,alpha=0.6,label=l,lw=1,color=col[a])            # plotting\n",
      "    except IOError:\n",
      "        pass\n",
      "    finally:\n",
      "        title('pps steps over time, smoothed');  ylabel('pulse-to-pulse time error, ns');  legend(loc=1)\n"
     ],
     "language": "python",
     "metadata": {},
     "outputs": [
      {
       "output_type": "display_data",
       "png": "[encoded data removed]"
      }
     ],
     "prompt_number": 329
    },
    {
     "cell_type": "markdown",
     "metadata": {},
     "source": [
      "Commands to run on CAM ipython to retrieve 1PPS\n",
      "==================="
     ]
    },
    {
     "cell_type": "code",
     "collapsed": false,
     "input": [
      "import katuilib\n",
      "configure()\n",
      "import time\n",
      "\n",
      "a=cam.katstore.req.historical_sensor_data('m063_dig_l_band_deng_pps_ticks', start=1451606400, end=time.time())\n",
      "\n",
      "\n",
      "with open('m063pps.txt', 'w') as file:\n",
      "    for item in a[1]:\n",
      "        file.write(\"{}\\n\".format(int(item.arguments[1][-9:])))\n",
      "\n",
      "\n",
      "\n",
      "scp m063pps.txt tabbott@kat-imager2:.\n",
      "    "
     ],
     "language": "python",
     "metadata": {},
     "outputs": []
    },
    {
     "cell_type": "markdown",
     "metadata": {},
     "source": [
      "Functions to interrogate the digitisers\n",
      "=============================="
     ]
    },
    {
     "cell_type": "code",
     "collapsed": false,
     "input": [
      "\n",
      "def dmcip(receptor):\n",
      "    return {\n",
      "        24: '10.103.254.2:7224',  \n",
      "        25: '10.103.254.2:7225',\n",
      "        31: '10.103.254.2:7231',\n",
      "        34: '10.103.254.2:7234',\n",
      "        62: '10.103.254.2:7262',\n",
      "        63: '10.103.254.2:7263',\n",
      "        101: '192.168.4.36:7201'        \n",
      "    }[receptor]\n",
      "# lab DMC: 192.168.4.36.  AR1: 10.103.254.2,  RTS: .253.2\n",
      "\n",
      "\n",
      "def digitiserCommand(commandString,receptor=63,main=False):\n",
      "    subIP=dmcip(receptor)\n",
      "    mainIP=subIP[:-3] + '147'\n",
      "    \n",
      "    import commands\n",
      "    if main: ip=mainIP\n",
      "    else:  ip=subIP\n",
      "    result=commands.getstatusoutput(\"svn/katcp_devel/cmd/kcpcmd -t 100 -s \" + ip + \" ?\" + commandString);\n",
      "    if result[0]>0:\n",
      "        print('On digitiser %i, Error performing digitiser command: %s' % (receptor,commandString))\n",
      "        print(result[1])\n",
      "    return result\n",
      "\n"
     ],
     "language": "python",
     "metadata": {},
     "outputs": [],
     "prompt_number": 2
    },
    {
     "cell_type": "code",
     "collapsed": false,
     "input": [],
     "language": "python",
     "metadata": {},
     "outputs": [],
     "prompt_number": 7
    },
    {
     "cell_type": "code",
     "collapsed": false,
     "input": [],
     "language": "python",
     "metadata": {},
     "outputs": []
    }
   ],
   "metadata": {}
  }
 ]
}